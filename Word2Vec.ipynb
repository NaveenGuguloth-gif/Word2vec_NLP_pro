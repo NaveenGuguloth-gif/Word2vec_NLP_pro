{
 "cells": [
  {
   "cell_type": "code",
   "execution_count": null,
   "id": "0ea9fb12",
   "metadata": {},
   "outputs": [],
   "source": [
    "!pip install gensim"
   ]
  },
  {
   "cell_type": "code",
   "execution_count": 2,
   "id": "6ae4aabc",
   "metadata": {},
   "outputs": [],
   "source": [
    "import gensim\n",
    "import os"
   ]
  },
  {
   "cell_type": "code",
   "execution_count": 3,
   "id": "01e53d05",
   "metadata": {},
   "outputs": [],
   "source": [
    "from nltk import sent_tokenize\n",
    "from gensim.utils import simple_preprocess"
   ]
  },
  {
   "cell_type": "code",
   "execution_count": 4,
   "id": "7cb7c01c",
   "metadata": {},
   "outputs": [
    {
     "name": "stderr",
     "output_type": "stream",
     "text": [
      "[nltk_data] Downloading package stopwords to /home/naveen/nltk_data...\n",
      "[nltk_data]   Package stopwords is already up-to-date!\n"
     ]
    }
   ],
   "source": [
    "import os\n",
    "from nltk.tokenize import sent_tokenize\n",
    "from gensim.utils import simple_preprocess\n",
    "from nltk.corpus import stopwords\n",
    "\n",
    "# Make sure stopwords are downloaded\n",
    "import nltk\n",
    "nltk.download('stopwords')\n",
    "\n",
    "stop_words = set(stopwords.words('english'))\n",
    "\n",
    "story = []\n",
    "\n",
    "for filename in os.listdir('data'):\n",
    "    filepath = os.path.join('data', filename)\n",
    "    with open(filepath, encoding='utf-8', errors='replace') as f:\n",
    "        corpus = f.read()\n",
    "    \n",
    "    raw_sent = sent_tokenize(corpus)\n",
    "    for sent in raw_sent:\n",
    "        tokens = simple_preprocess(sent)  # tokenize + lowercase + remove punctuation\n",
    "        filtered_tokens = [word for word in tokens if word not in stop_words]# remove stop_words\n",
    "        story.append(filtered_tokens)\n"
   ]
  },
  {
   "cell_type": "code",
   "execution_count": 5,
   "id": "3d86619b",
   "metadata": {},
   "outputs": [
    {
     "data": {
      "text/plain": [
       "145020"
      ]
     },
     "execution_count": 5,
     "metadata": {},
     "output_type": "execute_result"
    }
   ],
   "source": [
    "len(story)"
   ]
  },
  {
   "cell_type": "code",
   "execution_count": 6,
   "id": "a617cf43",
   "metadata": {},
   "outputs": [
    {
     "data": {
      "text/plain": [
       "[['game',\n",
       "  'thrones',\n",
       "  'book',\n",
       "  'one',\n",
       "  'song',\n",
       "  'ice',\n",
       "  'fire',\n",
       "  'george',\n",
       "  'martin',\n",
       "  'prologue',\n",
       "  'start',\n",
       "  'back',\n",
       "  'gared',\n",
       "  'urged',\n",
       "  'woods',\n",
       "  'began',\n",
       "  'grow',\n",
       "  'dark',\n",
       "  'around'],\n",
       " ['wildlings', 'dead'],\n",
       " ['dead', 'frighten'],\n",
       " ['ser', 'waymar', 'royce', 'asked', 'hint', 'smile'],\n",
       " ['gared', 'rise', 'bait'],\n",
       " ['old', 'man', 'past', 'fifty', 'seen', 'lordlings', 'come', 'go'],\n",
       " ['dead', 'dead', 'said'],\n",
       " ['business', 'dead'],\n",
       " ['dead'],\n",
       " ['royce', 'asked', 'softly'],\n",
       " ['proof'],\n",
       " ['saw', 'gared', 'said'],\n",
       " ['says', 'dead', 'proof', 'enough'],\n",
       " ['known', 'would', 'drag', 'quarrel', 'sooner', 'later'],\n",
       " ['wished', 'later', 'rather', 'sooner'],\n",
       " ['mother', 'told', 'dead', 'men', 'sing', 'songs', 'put'],\n",
       " ['wet', 'nurse', 'said', 'thing', 'royce', 'replied'],\n",
       " ['never', 'believe', 'anything', 'hear', 'woman', 'tit'],\n",
       " ['things', 'learned', 'even', 'dead'],\n",
       " ['voice', 'echoed', 'loud', 'twilit', 'forest'],\n",
       " ['page', 'long', 'ride', 'us', 'gared', 'pointed'],\n",
       " ['eight', 'days', 'maybe', 'nine'],\n",
       " ['night', 'falling'],\n",
       " ['ser', 'waymar', 'royce', 'glanced', 'sky', 'disinterest'],\n",
       " ['every', 'day', 'time'],\n",
       " ['unmanned', 'dark', 'gared'],\n",
       " ['could',\n",
       "  'see',\n",
       "  'tightness',\n",
       "  'around',\n",
       "  'gared',\n",
       "  'mouth',\n",
       "  'barely',\n",
       "  'sup',\n",
       "  'pressed',\n",
       "  'anger',\n",
       "  'eyes',\n",
       "  'thick',\n",
       "  'black',\n",
       "  'hood',\n",
       "  'cloak'],\n",
       " ['gared',\n",
       "  'spent',\n",
       "  'forty',\n",
       "  'years',\n",
       "  'night',\n",
       "  'watch',\n",
       "  'man',\n",
       "  'boy',\n",
       "  'accustomed',\n",
       "  'made',\n",
       "  'light'],\n",
       " ['yet'],\n",
       " ['wounded', 'pride', 'could', 'sense', 'something', 'else', 'older', 'man'],\n",
       " ['could', 'taste', 'nervous', 'tension', 'came', 'perilous', 'close', 'fear'],\n",
       " ['shared', 'unease'],\n",
       " ['four', 'years', 'wall'],\n",
       " ['first',\n",
       "  'time',\n",
       "  'sent',\n",
       "  'beyond',\n",
       "  'old',\n",
       "  'stories',\n",
       "  'come',\n",
       "  'rushing',\n",
       "  'back',\n",
       "  'bowels',\n",
       "  'turned',\n",
       "  'water'],\n",
       " ['laughed', 'afterward'],\n",
       " ['veteran',\n",
       "  'hundred',\n",
       "  'rangings',\n",
       "  'endless',\n",
       "  'dark',\n",
       "  'wilderness',\n",
       "  'southron',\n",
       "  'called',\n",
       "  'haunted',\n",
       "  'forest',\n",
       "  'terrors'],\n",
       " ['tonight'],\n",
       " ['something', 'different', 'tonight'],\n",
       " ['edge', 'darkness', 'made', 'hackles', 'rise'],\n",
       " ['nine',\n",
       "  'days',\n",
       "  'riding',\n",
       "  'north',\n",
       "  'northwest',\n",
       "  'north',\n",
       "  'farther',\n",
       "  'farther',\n",
       "  'wall',\n",
       "  'hard',\n",
       "  'track',\n",
       "  'band',\n",
       "  'wildling',\n",
       "  'raiders'],\n",
       " ['day', 'worse', 'day', 'come'],\n",
       " ['today', 'worst'],\n",
       " ['cold',\n",
       "  'wind',\n",
       "  'blowing',\n",
       "  'north',\n",
       "  'made',\n",
       "  'trees',\n",
       "  'rustle',\n",
       "  'like',\n",
       "  'living',\n",
       "  'things'],\n",
       " ['day',\n",
       "  'felt',\n",
       "  'though',\n",
       "  'something',\n",
       "  'watching',\n",
       "  'something',\n",
       "  'cold',\n",
       "  'implacable',\n",
       "  'loved'],\n",
       " ['gared', 'felt'],\n",
       " ['wanted',\n",
       "  'nothing',\n",
       "  'much',\n",
       "  'ride',\n",
       "  'hellbent',\n",
       "  'safety',\n",
       "  'wall',\n",
       "  'feeling',\n",
       "  'share',\n",
       "  'commander'],\n",
       " ['especially', 'commander', 'like', 'one'],\n",
       " ['ser',\n",
       "  'waymar',\n",
       "  'royce',\n",
       "  'youngest',\n",
       "  'son',\n",
       "  'ancient',\n",
       "  'house',\n",
       "  'many',\n",
       "  'heirs'],\n",
       " ['handsome',\n",
       "  'youth',\n",
       "  'eighteen',\n",
       "  'grey',\n",
       "  'eyed',\n",
       "  'graceful',\n",
       "  'slender',\n",
       "  'knife'],\n",
       " ['mounted',\n",
       "  'huge',\n",
       "  'black',\n",
       "  'destrier',\n",
       "  'knight',\n",
       "  'towered',\n",
       "  'gared',\n",
       "  'smaller',\n",
       "  'garrons'],\n",
       " ['wore',\n",
       "  'black',\n",
       "  'leather',\n",
       "  'boots',\n",
       "  'black',\n",
       "  'woolen',\n",
       "  'pants',\n",
       "  'black',\n",
       "  'moleskin',\n",
       "  'gloves',\n",
       "  'fine',\n",
       "  'supple',\n",
       "  'coat',\n",
       "  'gleaming',\n",
       "  'black',\n",
       "  'ringmail',\n",
       "  'layers',\n",
       "  'black',\n",
       "  'wool',\n",
       "  'boiled',\n",
       "  'leather'],\n",
       " ['ser',\n",
       "  'waymar',\n",
       "  'sworn',\n",
       "  'brother',\n",
       "  'night',\n",
       "  'watch',\n",
       "  'less',\n",
       "  'half',\n",
       "  'year',\n",
       "  'one',\n",
       "  'could',\n",
       "  'say',\n",
       "  'prepared',\n",
       "  'vocation'],\n",
       " ['least', 'insofar', 'wardrobe', 'concerned'],\n",
       " ['cloak', 'crowning', 'glory', 'sable', 'thick', 'black', 'soft', 'sin'],\n",
       " ['bet',\n",
       "  'killed',\n",
       "  'gared',\n",
       "  'told',\n",
       "  'barracks',\n",
       "  'wine',\n",
       "  'twisted',\n",
       "  'little',\n",
       "  'heads',\n",
       "  'mighty',\n",
       "  'warrior'],\n",
       " ['shared', 'laugh'],\n",
       " ['hard',\n",
       "  'take',\n",
       "  'orders',\n",
       "  'man',\n",
       "  'laughed',\n",
       "  'cups',\n",
       "  'reflected',\n",
       "  'sat',\n",
       "  'shivering',\n",
       "  'atop',\n",
       "  'garron'],\n",
       " ['gared', 'must', 'felt'],\n",
       " ['mormont', 'said', 'track', 'gared', 'said'],\n",
       " ['dead'],\n",
       " ['trouble', 'us'],\n",
       " ['hard', 'riding', 'us'],\n",
       " ['like', 'weather'],\n",
       " ['snows', 'could', 'fortnight', 'getting', 'back', 'snow', 'best', 'hope'],\n",
       " ['ever', 'seen', 'ice', 'storm', 'lord'],\n",
       " ['lordling', 'seemed', 'hear'],\n",
       " ['studied',\n",
       "  'deepening',\n",
       "  'twilight',\n",
       "  'half',\n",
       "  'bored',\n",
       "  'half',\n",
       "  'distracted',\n",
       "  'page',\n",
       "  'way'],\n",
       " ['ridden',\n",
       "  'knight',\n",
       "  'long',\n",
       "  'enough',\n",
       "  'understand',\n",
       "  'best',\n",
       "  'interrupt',\n",
       "  'looked',\n",
       "  'like'],\n",
       " ['tell', 'saw'],\n",
       " ['details'],\n",
       " ['leave', 'nothing'],\n",
       " ['hunter', 'joined', 'night', 'watch'],\n",
       " ['well', 'poacher', 'truth'],\n",
       " ['mallister',\n",
       "  'freeriders',\n",
       "  'caught',\n",
       "  'red',\n",
       "  'handed',\n",
       "  'mallisters',\n",
       "  'woods',\n",
       "  'skinning',\n",
       "  'one',\n",
       "  'mallisters',\n",
       "  'bucks',\n",
       "  'choice',\n",
       "  'putting',\n",
       "  'black',\n",
       "  'losing',\n",
       "  'hand'],\n",
       " ['one',\n",
       "  'could',\n",
       "  'move',\n",
       "  'woods',\n",
       "  'silent',\n",
       "  'taken',\n",
       "  'black',\n",
       "  'brothers',\n",
       "  'long',\n",
       "  'discover',\n",
       "  'talent'],\n",
       " ['camp',\n",
       "  'two',\n",
       "  'miles',\n",
       "  'farther',\n",
       "  'ridge',\n",
       "  'hard',\n",
       "  'beside',\n",
       "  'stream',\n",
       "  'said'],\n",
       " ['got', 'close', 'dared'],\n",
       " ['eight', 'men', 'women'],\n",
       " ['children', 'could', 'see'],\n",
       " ['put', 'lean', 'rock'],\n",
       " ['snow', 'pretty', 'well', 'covered', 'could', 'still', 'make'],\n",
       " ['fire', 'burning', 'firepit', 'still', 'plain', 'day'],\n",
       " ['one', 'moving'],\n",
       " ['watched', 'long', 'time'],\n",
       " ['living', 'man', 'ever', 'lay', 'still'],\n",
       " ['see', 'blood'],\n",
       " ['well', 'admitted'],\n",
       " ['see', 'weapons'],\n",
       " ['swords', 'bows'],\n",
       " ['one', 'man', 'axe'],\n",
       " ['heavy', 'looking', 'double', 'bladed', 'cruel', 'piece', 'iron'],\n",
       " ['ground', 'beside', 'right', 'hand'],\n",
       " ['make', 'note', 'position', 'bodies'],\n",
       " ['shrugged'],\n",
       " ['couple', 'sitting', 'rock'],\n",
       " ['ground'],\n",
       " ['fallen', 'like'],\n",
       " ['sleeping', 'royce', 'suggested'],\n",
       " ['fallen', 'insisted'],\n",
       " ['one', 'woman', 'ironwood', 'halfhid', 'branches'],\n",
       " ['far', 'eyes'],\n",
       " ['smiled', 'thinly'],\n",
       " ['took', 'care', 'never', 'saw'],\n",
       " ['got', 'closer', 'saw', 'moving', 'neither'],\n",
       " ['despite', 'shivered'],\n",
       " ['chill'],\n",
       " ['royce', 'asked'],\n",
       " ['muttered'],\n",
       " ['wind', 'lord'],\n",
       " ['young', 'knight', 'turned', 'back', 'grizzled', 'man', 'arms'],\n",
       " ['frostfallen',\n",
       "  'leaves',\n",
       "  'whispered',\n",
       "  'past',\n",
       "  'royce',\n",
       "  'destrier',\n",
       "  'moved',\n",
       "  'restlessly'],\n",
       " ['think', 'might', 'killed', 'men', 'gared'],\n",
       " ['ser', 'waymar', 'asked', 'casually'],\n",
       " ['adjusted', 'drape', 'long', 'sable', 'cloak'],\n",
       " ['cold', 'gared', 'said', 'iron', 'certainty'],\n",
       " ['saw', 'men', 'freeze', 'last', 'winter', 'one', 'half', 'boy'],\n",
       " ['everyone',\n",
       "  'talks',\n",
       "  'snows',\n",
       "  'forty',\n",
       "  'foot',\n",
       "  'deep',\n",
       "  'ice',\n",
       "  'wind',\n",
       "  'comes',\n",
       "  'howling',\n",
       "  'north',\n",
       "  'real',\n",
       "  'enemy',\n",
       "  'cold'],\n",
       " ['steals',\n",
       "  'quieter',\n",
       "  'first',\n",
       "  'shiver',\n",
       "  'teeth',\n",
       "  'chatter',\n",
       "  'stamp',\n",
       "  'feet',\n",
       "  'dream',\n",
       "  'mulled',\n",
       "  'wine',\n",
       "  'nice',\n",
       "  'hot',\n",
       "  'fires'],\n",
       " ['burns'],\n",
       " ['nothing', 'burns', 'like', 'cold'],\n",
       " [],\n",
       " ['gets', 'inside', 'starts', 'fill', 'strength', 'fight'],\n",
       " ['easier', 'sit', 'go', 'sleep'],\n",
       " ['say', 'feel', 'pain', 'toward', 'end'],\n",
       " ['first',\n",
       "  'go',\n",
       "  'weak',\n",
       "  'drowsy',\n",
       "  'everything',\n",
       "  'starts',\n",
       "  'fade',\n",
       "  'like',\n",
       "  'sinking',\n",
       "  'sea',\n",
       "  'warm',\n",
       "  'milk'],\n",
       " ['peaceful', 'like'],\n",
       " ['eloquence', 'gared', 'ser', 'waymar', 'observed'],\n",
       " ['never', 'suspected'],\n",
       " ['page', 'cold', 'lordling'],\n",
       " ['gared',\n",
       "  'pulled',\n",
       "  'back',\n",
       "  'hood',\n",
       "  'giving',\n",
       "  'ser',\n",
       "  'waymar',\n",
       "  'good',\n",
       "  'long',\n",
       "  'look',\n",
       "  'stumps',\n",
       "  'ears'],\n",
       " ['two', 'ears', 'three', 'toes', 'little', 'finger', 'left', 'hand'],\n",
       " ['got', 'light'],\n",
       " ['found', 'brother', 'frozen', 'watch', 'smile', 'face'],\n",
       " ['ser', 'waymar', 'shrugged'],\n",
       " ['ought', 'dress', 'warmly', 'gared'],\n",
       " ['gared',\n",
       "  'glared',\n",
       "  'lordling',\n",
       "  'scars',\n",
       "  'around',\n",
       "  'ear',\n",
       "  'holes',\n",
       "  'flushed',\n",
       "  'red',\n",
       "  'anger',\n",
       "  'maester',\n",
       "  'aemon',\n",
       "  'cut',\n",
       "  'ears',\n",
       "  'away'],\n",
       " ['see', 'warm', 'dress', 'winter', 'comes'],\n",
       " ['pulled', 'hood', 'hunched', 'garron', 'silent', 'sullen'],\n",
       " ['gared', 'said', 'cold'],\n",
       " [],\n",
       " [],\n",
       " ['began'],\n",
       " ['drawn', 'watches', 'past', 'week'],\n",
       " ['yes', 'lord'],\n",
       " ['never', 'week', 'draw', 'dozen', 'bloody', 'watches'],\n",
       " ['man', 'driving'],\n",
       " ['find', 'wall'],\n",
       " ['weeping', 'said', 'frowning'],\n",
       " ['saw', 'clear', 'enough', 'lordling', 'pointed'],\n",
       " ['froze'],\n",
       " ['wall', 'weeping'],\n",
       " ['cold', 'enough'],\n",
       " ['royce', 'nodded'],\n",
       " ['bright', 'lad'],\n",
       " ['light',\n",
       "  'frosts',\n",
       "  'past',\n",
       "  'week',\n",
       "  'quick',\n",
       "  'flurry',\n",
       "  'snow',\n",
       "  'surely',\n",
       "  'cold',\n",
       "  'fierce',\n",
       "  'enough',\n",
       "  'kill',\n",
       "  'eight',\n",
       "  'grown',\n",
       "  'men'],\n",
       " ['men',\n",
       "  'clad',\n",
       "  'fur',\n",
       "  'leather',\n",
       "  'let',\n",
       "  'remind',\n",
       "  'shelter',\n",
       "  'near',\n",
       "  'hand',\n",
       "  'means',\n",
       "  'making',\n",
       "  'fire'],\n",
       " ['knight', 'smile', 'cocksure'],\n",
       " ['lead', 'us'],\n",
       " ['would', 'see', 'dead', 'men'],\n",
       " ['nothing', 'done'],\n",
       " ['order', 'given', 'honor', 'bound', 'obey'],\n",
       " ['went',\n",
       "  'front',\n",
       "  'shaggy',\n",
       "  'little',\n",
       "  'garron',\n",
       "  'picking',\n",
       "  'way',\n",
       "  'carefully',\n",
       "  'undergrowth'],\n",
       " ['light',\n",
       "  'snow',\n",
       "  'fallen',\n",
       "  'night',\n",
       "  'stones',\n",
       "  'roots',\n",
       "  'hidden',\n",
       "  'sinks',\n",
       "  'lying',\n",
       "  'crust',\n",
       "  'waiting',\n",
       "  'careless',\n",
       "  'unwary'],\n",
       " ['ser',\n",
       "  'waymar',\n",
       "  'royce',\n",
       "  'came',\n",
       "  'next',\n",
       "  'great',\n",
       "  'black',\n",
       "  'destrier',\n",
       "  'snorting',\n",
       "  'impatiently'],\n",
       " ['warhorse', 'wrong', 'mount', 'ranging', 'try', 'tell', 'lordling'],\n",
       " ['gared', 'brought', 'rear'],\n",
       " ['old', 'man', 'arms', 'muttered', 'rode'],\n",
       " ['twilight', 'deepened'],\n",
       " ['cloudless',\n",
       "  'sky',\n",
       "  'turned',\n",
       "  'deep',\n",
       "  'purple',\n",
       "  'color',\n",
       "  'old',\n",
       "  'bruise',\n",
       "  'faded',\n",
       "  'black'],\n",
       " ['stars', 'began', 'come'],\n",
       " ['half', 'moon', 'rose'],\n",
       " ['grateful', 'light'],\n",
       " ['make',\n",
       "  'better',\n",
       "  'pace',\n",
       "  'surely',\n",
       "  'royce',\n",
       "  'said',\n",
       "  'moon',\n",
       "  'full',\n",
       "  'risen'],\n",
       " ['horse', 'said'],\n",
       " ['fear', 'made', 'insolent'],\n",
       " ['perhaps', 'lord', 'would', 'care', 'take', 'lead'],\n",
       " ['ser', 'waymar', 'royce', 'deign', 'reply'],\n",
       " ['somewhere', 'wood', 'wolf', 'howled'],\n",
       " ['pulled',\n",
       "  'garron',\n",
       "  'beneath',\n",
       "  'ancient',\n",
       "  'gnarled',\n",
       "  'ironwood',\n",
       "  'dismounted'],\n",
       " ['page', 'stopping'],\n",
       " ['ser', 'waymar', 'asked'],\n",
       " ['best', 'go', 'rest', 'way', 'foot', 'lord'],\n",
       " ['ridge'],\n",
       " ['royce', 'paused', 'moment', 'staring', 'distance', 'face', 'reflective'],\n",
       " ['cold', 'wind', 'whispered', 'trees'],\n",
       " ['great',\n",
       "  'sable',\n",
       "  'cloak',\n",
       "  'stirred',\n",
       "  'behind',\n",
       "  'like',\n",
       "  'something',\n",
       "  'half',\n",
       "  'alive'],\n",
       " ['something', 'wrong', 'gared', 'muttered'],\n",
       " ['young', 'knight', 'gave', 'disdainful', 'smile'],\n",
       " [],\n",
       " ['feel'],\n",
       " ['gared', 'asked'],\n",
       " ['listen', 'darkness'],\n",
       " ['could', 'feel'],\n",
       " ['four', 'years', 'night', 'watch', 'never', 'afraid'],\n",
       " [],\n",
       " ['wind'],\n",
       " ['trees', 'rustling'],\n",
       " ['wolf'],\n",
       " ['sound', 'unmans', 'gared'],\n",
       " ['gared', 'answer', 'royce', 'slid', 'gracefully', 'saddle'],\n",
       " ['tied',\n",
       "  'destrier',\n",
       "  'securely',\n",
       "  'low',\n",
       "  'hanging',\n",
       "  'limb',\n",
       "  'well',\n",
       "  'away',\n",
       "  'horses',\n",
       "  'drew',\n",
       "  'longsword',\n",
       "  'sheath'],\n",
       " ['jewels', 'glittered', 'hilt', 'moonlight', 'ran', 'shining', 'steel'],\n",
       " ['splendid', 'weapon', 'castle', 'forged', 'new', 'made', 'look'],\n",
       " ['doubted', 'ever', 'swung', 'anger'],\n",
       " ['trees', 'press', 'close', 'warned'],\n",
       " ['sword', 'tangle', 'ord'],\n",
       " ['better', 'knife'],\n",
       " ['need', 'instruction', 'ask', 'young', 'lord', 'said'],\n",
       " ['gared', 'stay'],\n",
       " ['guard', 'horses'],\n",
       " ['gared', 'dismounted'],\n",
       " ['need', 'fire'],\n",
       " ['see'],\n",
       " ['big', 'fool', 'old', 'man'],\n",
       " ['enemies', 'wood', 'fire', 'last', 'thing', 'want'],\n",
       " ['enemies', 'fire', 'keep', 'away', 'gared', 'said'],\n",
       " ['bears', 'direwolves', 'things'],\n",
       " [],\n",
       " [],\n",
       " ['ser', 'waymar', 'mouth', 'became', 'hard', 'line'],\n",
       " ['fire'],\n",
       " ['gared',\n",
       "  'hood',\n",
       "  'shadowed',\n",
       "  'face',\n",
       "  'could',\n",
       "  'see',\n",
       "  'hard',\n",
       "  'glitter',\n",
       "  'eyes',\n",
       "  'stared',\n",
       "  'knight'],\n",
       " ['moment', 'afraid', 'older', 'man', 'would', 'go', 'sword'],\n",
       " ['short',\n",
       "  'ugly',\n",
       "  'thing',\n",
       "  'grip',\n",
       "  'discolored',\n",
       "  'sweat',\n",
       "  'edge',\n",
       "  'nicked',\n",
       "  'hard',\n",
       "  'use',\n",
       "  'would',\n",
       "  'given',\n",
       "  'iron',\n",
       "  'bob',\n",
       "  'lordling',\n",
       "  'life',\n",
       "  'gared',\n",
       "  'pulled',\n",
       "  'scabbard'],\n",
       " ['finally', 'gared', 'looked'],\n",
       " ['fire', 'muttered', 'low', 'breath'],\n",
       " ['royce', 'took', 'acquiescence', 'turned', 'away'],\n",
       " ['lead', 'said'],\n",
       " ['threaded',\n",
       "  'way',\n",
       "  'thicket',\n",
       "  'started',\n",
       "  'slope',\n",
       "  'low',\n",
       "  'ridge',\n",
       "  'found',\n",
       "  'vantage',\n",
       "  'point',\n",
       "  'sentinel',\n",
       "  'tree'],\n",
       " ['thin',\n",
       "  'crust',\n",
       "  'snow',\n",
       "  'ground',\n",
       "  'damp',\n",
       "  'muddy',\n",
       "  'slick',\n",
       "  'footing',\n",
       "  'rocks',\n",
       "  'hidden',\n",
       "  'roots',\n",
       "  'trip'],\n",
       " ['made', 'sound', 'climbed'],\n",
       " ['behind',\n",
       "  'heard',\n",
       "  'soft',\n",
       "  'metallic',\n",
       "  'slither',\n",
       "  'lordling',\n",
       "  'ringmail',\n",
       "  'rustle',\n",
       "  'leaves',\n",
       "  'muttered',\n",
       "  'curses',\n",
       "  'reaching',\n",
       "  'branches',\n",
       "  'grabbed',\n",
       "  'longsword',\n",
       "  'tugged',\n",
       "  'splendid',\n",
       "  'sable',\n",
       "  'cloak'],\n",
       " ['great',\n",
       "  'sentinel',\n",
       "  'right',\n",
       "  'top',\n",
       "  'ridge',\n",
       "  'known',\n",
       "  'would',\n",
       "  'lowest',\n",
       "  'branches',\n",
       "  'bare',\n",
       "  'foot',\n",
       "  'ground'],\n",
       " ['slid',\n",
       "  'underneath',\n",
       "  'flat',\n",
       "  'belly',\n",
       "  'snow',\n",
       "  'mud',\n",
       "  'page',\n",
       "  'looked',\n",
       "  'empty',\n",
       "  'clearing'],\n",
       " ['heart', 'stopped', 'chest'],\n",
       " ['moment', 'dared', 'breathe'],\n",
       " ['moonlight',\n",
       "  'shone',\n",
       "  'clearing',\n",
       "  'ashes',\n",
       "  'firepit',\n",
       "  'snow',\n",
       "  'covered',\n",
       "  'lean',\n",
       "  'great',\n",
       "  'rock',\n",
       "  'little',\n",
       "  'half',\n",
       "  'frozen',\n",
       "  'stream'],\n",
       " ['everything', 'hours', 'ago'],\n",
       " ['gone'],\n",
       " ['bodies', 'gone'],\n",
       " ['gods'],\n",
       " ['heard', 'behind'],\n",
       " ['sword', 'slashed', 'branch', 'ser', 'waymar', 'royce', 'gained', 'ridge'],\n",
       " ['stood',\n",
       "  'beside',\n",
       "  'sentinel',\n",
       "  'longsword',\n",
       "  'hand',\n",
       "  'cloak',\n",
       "  'billowing',\n",
       "  'behind',\n",
       "  'wind',\n",
       "  'came',\n",
       "  'outlined',\n",
       "  'nobly',\n",
       "  'stars',\n",
       "  'see'],\n",
       " ['get'],\n",
       " ['whispered', 'urgently'],\n",
       " ['something', 'wrong'],\n",
       " ['royce', 'move'],\n",
       " ['looked', 'empty', 'clearing', 'laughed'],\n",
       " ['dead', 'men', 'seem', 'moved', 'camp'],\n",
       " ['voice', 'abandoned'],\n",
       " ['groped', 'words', 'come'],\n",
       " ['possible'],\n",
       " ['eyes', 'swept', 'back', 'forth', 'abandoned', 'campsite', 'stopped', 'axe'],\n",
       " ['huge',\n",
       "  'double',\n",
       "  'bladed',\n",
       "  'battle',\n",
       "  'axe',\n",
       "  'still',\n",
       "  'lying',\n",
       "  'seen',\n",
       "  'last',\n",
       "  'untouched'],\n",
       " ['valuable', 'weapon'],\n",
       " [],\n",
       " [],\n",
       " ['feet', 'ser', 'waymar', 'commanded'],\n",
       " ['one'],\n",
       " ['hiding', 'bush'],\n",
       " ['reluctantly', 'obeyed'],\n",
       " ['ser', 'waymar', 'looked', 'open', 'disapproval'],\n",
       " ['going', 'back', 'castle', 'black', 'failure', 'first', 'ranging'],\n",
       " ['find', 'men'],\n",
       " ['glanced', 'around'],\n",
       " ['tree'],\n",
       " ['quick'],\n",
       " ['look', 'fire'],\n",
       " ['turned', 'away', 'wordless'],\n",
       " ['use', 'argue'],\n",
       " ['wind', 'moving'],\n",
       " ['cut', 'right'],\n",
       " ['went', 'tree', 'vaulting', 'grey', 'green', 'sentinel', 'began', 'climb'],\n",
       " ['soon', 'hands', 'sticky', 'sap', 'lost', 'among', 'needles'],\n",
       " ['fear', 'filled', 'gut', 'like', 'meal', 'could', 'digest'],\n",
       " ['whispered',\n",
       "  'prayer',\n",
       "  'nameless',\n",
       "  'gods',\n",
       "  'wood',\n",
       "  'slipped',\n",
       "  'dirk',\n",
       "  'free',\n",
       "  'sheath'],\n",
       " ['put', 'teeth', 'keep', 'hands', 'free', 'climbing'],\n",
       " ['taste', 'cold', 'iron', 'mouth', 'gave', 'comfort'],\n",
       " ['lordling', 'called', 'suddenly', 'goes'],\n",
       " ['heard', 'uncertainty', 'challenge'],\n",
       " ['stopped', 'climbing', 'listened', 'watched'],\n",
       " ['woods',\n",
       "  'gave',\n",
       "  'answer',\n",
       "  'rustle',\n",
       "  'leaves',\n",
       "  'icy',\n",
       "  'rush',\n",
       "  'stream',\n",
       "  'distant',\n",
       "  'hoot',\n",
       "  'snow',\n",
       "  'owl'],\n",
       " ['others', 'made', 'sound'],\n",
       " ['saw', 'movement', 'corner', 'eye'],\n",
       " ['pale', 'shapes', 'gliding', 'wood'],\n",
       " ['turned', 'head', 'glimpsed', 'white', 'shadow', 'darkness'],\n",
       " ['gone'],\n",
       " ['branches',\n",
       "  'stirred',\n",
       "  'gently',\n",
       "  'wind',\n",
       "  'scratching',\n",
       "  'one',\n",
       "  'another',\n",
       "  'wooden',\n",
       "  'fingers'],\n",
       " ['opened', 'mouth', 'call', 'warning', 'words', 'seemed', 'freeze', 'throat'],\n",
       " ['perhaps', 'wrong'],\n",
       " ['perhaps', 'bird', 'reflection', 'snow', 'trick', 'moonlight'],\n",
       " ['seen'],\n",
       " [],\n",
       " ['ser', 'waymar', 'called'],\n",
       " ['see', 'anything'],\n",
       " ['turning', 'slow', 'circle', 'suddenly', 'wary', 'sword', 'hand'],\n",
       " ['must', 'felt', 'felt'],\n",
       " ['nothing', 'see'],\n",
       " ['page', 'answer'],\n",
       " ['cold'],\n",
       " ['cold'],\n",
       " ['shivering', 'clung', 'tightly', 'perch'],\n",
       " ['face', 'pressed', 'hard', 'trunk', 'sentinel'],\n",
       " ['could', 'feel', 'sweet', 'sticky', 'sap', 'cheek'],\n",
       " ['shadow', 'emerged', 'dark', 'wood'],\n",
       " ['stood', 'front', 'royce'],\n",
       " ['tall', 'gaunt', 'hard', 'old', 'bones', 'flesh', 'pale', 'milk'],\n",
       " ['armor',\n",
       "  'seemed',\n",
       "  'change',\n",
       "  'color',\n",
       "  'moved',\n",
       "  'white',\n",
       "  'new',\n",
       "  'fallen',\n",
       "  'snow',\n",
       "  'black',\n",
       "  'shadow',\n",
       "  'everywhere',\n",
       "  'dappled',\n",
       "  'deep',\n",
       "  'grey',\n",
       "  'green',\n",
       "  'trees'],\n",
       " ['patterns', 'ran', 'like', 'moonlight', 'water', 'every', 'step', 'took'],\n",
       " ['heard', 'breath', 'go', 'ser', 'waymar', 'royce', 'long', 'hiss'],\n",
       " ['come', 'farther', 'lordling', 'warned'],\n",
       " ['voice', 'cracked', 'like', 'boy'],\n",
       " ['threw',\n",
       "  'long',\n",
       "  'sable',\n",
       "  'cloak',\n",
       "  'back',\n",
       "  'shoulders',\n",
       "  'free',\n",
       "  'arms',\n",
       "  'battle',\n",
       "  'took',\n",
       "  'sword',\n",
       "  'hands'],\n",
       " ['wind', 'stopped'],\n",
       " ['cold'],\n",
       " ['slid', 'forward', 'silent', 'feet'],\n",
       " ['hand', 'longsword', 'like', 'none', 'ever', 'seen'],\n",
       " ['human', 'metal', 'gone', 'forging', 'blade'],\n",
       " ['alive',\n",
       "  'moonlight',\n",
       "  'translucent',\n",
       "  'shard',\n",
       "  'crystal',\n",
       "  'thin',\n",
       "  'seemed',\n",
       "  'almost',\n",
       "  'vanish',\n",
       "  'seen',\n",
       "  'edge'],\n",
       " ['faint',\n",
       "  'blue',\n",
       "  'shimmer',\n",
       "  'thing',\n",
       "  'ghost',\n",
       "  'light',\n",
       "  'played',\n",
       "  'around',\n",
       "  'edges',\n",
       "  'somehow',\n",
       "  'knew',\n",
       "  'sharper',\n",
       "  'razor'],\n",
       " ['ser', 'waymar', 'met', 'bravely'],\n",
       " ['dance'],\n",
       " ['lifted', 'sword', 'high', 'head', 'defiant'],\n",
       " ['hands', 'trembled', 'weight', 'perhaps', 'cold'],\n",
       " ['yet', 'moment', 'thought', 'boy', 'longer', 'man', 'night', 'watch'],\n",
       " ['halted'],\n",
       " ['saw',\n",
       "  'eyes',\n",
       "  'blue',\n",
       "  'deeper',\n",
       "  'bluer',\n",
       "  'human',\n",
       "  'eyes',\n",
       "  'blue',\n",
       "  'burned',\n",
       "  'like',\n",
       "  'ice'],\n",
       " ['fixed',\n",
       "  'longsword',\n",
       "  'trembling',\n",
       "  'high',\n",
       "  'watched',\n",
       "  'moonlight',\n",
       "  'running',\n",
       "  'cold',\n",
       "  'along',\n",
       "  'metal'],\n",
       " ['heartbeat', 'dared', 'hope'],\n",
       " ['emerged', 'silently', 'shadows', 'twins', 'first'],\n",
       " ['three'],\n",
       " [],\n",
       " [],\n",
       " ['four'],\n",
       " [],\n",
       " [],\n",
       " ['five'],\n",
       " [],\n",
       " [],\n",
       " ['ser',\n",
       "  'waymar',\n",
       "  'may',\n",
       "  'felt',\n",
       "  'cold',\n",
       "  'came',\n",
       "  'never',\n",
       "  'saw',\n",
       "  'never',\n",
       "  'heard'],\n",
       " ['call'],\n",
       " ['duty'],\n",
       " ['death'],\n",
       " ['shivered', 'hugged', 'tree', 'kept', 'silence'],\n",
       " ['pale', 'sword', 'came', 'shivering', 'air'],\n",
       " ['ser', 'waymar', 'met', 'steel'],\n",
       " ['blades',\n",
       "  'met',\n",
       "  'ring',\n",
       "  'metal',\n",
       "  'metal',\n",
       "  'high',\n",
       "  'thin',\n",
       "  'sound',\n",
       "  'edge',\n",
       "  'hearing',\n",
       "  'like',\n",
       "  'animal',\n",
       "  'screaming',\n",
       "  'pain'],\n",
       " ['royce', 'checked', 'second', 'blow', 'third', 'fell', 'back', 'step'],\n",
       " ['another', 'flurry', 'blows', 'fell', 'back'],\n",
       " ['behind',\n",
       "  'right',\n",
       "  'left',\n",
       "  'around',\n",
       "  'watchers',\n",
       "  'stood',\n",
       "  'patient',\n",
       "  'faceless',\n",
       "  'silent',\n",
       "  'shifting',\n",
       "  'patterns',\n",
       "  'delicate',\n",
       "  'armor',\n",
       "  'making',\n",
       "  'invisible',\n",
       "  'wood'],\n",
       " ['yet', 'made', 'move', 'interfere'],\n",
       " ['swords',\n",
       "  'met',\n",
       "  'wanted',\n",
       "  'cover',\n",
       "  'ears',\n",
       "  'strange',\n",
       "  'anguished',\n",
       "  'keening',\n",
       "  'clash'],\n",
       " ['ser', 'waymar', 'panting', 'effort', 'breath', 'steaming', 'moonlight'],\n",
       " ['blade', 'white', 'frost', 'danced', 'pale', 'blue', 'light'],\n",
       " ['royce', 'parry', 'came', 'beat', 'late'],\n",
       " ['pale', 'sword', 'bit', 'ringmail', 'beneath', 'arm'],\n",
       " ['young', 'lord', 'cried', 'pain'],\n",
       " ['blood', 'welled', 'rings'],\n",
       " ['steamed', 'cold', 'droplets', 'seemed', 'red', 'fire', 'touched', 'snow'],\n",
       " ['ser', 'page', 'waymar', 'fingers', 'brushed', 'side'],\n",
       " ['moleskin', 'glove', 'came', 'away', 'soaked', 'red'],\n",
       " ['said',\n",
       "  'something',\n",
       "  'language',\n",
       "  'know',\n",
       "  'voice',\n",
       "  'like',\n",
       "  'cracking',\n",
       "  'ice',\n",
       "  'winter',\n",
       "  'lake',\n",
       "  'words',\n",
       "  'mocking'],\n",
       " ['ser', 'waymar', 'royce', 'found', 'fury'],\n",
       " ['robert'],\n",
       " ['shouted',\n",
       "  'came',\n",
       "  'snarling',\n",
       "  'lifting',\n",
       "  'frost',\n",
       "  'covered',\n",
       "  'longsword',\n",
       "  'hands',\n",
       "  'swinging',\n",
       "  'around',\n",
       "  'flat',\n",
       "  'sidearm',\n",
       "  'slash',\n",
       "  'weight',\n",
       "  'behind'],\n",
       " ['parry', 'almost', 'lazy'],\n",
       " ['blades', 'touched', 'steel', 'shattered'],\n",
       " ['scream',\n",
       "  'echoed',\n",
       "  'forest',\n",
       "  'night',\n",
       "  'longsword',\n",
       "  'shivered',\n",
       "  'hundred',\n",
       "  'brittle',\n",
       "  'pieces',\n",
       "  'shards',\n",
       "  'scattering',\n",
       "  'like',\n",
       "  'rain',\n",
       "  'needles'],\n",
       " ['royce', 'went', 'knees', 'shrieking', 'covered', 'eyes'],\n",
       " ['blood', 'welled', 'fingers'],\n",
       " ['watchers', 'moved', 'forward', 'together', 'signal', 'given'],\n",
       " ['swords', 'rose', 'fell', 'deathly', 'silence'],\n",
       " ['cold', 'butchery'],\n",
       " ['pale', 'blades', 'sliced', 'ringmail', 'silk'],\n",
       " ['closed', 'eyes'],\n",
       " ['far', 'beneath', 'heard', 'voices', 'laughter', 'sharp', 'icicles'],\n",
       " ['found', 'courage', 'look', 'long', 'time', 'passed', 'ridge', 'empty'],\n",
       " ['stayed',\n",
       "  'tree',\n",
       "  'scarce',\n",
       "  'daring',\n",
       "  'breathe',\n",
       "  'moon',\n",
       "  'crept',\n",
       "  'slowly',\n",
       "  'across',\n",
       "  'black',\n",
       "  'sky'],\n",
       " ['finally', 'muscles', 'cramping', 'fingers', 'numb', 'cold', 'climbed'],\n",
       " ['royce', 'body', 'lay', 'facedown', 'snow', 'one', 'arm', 'outflung'],\n",
       " ['thick', 'sable', 'cloak', 'slashed', 'dozen', 'places'],\n",
       " ['lying', 'dead', 'like', 'saw', 'young'],\n",
       " ['boy'],\n",
       " ['found',\n",
       "  'left',\n",
       "  'sword',\n",
       "  'feet',\n",
       "  'away',\n",
       "  'end',\n",
       "  'splintered',\n",
       "  'twisted',\n",
       "  'like',\n",
       "  'tree',\n",
       "  'struck',\n",
       "  'lightning'],\n",
       " ['knelt', 'looked', 'around', 'warily', 'snatched'],\n",
       " ['broken', 'sword', 'would', 'proof'],\n",
       " ['gared',\n",
       "  'would',\n",
       "  'know',\n",
       "  'make',\n",
       "  'surely',\n",
       "  'old',\n",
       "  'bear',\n",
       "  'mormont',\n",
       "  'maester',\n",
       "  'aemon'],\n",
       " ['would', 'gared', 'still', 'waiting', 'horses'],\n",
       " ['hurry'],\n",
       " ['rose'],\n",
       " ['ser', 'waymar', 'royce', 'stood'],\n",
       " ['fine', 'clothes', 'tatter', 'face', 'ruin'],\n",
       " ['shard', 'sword', 'transfixed', 'blind', 'white', 'pupil', 'left', 'eye'],\n",
       " ['right', 'eye', 'open'],\n",
       " ['pupil', 'burned', 'blue'],\n",
       " ['saw'],\n",
       " ['broken', 'sword', 'fell', 'nerveless', 'fingers'],\n",
       " ['closed', 'eyes', 'pray'],\n",
       " ['long',\n",
       "  'elegant',\n",
       "  'hands',\n",
       "  'brushed',\n",
       "  'cheek',\n",
       "  'tightened',\n",
       "  'around',\n",
       "  'throat'],\n",
       " ['gloved',\n",
       "  'finest',\n",
       "  'moleskin',\n",
       "  'sticky',\n",
       "  'blood',\n",
       "  'yet',\n",
       "  'touch',\n",
       "  'icy',\n",
       "  'cold'],\n",
       " ['bran',\n",
       "  'morning',\n",
       "  'dawned',\n",
       "  'clear',\n",
       "  'cold',\n",
       "  'crispness',\n",
       "  'hinted',\n",
       "  'end',\n",
       "  'summer'],\n",
       " ['set',\n",
       "  'forth',\n",
       "  'daybreak',\n",
       "  'see',\n",
       "  'man',\n",
       "  'beheaded',\n",
       "  'twenty',\n",
       "  'bran',\n",
       "  'rode',\n",
       "  'among',\n",
       "  'nervous',\n",
       "  'excitement'],\n",
       " ['first',\n",
       "  'time',\n",
       "  'deemed',\n",
       "  'old',\n",
       "  'enough',\n",
       "  'go',\n",
       "  'lord',\n",
       "  'father',\n",
       "  'page',\n",
       "  'brothers',\n",
       "  'see',\n",
       "  'king',\n",
       "  'justice',\n",
       "  'done'],\n",
       " ['ninth', 'year', 'summer', 'seventh', 'bran', 'life'],\n",
       " ['man', 'taken', 'outside', 'small', 'holdfast', 'hills'],\n",
       " ['robb',\n",
       "  'thought',\n",
       "  'wildling',\n",
       "  'sword',\n",
       "  'sworn',\n",
       "  'mance',\n",
       "  'rayder',\n",
       "  'kingbeyond',\n",
       "  'wall'],\n",
       " ['made', 'bran', 'skin', 'prickle', 'think'],\n",
       " ['remembered', 'hearth', 'tales', 'old', 'nan', 'told'],\n",
       " ['wildlings', 'cruel', 'men', 'said', 'slavers', 'slayers', 'thieves'],\n",
       " ['consorted',\n",
       "  'giants',\n",
       "  'ghouls',\n",
       "  'stole',\n",
       "  'girl',\n",
       "  'children',\n",
       "  'dead',\n",
       "  'night',\n",
       "  'drank',\n",
       "  'blood',\n",
       "  'polished',\n",
       "  'horns'],\n",
       " ['women',\n",
       "  'lay',\n",
       "  'others',\n",
       "  'long',\n",
       "  'night',\n",
       "  'sire',\n",
       "  'terrible',\n",
       "  'half',\n",
       "  'human',\n",
       "  'children'],\n",
       " ['man',\n",
       "  'found',\n",
       "  'bound',\n",
       "  'hand',\n",
       "  'foot',\n",
       "  'holdfast',\n",
       "  'wall',\n",
       "  'awaiting',\n",
       "  'king',\n",
       "  'justice',\n",
       "  'old',\n",
       "  'scrawny',\n",
       "  'much',\n",
       "  'taller',\n",
       "  'robb'],\n",
       " ['lost',\n",
       "  'ears',\n",
       "  'finger',\n",
       "  'frostbite',\n",
       "  'dressed',\n",
       "  'black',\n",
       "  'brother',\n",
       "  'night',\n",
       "  'watch',\n",
       "  'except',\n",
       "  'furs',\n",
       "  'ragged',\n",
       "  'greasy'],\n",
       " ['breath',\n",
       "  'man',\n",
       "  'horse',\n",
       "  'mingled',\n",
       "  'steaming',\n",
       "  'cold',\n",
       "  'morning',\n",
       "  'air',\n",
       "  'lord',\n",
       "  'father',\n",
       "  'man',\n",
       "  'cut',\n",
       "  'wall',\n",
       "  'dragged'],\n",
       " ['robb',\n",
       "  'jon',\n",
       "  'sat',\n",
       "  'tall',\n",
       "  'still',\n",
       "  'horses',\n",
       "  'bran',\n",
       "  'pony',\n",
       "  'trying',\n",
       "  'seem',\n",
       "  'older',\n",
       "  'seven',\n",
       "  'trying',\n",
       "  'pretend',\n",
       "  'seen'],\n",
       " ['faint', 'wind', 'blew', 'holdfast', 'gate'],\n",
       " ['heads',\n",
       "  'flapped',\n",
       "  'banner',\n",
       "  'starks',\n",
       "  'winterfell',\n",
       "  'grey',\n",
       "  'direwolf',\n",
       "  'racing',\n",
       "  'across',\n",
       "  'ice',\n",
       "  'white',\n",
       "  'field'],\n",
       " ['bran',\n",
       "  'father',\n",
       "  'sat',\n",
       "  'solemnly',\n",
       "  'horse',\n",
       "  'long',\n",
       "  'brown',\n",
       "  'hair',\n",
       "  'stirring',\n",
       "  'wind'],\n",
       " ['closely',\n",
       "  'trimmed',\n",
       "  'beard',\n",
       "  'shot',\n",
       "  'white',\n",
       "  'making',\n",
       "  'look',\n",
       "  'older',\n",
       "  'thirty',\n",
       "  'five',\n",
       "  'years'],\n",
       " ['grim',\n",
       "  'cast',\n",
       "  'grey',\n",
       "  'eyes',\n",
       "  'day',\n",
       "  'seemed',\n",
       "  'man',\n",
       "  'would',\n",
       "  'sit',\n",
       "  'fire',\n",
       "  'evening',\n",
       "  'talk',\n",
       "  'softly',\n",
       "  'age',\n",
       "  'heroes',\n",
       "  'children',\n",
       "  'forest'],\n",
       " ['taken',\n",
       "  'father',\n",
       "  'face',\n",
       "  'bran',\n",
       "  'thought',\n",
       "  'donned',\n",
       "  'face',\n",
       "  'lord',\n",
       "  'stark',\n",
       "  'winterfell'],\n",
       " ['questions',\n",
       "  'asked',\n",
       "  'answers',\n",
       "  'given',\n",
       "  'chill',\n",
       "  'morning',\n",
       "  'afterward',\n",
       "  'bran',\n",
       "  'could',\n",
       "  'recall',\n",
       "  'much',\n",
       "  'said'],\n",
       " ['finally',\n",
       "  'lord',\n",
       "  'father',\n",
       "  'gave',\n",
       "  'command',\n",
       "  'two',\n",
       "  'guardsmen',\n",
       "  'dragged',\n",
       "  'ragged',\n",
       "  'man',\n",
       "  'ironwood',\n",
       "  'stump',\n",
       "  'center',\n",
       "  'square'],\n",
       " ['forced', 'head', 'onto', 'hard', 'black', 'wood'],\n",
       " ['lord',\n",
       "  'eddard',\n",
       "  'stark',\n",
       "  'dismounted',\n",
       "  'ward',\n",
       "  'theon',\n",
       "  'greyjoy',\n",
       "  'brought',\n",
       "  'forth',\n",
       "  'sword'],\n",
       " ['ice', 'sword', 'called'],\n",
       " ['wide', 'across', 'man', 'hand', 'taller', 'even', 'robb'],\n",
       " ['blade', 'valyrian', 'steel', 'spell', 'forged', 'dark', 'smoke'],\n",
       " ['nothing', 'held', 'edge', 'like', 'valyrian', 'steel'],\n",
       " ['father',\n",
       "  'peeled',\n",
       "  'gloves',\n",
       "  'handed',\n",
       "  'jory',\n",
       "  'cassel',\n",
       "  'captain',\n",
       "  'household',\n",
       "  'guard'],\n",
       " ['took',\n",
       "  'hold',\n",
       "  'ice',\n",
       "  'hands',\n",
       "  'said',\n",
       "  'name',\n",
       "  'robert',\n",
       "  'house',\n",
       "  'baratheon',\n",
       "  'first',\n",
       "  'name',\n",
       "  'king',\n",
       "  'andals',\n",
       "  'rhoynar',\n",
       "  'first',\n",
       "  'men',\n",
       "  'lord',\n",
       "  'seven',\n",
       "  'kingdoms',\n",
       "  'protector',\n",
       "  'realm',\n",
       "  'word',\n",
       "  'eddard',\n",
       "  'house',\n",
       "  'stark',\n",
       "  'lord',\n",
       "  'winterfell',\n",
       "  'warden',\n",
       "  'north',\n",
       "  'sentence',\n",
       "  'die'],\n",
       " ['lifted', 'greatsword', 'high', 'head'],\n",
       " ['bran', 'bastard', 'brother', 'jon', 'snow', 'moved', 'closer'],\n",
       " ['keep', 'pony', 'well', 'hand', 'whispered'],\n",
       " ['look', 'away'],\n",
       " ['father', 'know'],\n",
       " ['bran', 'kept', 'pony', 'well', 'hand', 'look', 'away'],\n",
       " ['father', 'took', 'man', 'head', 'single', 'sure', 'stroke'],\n",
       " ['blood', 'sprayed', 'across', 'snow', 'red', 'surnmerwine'],\n",
       " ['one', 'horses', 'reared', 'restrained', 'keep', 'bolting'],\n",
       " ['bran', 'could', 'take', 'eyes', 'blood'],\n",
       " ['snows', 'around', 'stump', 'drank', 'eagerly', 'reddening', 'watched'],\n",
       " ['head', 'bounced', 'thick', 'root', 'rolled'],\n",
       " ['came', 'near', 'greyjoy', 'feet'],\n",
       " ['theon',\n",
       "  'lean',\n",
       "  'dark',\n",
       "  'page',\n",
       "  'youth',\n",
       "  'nineteen',\n",
       "  'found',\n",
       "  'everything',\n",
       "  'amusing'],\n",
       " ['laughed', 'put', 'boot', 'head', 'kicked', 'away'],\n",
       " ['ass', 'jon', 'muttered', 'low', 'enough', 'greyjoy', 'hear'],\n",
       " ['put', 'hand', 'bran', 'shoulder', 'bran', 'looked', 'bastard', 'brother'],\n",
       " ['well', 'jon', 'told', 'solemnly'],\n",
       " ['jon', 'fourteen', 'old', 'hand', 'justice'],\n",
       " ['seemed',\n",
       "  'colder',\n",
       "  'long',\n",
       "  'ride',\n",
       "  'back',\n",
       "  'winterfell',\n",
       "  'though',\n",
       "  'wind',\n",
       "  'died',\n",
       "  'sun',\n",
       "  'higher',\n",
       "  'sky'],\n",
       " ['bran',\n",
       "  'rode',\n",
       "  'brothers',\n",
       "  'well',\n",
       "  'ahead',\n",
       "  'main',\n",
       "  'party',\n",
       "  'pony',\n",
       "  'struggling',\n",
       "  'hard',\n",
       "  'keep',\n",
       "  'horses'],\n",
       " ['deserter', 'died', 'bravely', 'robb', 'said'],\n",
       " ['big',\n",
       "  'broad',\n",
       "  'growing',\n",
       "  'every',\n",
       "  'day',\n",
       "  'mother',\n",
       "  'coloring',\n",
       "  'fair',\n",
       "  'skin',\n",
       "  'red',\n",
       "  'brown',\n",
       "  'hair',\n",
       "  'blue',\n",
       "  'eyes',\n",
       "  'tullys',\n",
       "  'riverrun'],\n",
       " ['courage', 'least'],\n",
       " ['jon', 'snow', 'said', 'quietly'],\n",
       " ['courage'],\n",
       " ['one', 'dead', 'fear'],\n",
       " ['could', 'see', 'eyes', 'stark'],\n",
       " ['jon', 'eyes', 'grey', 'dark', 'seemed', 'almost', 'black', 'little', 'see'],\n",
       " ['age', 'robb', 'look', 'alike'],\n",
       " ['jon',\n",
       "  'slender',\n",
       "  'robb',\n",
       "  'muscular',\n",
       "  'dark',\n",
       "  'robb',\n",
       "  'fair',\n",
       "  'graceful',\n",
       "  'quick',\n",
       "  'half',\n",
       "  'brother',\n",
       "  'strong',\n",
       "  'fast'],\n",
       " ['robb', 'impressed'],\n",
       " ['others', 'take', 'eyes', 'swore'],\n",
       " ['died', 'well'],\n",
       " ['race', 'bridge'],\n",
       " ['done', 'jon', 'said', 'kicking', 'horse', 'forward'],\n",
       " ['robb',\n",
       "  'cursed',\n",
       "  'followed',\n",
       "  'galloped',\n",
       "  'trail',\n",
       "  'robb',\n",
       "  'laughing',\n",
       "  'hooting',\n",
       "  'jon',\n",
       "  'silent',\n",
       "  'intent'],\n",
       " ['hooves', 'horses', 'kicked', 'showers', 'snow', 'went'],\n",
       " ['bran', 'try', 'follow'],\n",
       " ['pony', 'could', 'keep'],\n",
       " ['seen', 'ragged', 'man', 'eyes', 'thinking'],\n",
       " ['sound', 'robb', 'laughter', 'receded', 'woods', 'grew', 'silent'],\n",
       " ['deep',\n",
       "  'thought',\n",
       "  'never',\n",
       "  'heard',\n",
       "  'rest',\n",
       "  'party',\n",
       "  'father',\n",
       "  'moved',\n",
       "  'ride',\n",
       "  'beside'],\n",
       " ['well', 'bran'],\n",
       " ['asked', 'unkindly'],\n",
       " ['yes', 'father', 'bran', 'told'],\n",
       " ['looked'],\n",
       " ['wrapped',\n",
       "  'furs',\n",
       "  'leathers',\n",
       "  'mounted',\n",
       "  'great',\n",
       "  'warhorse',\n",
       "  'lord',\n",
       "  'father',\n",
       "  'loomed',\n",
       "  'like',\n",
       "  'giant'],\n",
       " ['robb', 'says', 'man', 'died', 'bravely', 'jon', 'says', 'afraid'],\n",
       " ['think'],\n",
       " ['father', 'asked'],\n",
       " ['bran', 'thought'],\n",
       " ['man', 'still', 'brave', 'afraid'],\n",
       " ['time', 'man', 'brave', 'father', 'told'],\n",
       " ['understand'],\n",
       " ['wildling', 'bran', 'said'],\n",
       " ['carry', 'women', 'sell', 'others'],\n",
       " ['lord', 'father', 'smiled'],\n",
       " ['old', 'nan', 'telling', 'stories'],\n",
       " ['truth', 'man', 'oathbreaker', 'deserter', 'night', 'watch'],\n",
       " ['man', 'dangerous'],\n",
       " ['deserter',\n",
       "  'knows',\n",
       "  'life',\n",
       "  'forfeit',\n",
       "  'taken',\n",
       "  'flinch',\n",
       "  'crime',\n",
       "  'matter',\n",
       "  'vile'],\n",
       " ['mistake'],\n",
       " ['question', 'man', 'die', 'must'],\n",
       " ['page', 'bran', 'answer'],\n",
       " ['king', 'robert', 'headsman', 'said', 'uncertainly'],\n",
       " ['father', 'admitted'],\n",
       " ['targaryen', 'kings'],\n",
       " ['yet', 'way', 'older', 'way'],\n",
       " ['blood',\n",
       "  'first',\n",
       "  'men',\n",
       "  'still',\n",
       "  'flows',\n",
       "  'veins',\n",
       "  'starks',\n",
       "  'hold',\n",
       "  'belief',\n",
       "  'man',\n",
       "  'passes',\n",
       "  'sentence',\n",
       "  'swing',\n",
       "  'sword'],\n",
       " ['would',\n",
       "  'take',\n",
       "  'man',\n",
       "  'life',\n",
       "  'owe',\n",
       "  'look',\n",
       "  'eyes',\n",
       "  'hear',\n",
       "  'final',\n",
       "  'words'],\n",
       " ['cannot', 'bear', 'perhaps', 'man', 'deserve', 'die'],\n",
       " ['one',\n",
       "  'day',\n",
       "  'bran',\n",
       "  'robb',\n",
       "  'bannerman',\n",
       "  'holding',\n",
       "  'keep',\n",
       "  'brother',\n",
       "  'king',\n",
       "  'justice',\n",
       "  'fall'],\n",
       " ['day',\n",
       "  'comes',\n",
       "  'must',\n",
       "  'take',\n",
       "  'pleasure',\n",
       "  'task',\n",
       "  'neither',\n",
       "  'must',\n",
       "  'look',\n",
       "  'away'],\n",
       " ['ruler',\n",
       "  'hides',\n",
       "  'behind',\n",
       "  'paid',\n",
       "  'executioners',\n",
       "  'soon',\n",
       "  'forgets',\n",
       "  'death'],\n",
       " ['jon', 'reappeared', 'crest', 'hill'],\n",
       " ['waved', 'shouted'],\n",
       " ['father', 'bran', 'come', 'quickly', 'see', 'robb', 'found'],\n",
       " ['gone'],\n",
       " ['jory', 'rode', 'beside'],\n",
       " ['trouble', 'lord'],\n",
       " ['beyond', 'doubt', 'lord', 'father', 'said'],\n",
       " ['come', 'let', 'us', 'see', 'mischief', 'sons', 'rooted'],\n",
       " ['sent', 'horse', 'trot'],\n",
       " ['jory', 'bran', 'rest', 'came'],\n",
       " ['found',\n",
       "  'robb',\n",
       "  'riverbank',\n",
       "  'north',\n",
       "  'bridge',\n",
       "  'jon',\n",
       "  'still',\n",
       "  'mounted',\n",
       "  'beside'],\n",
       " ['late', 'summer', 'snows', 'heavy', 'moonturn'],\n",
       " ['robb',\n",
       "  'stood',\n",
       "  'knee',\n",
       "  'deep',\n",
       "  'white',\n",
       "  'hood',\n",
       "  'pulled',\n",
       "  'back',\n",
       "  'sun',\n",
       "  'shone',\n",
       "  'hair'],\n",
       " ['cradling',\n",
       "  'something',\n",
       "  'arm',\n",
       "  'boys',\n",
       "  'talked',\n",
       "  'hushed',\n",
       "  'excited',\n",
       "  'voices'],\n",
       " ['riders',\n",
       "  'picked',\n",
       "  'way',\n",
       "  'carefully',\n",
       "  'drifts',\n",
       "  'groping',\n",
       "  'solid',\n",
       "  'footing',\n",
       "  'hidden',\n",
       "  'uneven',\n",
       "  'ground'],\n",
       " ['jory', 'cassel', 'theon', 'greyjoy', 'first', 'reach', 'boys'],\n",
       " ['greyjoy', 'laughing', 'joking', 'rode'],\n",
       " ['bran', 'heard', 'breath', 'go'],\n",
       " ['gods'],\n",
       " ['exclaimed', 'struggling', 'keep', 'control', 'horse', 'reached', 'sword'],\n",
       " ['jory', 'sword', 'already'],\n",
       " ['robb', 'get', 'away'],\n",
       " ['called', 'horse', 'reared'],\n",
       " ['robb', 'grinned', 'looked', 'bundle', 'arms'],\n",
       " ['hurt', 'said'],\n",
       " ['dead', 'jory'],\n",
       " ['bran', 'afire', 'curiosity'],\n",
       " ['would',\n",
       "  'spurred',\n",
       "  'pony',\n",
       "  'faster',\n",
       "  'father',\n",
       "  'made',\n",
       "  'dismount',\n",
       "  'beside',\n",
       "  'bridge',\n",
       "  'approach',\n",
       "  'foot'],\n",
       " ['bran', 'jumped', 'ran'],\n",
       " ['jon', 'jory', 'theon', 'greyjoy', 'dismounted', 'well'],\n",
       " ['seven', 'hells'],\n",
       " ['greyjoy', 'saying'],\n",
       " ['wolf', 'robb', 'told'],\n",
       " ['freak', 'greyjoy', 'said'],\n",
       " ['look', 'size'],\n",
       " ['bran',\n",
       "  'heart',\n",
       "  'thumping',\n",
       "  'chest',\n",
       "  'pushed',\n",
       "  'waist',\n",
       "  'high',\n",
       "  'drift',\n",
       "  'brothers',\n",
       "  'side'],\n",
       " ['half',\n",
       "  'buried',\n",
       "  'bloodstained',\n",
       "  'snow',\n",
       "  'huge',\n",
       "  'dark',\n",
       "  'shape',\n",
       "  'slumped',\n",
       "  'death'],\n",
       " ['ice',\n",
       "  'formed',\n",
       "  'shaggy',\n",
       "  'grey',\n",
       "  'fur',\n",
       "  'faint',\n",
       "  'smell',\n",
       "  'corruption',\n",
       "  'clung',\n",
       "  'like',\n",
       "  'woman',\n",
       "  'perfume'],\n",
       " ['bran',\n",
       "  'glimpsed',\n",
       "  'blind',\n",
       "  'eyes',\n",
       "  'crawling',\n",
       "  'maggots',\n",
       "  'wide',\n",
       "  'mouth',\n",
       "  'full',\n",
       "  'yellowed',\n",
       "  'teeth'],\n",
       " ['size', 'made', 'gasp'],\n",
       " ['bigger', 'pony', 'twice', 'size', 'largest', 'hound', 'father', 'kennel'],\n",
       " ['page', 'freak', 'jon', 'said', 'calmly'],\n",
       " ['direwolf'],\n",
       " ['grow', 'larger', 'kind'],\n",
       " ['theon',\n",
       "  'greyjoy',\n",
       "  'said',\n",
       "  'direwolf',\n",
       "  'sighted',\n",
       "  'south',\n",
       "  'wall',\n",
       "  'two',\n",
       "  'hundred',\n",
       "  'years'],\n",
       " ['see', 'one', 'jon', 'replied'],\n",
       " ['bran', 'tore', 'eyes', 'away', 'monster'],\n",
       " ['noticed', 'bundle', 'robb', 'arms'],\n",
       " ['gave', 'cry', 'delight', 'moved', 'closer'],\n",
       " ['pup', 'tiny', 'ball', 'grey', 'black', 'fur', 'eyes', 'still', 'closed'],\n",
       " ['nuzzled',\n",
       "  'blindly',\n",
       "  'robb',\n",
       "  'chest',\n",
       "  'cradled',\n",
       "  'searching',\n",
       "  'milk',\n",
       "  'among',\n",
       "  'leathers',\n",
       "  'making',\n",
       "  'sad',\n",
       "  'little',\n",
       "  'whimpery',\n",
       "  'sound'],\n",
       " ['bran', 'reached', 'hesitantly'],\n",
       " ['go', 'robb', 'told'],\n",
       " ['touch'],\n",
       " ['bran',\n",
       "  'gave',\n",
       "  'pup',\n",
       "  'quick',\n",
       "  'nervous',\n",
       "  'stroke',\n",
       "  'turned',\n",
       "  'jon',\n",
       "  'said',\n",
       "  'go'],\n",
       " ['half', 'brother', 'put', 'second', 'pup', 'arms'],\n",
       " ['five'],\n",
       " ['bran', 'sat', 'snow', 'hugged', 'wolf', 'pup', 'face'],\n",
       " ['fur', 'soft', 'warm', 'cheek'],\n",
       " ['direwolves',\n",
       "  'loose',\n",
       "  'realm',\n",
       "  'many',\n",
       "  'years',\n",
       "  'muttered',\n",
       "  'hullen',\n",
       "  'master',\n",
       "  'horse'],\n",
       " ['like'],\n",
       " ['sign', 'jory', 'said'],\n",
       " ['father', 'frowned'],\n",
       " ['dead', 'animal', 'jory', 'said'],\n",
       " ['yet', 'seemed', 'troubled'],\n",
       " ['snow', 'crunched', 'boots', 'moved', 'around', 'body'],\n",
       " ['know', 'killed'],\n",
       " ['something',\n",
       "  'throat',\n",
       "  'robb',\n",
       "  'told',\n",
       "  'proud',\n",
       "  'found',\n",
       "  'answer',\n",
       "  'father',\n",
       "  'even',\n",
       "  'asked'],\n",
       " ['jaw', 'father', 'knelt', 'groped', 'beast', 'head', 'hand'],\n",
       " ['gave', 'yank', 'held', 'see'],\n",
       " ['foot', 'shattered', 'antler', 'tines', 'snapped', 'wet', 'blood'],\n",
       " ['sudden', 'silence', 'descended', 'party'],\n",
       " ['men', 'looked', 'antler', 'uneasily', 'one', 'dared', 'speak'],\n",
       " ['even', 'bran', 'could', 'sense', 'fear', 'though', 'understand'],\n",
       " ['father', 'tossed', 'antler', 'side', 'cleansed', 'hands', 'snow'],\n",
       " ['surprised', 'lived', 'long', 'enough', 'whelp', 'said'],\n",
       " ['voice', 'broke', 'spell'],\n",
       " ['maybe', 'jory', 'said'],\n",
       " ['heard', 'tales'],\n",
       " [],\n",
       " [],\n",
       " ['maybe', 'bitch', 'already', 'dead', 'pups', 'came'],\n",
       " ['born', 'dead', 'another', 'man', 'put'],\n",
       " ['worse', 'luck'],\n",
       " ['matter', 'said', 'hullen'],\n",
       " ['dead', 'soon', 'enough'],\n",
       " ['bran', 'gave', 'wordless', 'cry', 'dismay'],\n",
       " ['sooner', 'better', 'theon', 'greyjoy', 'agreed'],\n",
       " ['drew', 'sword'],\n",
       " ['give', 'beast', 'bran'],\n",
       " ['little', 'thing', 'squirmed', 'heard', 'understood'],\n",
       " [],\n",
       " ['bran', 'cried', 'fiercely'],\n",
       " ['mine'],\n",
       " ['page', 'put', 'away', 'sword', 'greyjoy', 'robb', 'said'],\n",
       " ['moment',\n",
       "  'sounded',\n",
       "  'commanding',\n",
       "  'father',\n",
       "  'like',\n",
       "  'lord',\n",
       "  'would',\n",
       "  'someday'],\n",
       " ['keep', 'pups'],\n",
       " ['cannot', 'boy', 'said', 'harwin', 'hullen', 'son'],\n",
       " ['mercy', 'kill', 'hullen', 'said'],\n",
       " ['bran',\n",
       "  'looked',\n",
       "  'lord',\n",
       "  'father',\n",
       "  'rescue',\n",
       "  'got',\n",
       "  'frown',\n",
       "  'furrowed',\n",
       "  'brow'],\n",
       " ['hullen', 'speaks', 'truly', 'son'],\n",
       " ['better', 'swift', 'death', 'hard', 'one', 'cold', 'starvation'],\n",
       " [],\n",
       " ['could', 'feel', 'tears', 'welling', 'eyes', 'looked', 'away'],\n",
       " ['want', 'cry', 'front', 'father'],\n",
       " ['robb', 'resisted', 'stubbornly'],\n",
       " ['ser', 'rodrik', 'red', 'bitch', 'whelped', 'last', 'week', 'said'],\n",
       " ['small', 'litter', 'two', 'live', 'pups'],\n",
       " ['milk', 'enough'],\n",
       " ['rip', 'apart', 'try', 'nurse'],\n",
       " ['lord', 'stark', 'jon', 'said'],\n",
       " ['strange', 'hear', 'call', 'father', 'formal'],\n",
       " ['bran', 'looked', 'desperate', 'hope'],\n",
       " ['five', 'pups', 'told', 'father'],\n",
       " ['three', 'male', 'two', 'female'],\n",
       " ['jon'],\n",
       " ['five', 'trueborn', 'children', 'jon', 'said'],\n",
       " ['three', 'sons', 'two', 'daughters'],\n",
       " ['direwolf', 'sigil', 'house'],\n",
       " ['children', 'meant', 'pups', 'lord'],\n",
       " ['bran',\n",
       "  'saw',\n",
       "  'father',\n",
       "  'face',\n",
       "  'change',\n",
       "  'saw',\n",
       "  'men',\n",
       "  'exchange',\n",
       "  'glances'],\n",
       " ['loved', 'jon', 'heart', 'moment'],\n",
       " ['even', 'seven', 'bran', 'understood', 'brother', 'done'],\n",
       " ['count', 'come', 'right', 'jon', 'omitted'],\n",
       " ['included',\n",
       "  'girls',\n",
       "  'included',\n",
       "  'even',\n",
       "  'rickon',\n",
       "  'baby',\n",
       "  'bastard',\n",
       "  'bore',\n",
       "  'surname',\n",
       "  'snow',\n",
       "  'name',\n",
       "  'custom',\n",
       "  'decreed',\n",
       "  'given',\n",
       "  'north',\n",
       "  'unlucky',\n",
       "  'enough',\n",
       "  'born',\n",
       "  'name'],\n",
       " ['father', 'understood', 'well'],\n",
       " ['want', 'pup', 'jon'],\n",
       " ['asked', 'softly'],\n",
       " ['direwolf', 'graces', 'banners', 'house', 'stark', 'jon', 'pointed'],\n",
       " ['stark', 'father'],\n",
       " ['lord', 'father', 'regarded', 'jon', 'thoughtfully'],\n",
       " ['robb', 'rushed', 'silence', 'left'],\n",
       " ['nurse', 'father', 'promised'],\n",
       " ['soak', 'towel', 'warm', 'milk', 'give', 'suck'],\n",
       " [],\n",
       " ['bran', 'echoed'],\n",
       " ['lord', 'weighed', 'sons', 'long', 'carefully', 'eyes'],\n",
       " ['easy', 'say', 'harder'],\n",
       " ['wasting', 'servants', 'time'],\n",
       " ['want', 'pups', 'feed'],\n",
       " ['understood'],\n",
       " ['bran', 'nodded', 'eagerly'],\n",
       " ['pup', 'squirmed', 'grasp', 'licked', 'face', 'warm', 'tongue'],\n",
       " ['must', 'train', 'well', 'father', 'said'],\n",
       " ['must', 'train'],\n",
       " ['kennelmaster', 'nothing', 'monsters', 'promise'],\n",
       " ['gods', 'help', 'neglect', 'brutalize', 'train', 'badly'],\n",
       " ['dogs', 'beg', 'treats', 'slink', 'kick'],\n",
       " ['direwolf',\n",
       "  'rip',\n",
       "  'page',\n",
       "  'man',\n",
       "  'arm',\n",
       "  'shoulder',\n",
       "  'easily',\n",
       "  'dog',\n",
       "  'kill',\n",
       "  'rat'],\n",
       " ['sure', 'want'],\n",
       " ['yes', 'father', 'bran', 'said'],\n",
       " ['yes', 'robb', 'agreed'],\n",
       " ['pups', 'may', 'die', 'anyway', 'despite'],\n",
       " ['die', 'robb', 'said'],\n",
       " ['let', 'die'],\n",
       " ['keep'],\n",
       " ['jory', 'desmond', 'gather', 'pups'],\n",
       " ['time', 'back', 'winterfell'],\n",
       " ['mounted', 'way', 'bran', 'allowed', 'taste', 'sweet', 'air', 'victory'],\n",
       " ['pup',\n",
       "  'snuggled',\n",
       "  'inside',\n",
       "  'leathers',\n",
       "  'warm',\n",
       "  'safe',\n",
       "  'long',\n",
       "  'ride',\n",
       "  'home'],\n",
       " ['bran', 'wondering', 'name'],\n",
       " ['halfway', 'across', 'bridge', 'jon', 'pulled', 'suddenly'],\n",
       " ['jon'],\n",
       " ['lord', 'father', 'asked'],\n",
       " ['hear'],\n",
       " ['bran',\n",
       "  'could',\n",
       "  'hear',\n",
       "  'wind',\n",
       "  'trees',\n",
       "  'clatter',\n",
       "  'hooves',\n",
       "  'ironwood',\n",
       "  'planks',\n",
       "  'whimpering',\n",
       "  'hungry',\n",
       "  'pup',\n",
       "  'jon',\n",
       "  'listening',\n",
       "  'something',\n",
       "  'else'],\n",
       " ['jon', 'said'],\n",
       " ['swung', 'horse', 'around', 'galloped', 'back', 'across', 'bridge'],\n",
       " ['watched',\n",
       "  'dismount',\n",
       "  'direwolf',\n",
       "  'lay',\n",
       "  'dead',\n",
       "  'snow',\n",
       "  'watched',\n",
       "  'kneel'],\n",
       " ['moment', 'later', 'riding', 'back', 'smiling'],\n",
       " ['must', 'crawled', 'away', 'others', 'jon', 'said'],\n",
       " ['driven', 'away', 'father', 'said', 'looking', 'sixth', 'pup'],\n",
       " ['fur', 'white', 'rest', 'litter', 'grey'],\n",
       " ['eyes', 'red', 'blood', 'ragged', 'man', 'died', 'morning'],\n",
       " ['bran',\n",
       "  'thought',\n",
       "  'curious',\n",
       "  'pup',\n",
       "  'alone',\n",
       "  'would',\n",
       "  'opened',\n",
       "  'eyes',\n",
       "  'others',\n",
       "  'still',\n",
       "  'blind'],\n",
       " ['albino', 'theon', 'greyjoy', 'said', 'wry', 'amusement'],\n",
       " ['one', 'die', 'even', 'faster', 'others'],\n",
       " ['jon', 'snow', 'gave', 'father', 'ward', 'long', 'chilling', 'look'],\n",
       " ['think', 'greyjoy', 'said'],\n",
       " ['one', 'belongs'],\n",
       " ['catelyn', 'catelyn', 'never', 'liked', 'godswood'],\n",
       " ['born', 'tully', 'riverrun', 'far', 'south', 'red', 'fork', 'trident'],\n",
       " ['godswood',\n",
       "  'garden',\n",
       "  'bright',\n",
       "  'airy',\n",
       "  'tall',\n",
       "  'redwoods',\n",
       "  'spread',\n",
       "  'dappled',\n",
       "  'shadows',\n",
       "  'across',\n",
       "  'tinkling',\n",
       "  'streams',\n",
       "  'birds',\n",
       "  'sang',\n",
       "  'hidden',\n",
       "  'nests',\n",
       "  'air',\n",
       "  'spicy',\n",
       "  'scent',\n",
       "  'flowers'],\n",
       " ['page', 'gods', 'winterfell', 'kept', 'different', 'sort', 'wood'],\n",
       " ['dark',\n",
       "  'primal',\n",
       "  'place',\n",
       "  'three',\n",
       "  'acres',\n",
       "  'old',\n",
       "  'forest',\n",
       "  'untouched',\n",
       "  'ten',\n",
       "  'thousand',\n",
       "  'years',\n",
       "  'gloomy',\n",
       "  'castle',\n",
       "  'rose',\n",
       "  'around'],\n",
       " ['smelled', 'moist', 'earth', 'decay'],\n",
       " ['redwoods', 'grew'],\n",
       " ['wood',\n",
       "  'stubborn',\n",
       "  'sentinel',\n",
       "  'trees',\n",
       "  'armored',\n",
       "  'grey',\n",
       "  'green',\n",
       "  'needles',\n",
       "  'mighty',\n",
       "  'oaks',\n",
       "  'ironwoods',\n",
       "  'old',\n",
       "  'realm'],\n",
       " ['thick',\n",
       "  'black',\n",
       "  'trunks',\n",
       "  'crowded',\n",
       "  'close',\n",
       "  'together',\n",
       "  'twisted',\n",
       "  'branches',\n",
       "  'wove',\n",
       "  'dense',\n",
       "  'canopy',\n",
       "  'overhead',\n",
       "  'misshappen',\n",
       "  'roots',\n",
       "  'wrestled',\n",
       "  'beneath',\n",
       "  'soil'],\n",
       " ['place', 'deep', 'silence', 'brooding', 'shadows', 'gods', 'lived', 'names'],\n",
       " ['knew', 'would', 'find', 'husband', 'tonight'],\n",
       " ['whenever',\n",
       "  'took',\n",
       "  'man',\n",
       "  'life',\n",
       "  'afterward',\n",
       "  'would',\n",
       "  'seek',\n",
       "  'quiet',\n",
       "  'godswood'],\n",
       " ['catelyn',\n",
       "  'anointed',\n",
       "  'seven',\n",
       "  'oils',\n",
       "  'named',\n",
       "  'rainbow',\n",
       "  'light',\n",
       "  'filled',\n",
       "  'sept',\n",
       "  'riverrun'],\n",
       " ['faith', 'like', 'father', 'grandfather', 'father'],\n",
       " ['gods', 'names', 'faces', 'familiar', 'faces', 'parents'],\n",
       " ['worship',\n",
       "  'septon',\n",
       "  'censer',\n",
       "  'smell',\n",
       "  'incense',\n",
       "  'seven',\n",
       "  'sided',\n",
       "  'crystal',\n",
       "  'alive',\n",
       "  'light',\n",
       "  'voices',\n",
       "  'raised',\n",
       "  'song'],\n",
       " ['tullys',\n",
       "  'kept',\n",
       "  'godswood',\n",
       "  'great',\n",
       "  'houses',\n",
       "  'place',\n",
       "  'walk',\n",
       "  'read',\n",
       "  'lie',\n",
       "  'sun'],\n",
       " ['worship',\n",
       "  'sept',\n",
       "  'sake',\n",
       "  'ned',\n",
       "  'built',\n",
       "  'small',\n",
       "  'sept',\n",
       "  'might',\n",
       "  'sing',\n",
       "  'seven',\n",
       "  'faces',\n",
       "  'god',\n",
       "  'blood',\n",
       "  'first',\n",
       "  'men',\n",
       "  'still',\n",
       "  'flowed',\n",
       "  'veins',\n",
       "  'starks',\n",
       "  'gods',\n",
       "  'old',\n",
       "  'ones',\n",
       "  'nameless',\n",
       "  'faceless',\n",
       "  'gods',\n",
       "  'greenwood',\n",
       "  'shared',\n",
       "  'vanished',\n",
       "  'children',\n",
       "  'forest'],\n",
       " ['center',\n",
       "  'grove',\n",
       "  'ancient',\n",
       "  'weirwood',\n",
       "  'brooded',\n",
       "  'small',\n",
       "  'pool',\n",
       "  'waters',\n",
       "  'black',\n",
       "  'cold'],\n",
       " ['heart', 'tree', 'ned', 'called'],\n",
       " ['weirwood',\n",
       "  'bark',\n",
       "  'white',\n",
       "  'bone',\n",
       "  'leaves',\n",
       "  'dark',\n",
       "  'red',\n",
       "  'like',\n",
       "  'thousand',\n",
       "  'bloodstained',\n",
       "  'hands'],\n",
       " ['face',\n",
       "  'carved',\n",
       "  'trunk',\n",
       "  'great',\n",
       "  'tree',\n",
       "  'features',\n",
       "  'long',\n",
       "  'melancholy',\n",
       "  'deep',\n",
       "  'cut',\n",
       "  'eyes',\n",
       "  'red',\n",
       "  'dried',\n",
       "  'sap',\n",
       "  'strangely',\n",
       "  'watchful'],\n",
       " ['old', 'eyes', 'older', 'winterfell'],\n",
       " ['seen',\n",
       "  'brandon',\n",
       "  'builder',\n",
       "  'set',\n",
       "  'first',\n",
       "  'stone',\n",
       "  'tales',\n",
       "  'true',\n",
       "  'watched',\n",
       "  'castle',\n",
       "  'granite',\n",
       "  'walls',\n",
       "  'rise',\n",
       "  'around'],\n",
       " ['said',\n",
       "  'children',\n",
       "  'forest',\n",
       "  'carved',\n",
       "  'faces',\n",
       "  'trees',\n",
       "  'dawn',\n",
       "  'centuries',\n",
       "  'coming',\n",
       "  'first',\n",
       "  'men',\n",
       "  'across',\n",
       "  'narrow',\n",
       "  'sea'],\n",
       " ['south',\n",
       "  'last',\n",
       "  'weirwoods',\n",
       "  'cut',\n",
       "  'burned',\n",
       "  'thousand',\n",
       "  'years',\n",
       "  'ago',\n",
       "  'except',\n",
       "  'isle',\n",
       "  'faces',\n",
       "  'green',\n",
       "  'men',\n",
       "  'kept',\n",
       "  'silent',\n",
       "  'watch'],\n",
       " ['different'],\n",
       " ['every',\n",
       "  'castle',\n",
       "  'godswood',\n",
       "  'every',\n",
       "  'godswood',\n",
       "  'heart',\n",
       "  'tree',\n",
       "  'every',\n",
       "  'heart',\n",
       "  'tree',\n",
       "  'face'],\n",
       " ['catelyn',\n",
       "  'found',\n",
       "  'husband',\n",
       "  'beneath',\n",
       "  'weirwood',\n",
       "  'seated',\n",
       "  'moss',\n",
       "  'covered',\n",
       "  'stone'],\n",
       " ['greatsword',\n",
       "  'ice',\n",
       "  'across',\n",
       "  'lap',\n",
       "  'cleaning',\n",
       "  'blade',\n",
       "  'waters',\n",
       "  'black',\n",
       "  'night'],\n",
       " ['thousand',\n",
       "  'years',\n",
       "  'humus',\n",
       "  'lay',\n",
       "  'thick',\n",
       "  'upon',\n",
       "  'godswood',\n",
       "  'floor',\n",
       "  'swallowing',\n",
       "  'sound',\n",
       "  'feet',\n",
       "  'red',\n",
       "  'eyes',\n",
       "  'weirwood',\n",
       "  'seemed',\n",
       "  'follow',\n",
       "  'came'],\n",
       " ['ned', 'called', 'softly'],\n",
       " ['lifted', 'head', 'look'],\n",
       " ['catelyn', 'said'],\n",
       " ['voice', 'distant', 'formal'],\n",
       " ['children'],\n",
       " ['would', 'always', 'ask'],\n",
       " ['kitchen', 'arguing', 'names', 'wolf', 'pups'],\n",
       " ['spread',\n",
       "  'cloak',\n",
       "  'forest',\n",
       "  'floor',\n",
       "  'sat',\n",
       "  'beside',\n",
       "  'pool',\n",
       "  'back',\n",
       "  'weirwood'],\n",
       " ['could', 'feel', 'eyes', 'watching', 'best', 'ignore'],\n",
       " ['arya',\n",
       "  'already',\n",
       "  'love',\n",
       "  'sansa',\n",
       "  'charmed',\n",
       "  'gracious',\n",
       "  'rickon',\n",
       "  'quite',\n",
       "  'sure'],\n",
       " ['afraid'],\n",
       " ['ned', 'asked'],\n",
       " ['page', 'little', 'admitted'],\n",
       " ['three'],\n",
       " ['ned', 'frowned'],\n",
       " ['must', 'learn', 'face', 'fears'],\n",
       " ['three', 'forever'],\n",
       " ['winter', 'coming'],\n",
       " ['yes', 'catelyn', 'agreed'],\n",
       " ['words', 'gave', 'chill', 'always'],\n",
       " ['stark', 'words'],\n",
       " ['every', 'noble', 'house', 'words'],\n",
       " ['family',\n",
       "  'mottoes',\n",
       "  'touchstones',\n",
       "  'prayers',\n",
       "  'sorts',\n",
       "  'boasted',\n",
       "  'honor',\n",
       "  'glory',\n",
       "  'promised',\n",
       "  'loyalty',\n",
       "  'truth',\n",
       "  'swore',\n",
       "  'faith',\n",
       "  'courage'],\n",
       " ['starks'],\n",
       " ['winter', 'coming', 'said', 'stark', 'words'],\n",
       " ['first', 'time', 'reflected', 'strange', 'people', 'northerners'],\n",
       " ['man', 'died', 'well', 'give', 'ned', 'said'],\n",
       " ['swatch', 'oiled', 'leather', 'one', 'hand'],\n",
       " ['ran',\n",
       "  'lightly',\n",
       "  'greatsword',\n",
       "  'spoke',\n",
       "  'polishing',\n",
       "  'metal',\n",
       "  'dark',\n",
       "  'glow'],\n",
       " ['glad', 'bran', 'sake'],\n",
       " ['would', 'proud', 'bran'],\n",
       " ['always',\n",
       "  'proud',\n",
       "  'bran',\n",
       "  'catelyn',\n",
       "  'replied',\n",
       "  'watching',\n",
       "  'sword',\n",
       "  'stroked'],\n",
       " ['could',\n",
       "  'see',\n",
       "  'rippling',\n",
       "  'deep',\n",
       "  'within',\n",
       "  'steel',\n",
       "  'metal',\n",
       "  'folded',\n",
       "  'back',\n",
       "  'hundred',\n",
       "  'times',\n",
       "  'forging'],\n",
       " ['catelyn', 'love', 'swords', 'could', 'deny', 'ice', 'beauty'],\n",
       " ['forged',\n",
       "  'valyria',\n",
       "  'doom',\n",
       "  'come',\n",
       "  'old',\n",
       "  'freehold',\n",
       "  'ironsmiths',\n",
       "  'worked',\n",
       "  'metal',\n",
       "  'spells',\n",
       "  'well',\n",
       "  'hammers'],\n",
       " ['four', 'hundred', 'years', 'old', 'sharp', 'day', 'forged'],\n",
       " ['name',\n",
       "  'bore',\n",
       "  'older',\n",
       "  'still',\n",
       "  'legacy',\n",
       "  'age',\n",
       "  'heroes',\n",
       "  'starks',\n",
       "  'kings',\n",
       "  'north'],\n",
       " ['fourth', 'year', 'ned', 'said', 'grimly'],\n",
       " ['poor', 'man', 'half', 'mad'],\n",
       " ['something', 'put', 'fear', 'deep', 'words', 'could', 'reach'],\n",
       " ['sighed'],\n",
       " ['ben', 'writes', 'strength', 'night', 'watch', 'thousand'],\n",
       " ['desertions'],\n",
       " ['losing', 'men', 'rangings', 'well'],\n",
       " ['wildlings'],\n",
       " ['asked'],\n",
       " ['else'],\n",
       " ['ned', 'lifted', 'ice', 'looked', 'cool', 'steel', 'length'],\n",
       " ['grow', 'worse'],\n",
       " ['day',\n",
       "  'may',\n",
       "  'come',\n",
       "  'choice',\n",
       "  'call',\n",
       "  'banners',\n",
       "  'ride',\n",
       "  'north',\n",
       "  'deal',\n",
       "  'kingbeyond',\n",
       "  'wall',\n",
       "  'good'],\n",
       " ['beyond', 'wall'],\n",
       " ['thought', 'made', 'catelyn', 'shudder'],\n",
       " ['ned', 'saw', 'dread', 'face'],\n",
       " ['mance', 'rayder', 'nothing', 'us', 'fear'],\n",
       " ['darker', 'things', 'beyond', 'wall'],\n",
       " ['glanced',\n",
       "  'behind',\n",
       "  'heart',\n",
       "  'tree',\n",
       "  'pale',\n",
       "  'bark',\n",
       "  'red',\n",
       "  'eyes',\n",
       "  'watching',\n",
       "  'listening',\n",
       "  'thinking',\n",
       "  'long',\n",
       "  'slow',\n",
       "  'thoughts'],\n",
       " ['smile', 'gentle'],\n",
       " ['listen', 'many', 'old', 'nan', 'stories'],\n",
       " ['others',\n",
       "  'dead',\n",
       "  'children',\n",
       "  'forest',\n",
       "  'gone',\n",
       "  'eight',\n",
       "  'thousand',\n",
       "  'years'],\n",
       " ['maester', 'luwin', 'tell', 'never', 'lived'],\n",
       " ['living', 'man', 'ever', 'seen', 'one'],\n",
       " ['morning',\n",
       "  'living',\n",
       "  'man',\n",
       "  'ever',\n",
       "  'seen',\n",
       "  'direwolf',\n",
       "  'either',\n",
       "  'catelyn',\n",
       "  'reminded'],\n",
       " ['ought', 'know', 'better', 'argue', 'tully', 'said', 'rueful', 'smile'],\n",
       " ['slid', 'ice', 'back', 'sheath'],\n",
       " ['come', 'tell', 'crib', 'tales'],\n",
       " ['know', 'little', 'like', 'place'],\n",
       " ['lady'],\n",
       " ['catelyn', 'took', 'husband', 'hand'],\n",
       " ['grievous', 'news', 'today', 'lord'],\n",
       " ['wish', 'trouble', 'cleansed'],\n",
       " ['way', 'soften', 'blow', 'told', 'straight'],\n",
       " ['page', 'sorry', 'love'],\n",
       " ['jon', 'arryn', 'dead'],\n",
       " ['eyes', 'found', 'could', 'see', 'hard', 'took', 'known', 'would'],\n",
       " ['youth',\n",
       "  'ned',\n",
       "  'fostered',\n",
       "  'eyrie',\n",
       "  'childless',\n",
       "  'lord',\n",
       "  'arryn',\n",
       "  'become',\n",
       "  'second',\n",
       "  'father',\n",
       "  'fellow',\n",
       "  'ward',\n",
       "  'robert',\n",
       "  'baratheon'],\n",
       " ['mad',\n",
       "  'king',\n",
       "  'aerys',\n",
       "  'targaryen',\n",
       "  'demanded',\n",
       "  'heads',\n",
       "  'lord',\n",
       "  'eyrie',\n",
       "  'raised',\n",
       "  'moon',\n",
       "  'falcon',\n",
       "  'banners',\n",
       "  'revolt',\n",
       "  'rather',\n",
       "  'give',\n",
       "  'pledged',\n",
       "  'protect'],\n",
       " ['one',\n",
       "  'day',\n",
       "  'fifteen',\n",
       "  'years',\n",
       "  'ago',\n",
       "  'second',\n",
       "  'father',\n",
       "  'become',\n",
       "  'brother',\n",
       "  'well',\n",
       "  'ned',\n",
       "  'stood',\n",
       "  'together',\n",
       "  'sept',\n",
       "  'riverrun',\n",
       "  'wed',\n",
       "  'two',\n",
       "  'sisters',\n",
       "  'daughters',\n",
       "  'lord',\n",
       "  'hoster',\n",
       "  'tully'],\n",
       " ['jon'],\n",
       " [],\n",
       " [],\n",
       " ['said'],\n",
       " ['news', 'certain'],\n",
       " ['king', 'seal', 'letter', 'robert', 'hand'],\n",
       " ['saved'],\n",
       " ['said', 'lord', 'arryn', 'taken', 'quickly'],\n",
       " ['even',\n",
       "  'maester',\n",
       "  'pycelle',\n",
       "  'helpless',\n",
       "  'brought',\n",
       "  'milk',\n",
       "  'poppy',\n",
       "  'jon',\n",
       "  'linger',\n",
       "  'long',\n",
       "  'pain'],\n",
       " ['small', 'mercy', 'suppose', 'said'],\n",
       " ['could', 'see', 'grief', 'face', 'even', 'thought', 'first'],\n",
       " ['sister', 'said'],\n",
       " ['jon', 'boy'],\n",
       " ['word'],\n",
       " ['message', 'said', 'well', 'returned', 'eyrie', 'catelyn', 'said'],\n",
       " ['wish', 'gone', 'riverrun', 'instead'],\n",
       " ['eyrie', 'high', 'lonely', 'ever', 'husband', 'place'],\n",
       " ['lord', 'jon', 'memory', 'haunt', 'stone'],\n",
       " ['know', 'sister'],\n",
       " ['needs', 'comfort', 'family', 'friends', 'around'],\n",
       " ['uncle', 'waits', 'vale'],\n",
       " ['jon', 'named', 'knight', 'gate', 'heard'],\n",
       " ['catelyn', 'nodded'],\n",
       " ['brynden', 'boy'],\n",
       " ['comfort', 'still'],\n",
       " [],\n",
       " [],\n",
       " ['go', 'ned', 'urged'],\n",
       " ['take', 'children'],\n",
       " ['fill', 'halls', 'noise', 'shouts', 'laughter'],\n",
       " ['boy', 'needs', 'children', 'lysa', 'alone', 'grief'],\n",
       " ['would', 'could', 'catelyn', 'said'],\n",
       " ['letter', 'tidings'],\n",
       " ['king', 'riding', 'winterfell', 'seek'],\n",
       " ['took',\n",
       "  'ned',\n",
       "  'moment',\n",
       "  'comprehend',\n",
       "  'words',\n",
       "  'understanding',\n",
       "  'came',\n",
       "  'darkness',\n",
       "  'left',\n",
       "  'eyes'],\n",
       " ['robert', 'coming'],\n",
       " ['nodded', 'smile', 'broke', 'across', 'face'],\n",
       " ['catelyn', 'wished', 'could', 'share', 'joy'],\n",
       " ['heard',\n",
       "  'talk',\n",
       "  'yards',\n",
       "  'direwolf',\n",
       "  'dead',\n",
       "  'snow',\n",
       "  'broken',\n",
       "  'antler',\n",
       "  'throat'],\n",
       " ['dread',\n",
       "  'coiled',\n",
       "  'within',\n",
       "  'like',\n",
       "  'snake',\n",
       "  'forced',\n",
       "  'smile',\n",
       "  'man',\n",
       "  'loved',\n",
       "  'man',\n",
       "  'put',\n",
       "  'faith',\n",
       "  'signs'],\n",
       " ['knew', 'would', 'please', 'said'],\n",
       " ['send', 'word', 'brother', 'wall'],\n",
       " ['yes', 'course', 'agreed'],\n",
       " ['ben', 'want'],\n",
       " ['shall', 'tell', 'maester', 'luwin', 'send', 'swiftest', 'bird'],\n",
       " ['ned', 'rose', 'pulled', 'feet'],\n",
       " ['damnation', 'many', 'years'],\n",
       " ['gives', 'us', 'notice'],\n",
       " ['many', 'party', 'message', 'say'],\n",
       " ['think',\n",
       "  'hundred',\n",
       "  'knights',\n",
       "  'least',\n",
       "  'retainers',\n",
       "  'half',\n",
       "  'many',\n",
       "  'freeriders'],\n",
       " ['page', 'cersei', 'children', 'travel'],\n",
       " ['robert', 'keep', 'easy', 'pace', 'sakes', 'said'],\n",
       " ['well'],\n",
       " ['give', 'us', 'time', 'prepare'],\n",
       " ['queen', 'brothers', 'also', 'party', 'told'],\n",
       " ['ned', 'grimaced'],\n",
       " ['small', 'love', 'queen', 'family', 'catelyn', 'knew'],\n",
       " ['lannisters',\n",
       "  'casterly',\n",
       "  'rock',\n",
       "  'come',\n",
       "  'late',\n",
       "  'robert',\n",
       "  'cause',\n",
       "  'victory',\n",
       "  'certain',\n",
       "  'never',\n",
       "  'forgiven'],\n",
       " ['well', 'price', 'robert', 'company', 'infestation', 'lannisters'],\n",
       " ['sounds', 'though', 'robert', 'bringing', 'half', 'court'],\n",
       " ['king', 'goes', 'realm', 'follows', 'said'],\n",
       " ['good', 'see', 'children'],\n",
       " ['youngest',\n",
       "  'still',\n",
       "  'sucking',\n",
       "  'lannister',\n",
       "  'woman',\n",
       "  'teat',\n",
       "  'last',\n",
       "  'time',\n",
       "  'saw'],\n",
       " ['must', 'five'],\n",
       " ['prince', 'tornmen', 'seven', 'told'],\n",
       " ['age', 'bran'],\n",
       " ['please', 'ned', 'guard', 'tongue'],\n",
       " ['lannister',\n",
       "  'woman',\n",
       "  'queen',\n",
       "  'pride',\n",
       "  'said',\n",
       "  'grow',\n",
       "  'every',\n",
       "  'passing',\n",
       "  'year'],\n",
       " ['ned', 'squeezed', 'hand'],\n",
       " ['must', 'feast', 'course', 'singers', 'robert', 'want', 'hunt'],\n",
       " ['shall',\n",
       "  'send',\n",
       "  'jory',\n",
       "  'south',\n",
       "  'honor',\n",
       "  'guard',\n",
       "  'meet',\n",
       "  'kingsroad',\n",
       "  'escort',\n",
       "  'back'],\n",
       " ['gods', 'going', 'feed'],\n",
       " ['way', 'already', 'said'],\n",
       " ['damn', 'man'],\n",
       " ['damn', 'royal', 'hide'],\n",
       " ['daenerys', 'brother', 'held', 'gown', 'inspection'],\n",
       " ['beauty'],\n",
       " ['touch'],\n",
       " ['go'],\n",
       " ['caress', 'fabric'],\n",
       " ['dany', 'touched'],\n",
       " ['cloth', 'smooth', 'seemed', 'run', 'fingers', 'like', 'water'],\n",
       " ['could', 'remember', 'ever', 'wearing', 'anything', 'soft'],\n",
       " ['frightened'],\n",
       " ['pulled', 'hand', 'away'],\n",
       " ['really', 'mine'],\n",
       " ['gift', 'magister', 'illyrio', 'viserys', 'said', 'smiling'],\n",
       " ['brother', 'high', 'mood', 'tonight'],\n",
       " ['color', 'bring', 'violet', 'eyes'],\n",
       " ['shall', 'gold', 'well', 'jewels', 'sorts'],\n",
       " ['illyrio', 'promised'],\n",
       " ['tonight', 'must', 'look', 'like', 'princess'],\n",
       " ['princess', 'dany', 'thought'],\n",
       " ['forgotten', 'like'],\n",
       " ['perhaps', 'never', 'really', 'known'],\n",
       " ['give', 'us', 'much'],\n",
       " ['asked'],\n",
       " ['want', 'us'],\n",
       " ['nigh',\n",
       "  'half',\n",
       "  'year',\n",
       "  'lived',\n",
       "  'magister',\n",
       "  'house',\n",
       "  'eating',\n",
       "  'food',\n",
       "  'pampered',\n",
       "  'servants'],\n",
       " ['dany',\n",
       "  'thirteen',\n",
       "  'old',\n",
       "  'enough',\n",
       "  'know',\n",
       "  'gifts',\n",
       "  'seldom',\n",
       "  'come',\n",
       "  'without',\n",
       "  'price',\n",
       "  'free',\n",
       "  'city',\n",
       "  'pentos'],\n",
       " ['illyrio', 'fool', 'viserys', 'said'],\n",
       " ['gaunt',\n",
       "  'young',\n",
       "  'man',\n",
       "  'nervous',\n",
       "  'hands',\n",
       "  'feverish',\n",
       "  'look',\n",
       "  'pale',\n",
       "  'lilac',\n",
       "  'eyes'],\n",
       " ['magister', 'knows', 'forget', 'friends', 'come', 'throne'],\n",
       " ['dany', 'said', 'nothing'],\n",
       " ['magister',\n",
       "  'illyrio',\n",
       "  'dealer',\n",
       "  'spices',\n",
       "  'gemstones',\n",
       "  'dragonbone',\n",
       "  'less',\n",
       "  'savory',\n",
       "  'things'],\n",
       " ['friends',\n",
       "  'nine',\n",
       "  'free',\n",
       "  'cities',\n",
       "  'said',\n",
       "  'even',\n",
       "  'beyond',\n",
       "  'vaes',\n",
       "  'dothrak',\n",
       "  'fabled',\n",
       "  'lands',\n",
       "  'beside',\n",
       "  'jade',\n",
       "  'sea'],\n",
       " ['also',\n",
       "  'said',\n",
       "  'never',\n",
       "  'friend',\n",
       "  'page',\n",
       "  'cheerfully',\n",
       "  'sell',\n",
       "  'right',\n",
       "  'price'],\n",
       " ['dany',\n",
       "  'listened',\n",
       "  'talk',\n",
       "  'streets',\n",
       "  'heard',\n",
       "  'things',\n",
       "  'knew',\n",
       "  'better',\n",
       "  'question',\n",
       "  'brother',\n",
       "  'wove',\n",
       "  'webs',\n",
       "  'dream'],\n",
       " ['anger', 'terrible', 'thing', 'roused'],\n",
       " ['viserys', 'called', 'waking', 'dragon'],\n",
       " ['brother', 'hung', 'gown', 'beside', 'door'],\n",
       " ['illyrio', 'send', 'slaves', 'bathe'],\n",
       " ['sure', 'wash', 'stink', 'stables'],\n",
       " ['khal',\n",
       "  'drogo',\n",
       "  'thousand',\n",
       "  'horses',\n",
       "  'tonight',\n",
       "  'looks',\n",
       "  'different',\n",
       "  'sort',\n",
       "  'mount'],\n",
       " ['studied', 'critically'],\n",
       " ['still', 'slouch'],\n",
       " ['straighten', 'pushed', 'back', 'shoulders', 'hands'],\n",
       " ['let', 'see', 'woman', 'shape'],\n",
       " ['fingers',\n",
       "  'brushed',\n",
       "  'lightly',\n",
       "  'budding',\n",
       "  'breasts',\n",
       "  'tightened',\n",
       "  'nipple'],\n",
       " ['fail', 'tonight'],\n",
       " ['go', 'hard'],\n",
       " ['want', 'wake', 'dragon'],\n",
       " ['fingers',\n",
       "  'twisted',\n",
       "  'pinch',\n",
       "  'cruelly',\n",
       "  'hard',\n",
       "  'rough',\n",
       "  'fabric',\n",
       "  'tunic'],\n",
       " [],\n",
       " ['repeated'],\n",
       " ['dany', 'said', 'meekly'],\n",
       " ['brother', 'smiled'],\n",
       " ['good'],\n",
       " ['touched', 'hair', 'almost', 'affection'],\n",
       " ['write', 'history', 'reign', 'sweet', 'sister', 'say', 'began', 'tonight'],\n",
       " ['gone', 'dany', 'went', 'window', 'looked', 'wistfully', 'waters', 'bay'],\n",
       " ['square',\n",
       "  'brick',\n",
       "  'towers',\n",
       "  'pentos',\n",
       "  'black',\n",
       "  'silhouettes',\n",
       "  'outlined',\n",
       "  'setting',\n",
       "  'sun'],\n",
       " ['dany',\n",
       "  'could',\n",
       "  'hear',\n",
       "  'singing',\n",
       "  'red',\n",
       "  'priests',\n",
       "  'lit',\n",
       "  'night',\n",
       "  'fires',\n",
       "  'shouts',\n",
       "  'ragged',\n",
       "  'children',\n",
       "  'playing',\n",
       "  'games',\n",
       "  'beyond',\n",
       "  'walls',\n",
       "  'estate'],\n",
       " ['moment',\n",
       "  'wished',\n",
       "  'could',\n",
       "  'barefoot',\n",
       "  'breathless',\n",
       "  'dressed',\n",
       "  'tatters',\n",
       "  'past',\n",
       "  'future',\n",
       "  'feast',\n",
       "  'attend',\n",
       "  'khal',\n",
       "  'drogo',\n",
       "  'manse'],\n",
       " ['somewhere',\n",
       "  'beyond',\n",
       "  'sunset',\n",
       "  'across',\n",
       "  'narrow',\n",
       "  'sea',\n",
       "  'lay',\n",
       "  'land',\n",
       "  'green',\n",
       "  'hills',\n",
       "  'flowered',\n",
       "  'plains',\n",
       "  'great',\n",
       "  'rushing',\n",
       "  'rivers',\n",
       "  'towers',\n",
       "  'dark',\n",
       "  'stone',\n",
       "  'rose',\n",
       "  'amidst',\n",
       "  'magnificent',\n",
       "  'blue',\n",
       "  'grey',\n",
       "  'mountains',\n",
       "  'armored',\n",
       "  'knights',\n",
       "  'rode',\n",
       "  'battle',\n",
       "  'beneath',\n",
       "  'banners',\n",
       "  'lords'],\n",
       " ['dothraki', 'called', 'land', 'rhaesh', 'andahli', 'land', 'andals'],\n",
       " ['free', 'cities', 'talked', 'westeros', 'sunset', 'kingdoms'],\n",
       " ['brother', 'simpler', 'name'],\n",
       " ['land', 'called'],\n",
       " ['words', 'like', 'prayer'],\n",
       " ['said', 'enough', 'gods', 'sure', 'hear'],\n",
       " ['blood', 'right', 'taken', 'us', 'treachery', 'still', 'forever'],\n",
       " ['steal', 'dragon', 'oh'],\n",
       " ['dragon', 'remembers'],\n",
       " ['perhaps', 'dragon', 'remember', 'dany', 'could'],\n",
       " ['never',\n",
       "  'seen',\n",
       "  'land',\n",
       "  'brother',\n",
       "  'said',\n",
       "  'realm',\n",
       "  'beyond',\n",
       "  'narrow',\n",
       "  'sea'],\n",
       " ['places',\n",
       "  'talked',\n",
       "  'casterly',\n",
       "  'rock',\n",
       "  'eyrie',\n",
       "  'highgarden',\n",
       "  'vale',\n",
       "  'arryn',\n",
       "  'dorne',\n",
       "  'isle',\n",
       "  'faces',\n",
       "  'words'],\n",
       " ['viserys',\n",
       "  'boy',\n",
       "  'eight',\n",
       "  'fled',\n",
       "  'king',\n",
       "  'landing',\n",
       "  'escape',\n",
       "  'advancing',\n",
       "  'armies',\n",
       "  'usurper',\n",
       "  'daenerys',\n",
       "  'quickening',\n",
       "  'mother',\n",
       "  'womb'],\n",
       " ['yet',\n",
       "  'sometimes',\n",
       "  'dany',\n",
       "  'would',\n",
       "  'picture',\n",
       "  'way',\n",
       "  'often',\n",
       "  'brother',\n",
       "  'told',\n",
       "  'stories'],\n",
       " ['midnight',\n",
       "  'flight',\n",
       "  'dragonstone',\n",
       "  'moonlight',\n",
       "  'shimmering',\n",
       "  'ship',\n",
       "  'black',\n",
       "  'sails'],\n",
       " ['brother',\n",
       "  'rhaegar',\n",
       "  'battling',\n",
       "  'usurper',\n",
       "  'bloody',\n",
       "  'waters',\n",
       "  'trident',\n",
       "  'dying',\n",
       "  'woman',\n",
       "  'loved'],\n",
       " ['sack',\n",
       "  'king',\n",
       "  'landing',\n",
       "  'ones',\n",
       "  'viserys',\n",
       "  'called',\n",
       "  'usurper',\n",
       "  'dogs',\n",
       "  'lords',\n",
       "  'lannister',\n",
       "  'stark'],\n",
       " ['princess',\n",
       "  'elia',\n",
       "  'dorne',\n",
       "  'pleading',\n",
       "  'mercy',\n",
       "  'rhaegar',\n",
       "  'heir',\n",
       "  'ripped',\n",
       "  'breast',\n",
       "  'murdered',\n",
       "  'eyes'],\n",
       " ['polished',\n",
       "  'skulls',\n",
       "  'last',\n",
       "  'dragons',\n",
       "  'staring',\n",
       "  'sightlessly',\n",
       "  'walls',\n",
       "  'throne',\n",
       "  'room',\n",
       "  'kingslayer',\n",
       "  'opened',\n",
       "  'father',\n",
       "  'throat',\n",
       "  'golden',\n",
       "  'sword'],\n",
       " ['born',\n",
       "  'dragonstone',\n",
       "  'nine',\n",
       "  'moons',\n",
       "  'flight',\n",
       "  'raging',\n",
       "  'summer',\n",
       "  'storm',\n",
       "  'threatened',\n",
       "  'rip',\n",
       "  'island',\n",
       "  'fastness',\n",
       "  'apart'],\n",
       " ['said', 'storm', 'terrible'],\n",
       " ['targaryen',\n",
       "  'fleet',\n",
       "  'smashed',\n",
       "  'lay',\n",
       "  'anchor',\n",
       "  'huge',\n",
       "  'stone',\n",
       "  'blocks',\n",
       "  'ripped',\n",
       "  'parapets',\n",
       "  'sent',\n",
       "  'hurtling',\n",
       "  'wild',\n",
       "  'waters',\n",
       "  'narrow',\n",
       "  'sea'],\n",
       " ['mother',\n",
       "  'died',\n",
       "  'birthing',\n",
       "  'brother',\n",
       "  'viserys',\n",
       "  'never',\n",
       "  'page',\n",
       "  'forgiven'],\n",
       " ['remember', 'dragonstone', 'either'],\n",
       " ['run', 'usurper', 'brother', 'set', 'sail', 'new', 'built', 'fleet'],\n",
       " ['dragonstone', 'ancient', 'seat', 'house', 'remained', 'seven', 'kingdoms'],\n",
       " ['would', 'remain', 'long'],\n",
       " ['garrison',\n",
       "  'prepared',\n",
       "  'sell',\n",
       "  'usurper',\n",
       "  'one',\n",
       "  'night',\n",
       "  'ser',\n",
       "  'willem',\n",
       "  'darry',\n",
       "  'four',\n",
       "  'loyal',\n",
       "  'men',\n",
       "  'broken',\n",
       "  'nursery',\n",
       "  'stolen',\n",
       "  'along',\n",
       "  'wet',\n",
       "  'nurse',\n",
       "  'set',\n",
       "  'sail',\n",
       "  'cover',\n",
       "  'darkness',\n",
       "  'safety',\n",
       "  'braavosian',\n",
       "  'coast'],\n",
       " ['remembered',\n",
       "  'ser',\n",
       "  'willem',\n",
       "  'dimly',\n",
       "  'great',\n",
       "  'grey',\n",
       "  'bear',\n",
       "  'man',\n",
       "  'halfblind',\n",
       "  'roaring',\n",
       "  'bellowing',\n",
       "  'orders',\n",
       "  'sickbed'],\n",
       " ['servants', 'lived', 'terror', 'always', 'kind', 'dany'],\n",
       " ['called',\n",
       "  'little',\n",
       "  'princess',\n",
       "  'sometimes',\n",
       "  'lady',\n",
       "  'hands',\n",
       "  'soft',\n",
       "  'old',\n",
       "  'leather'],\n",
       " ['never',\n",
       "  'left',\n",
       "  'bed',\n",
       "  'though',\n",
       "  'smell',\n",
       "  'sickness',\n",
       "  'clung',\n",
       "  'day',\n",
       "  'night',\n",
       "  'hot',\n",
       "  'moist',\n",
       "  'sickly',\n",
       "  'sweet',\n",
       "  'odor'],\n",
       " ['lived', 'braavos', 'big', 'house', 'red', 'door'],\n",
       " ['dany', 'room', 'lemon', 'tree', 'outside', 'window'],\n",
       " ['ser',\n",
       "  'willem',\n",
       "  'died',\n",
       "  'servants',\n",
       "  'stolen',\n",
       "  'little',\n",
       "  'money',\n",
       "  'left',\n",
       "  'soon',\n",
       "  'put',\n",
       "  'big',\n",
       "  'house'],\n",
       " ['dany', 'cried', 'red', 'door', 'closed', 'behind', 'forever'],\n",
       " ['wandered',\n",
       "  'since',\n",
       "  'braavos',\n",
       "  'myr',\n",
       "  'myr',\n",
       "  'tyrosh',\n",
       "  'qohor',\n",
       "  'volantis',\n",
       "  'lys',\n",
       "  'never',\n",
       "  'staying',\n",
       "  'long',\n",
       "  'one',\n",
       "  'place'],\n",
       " ['brother', 'would', 'allow'],\n",
       " ['usurper',\n",
       "  'hired',\n",
       "  'knives',\n",
       "  'close',\n",
       "  'behind',\n",
       "  'insisted',\n",
       "  'though',\n",
       "  'dany',\n",
       "  'never',\n",
       "  'seen',\n",
       "  'one'],\n",
       " ['first',\n",
       "  'magisters',\n",
       "  'archons',\n",
       "  'merchant',\n",
       "  'princes',\n",
       "  'pleased',\n",
       "  'welcome',\n",
       "  'last',\n",
       "  'targaryens',\n",
       "  'homes',\n",
       "  'tables',\n",
       "  'years',\n",
       "  'passed',\n",
       "  'usurper',\n",
       "  'continued',\n",
       "  'sit',\n",
       "  'upon',\n",
       "  'iron',\n",
       "  'throne',\n",
       "  'doors',\n",
       "  'closed',\n",
       "  'lives',\n",
       "  'grew',\n",
       "  'meaner'],\n",
       " ['years',\n",
       "  'past',\n",
       "  'forced',\n",
       "  'sell',\n",
       "  'last',\n",
       "  'treasures',\n",
       "  'even',\n",
       "  'coin',\n",
       "  'gotten',\n",
       "  'mother',\n",
       "  'crown',\n",
       "  'gone'],\n",
       " ['alleys', 'wine', 'sinks', 'pentos', 'called', 'brother', 'beggar', 'king'],\n",
       " ['dany', 'want', 'know', 'called'],\n",
       " ['back', 'someday', 'sweet', 'sister', 'would', 'promise'],\n",
       " ['sometimes', 'hands', 'shook', 'talked'],\n",
       " ['jewels',\n",
       "  'silks',\n",
       "  'dragonstone',\n",
       "  'king',\n",
       "  'landing',\n",
       "  'iron',\n",
       "  'throne',\n",
       "  'seven',\n",
       "  'kingdoms',\n",
       "  'taken',\n",
       "  'us',\n",
       "  'back'],\n",
       " ['viserys', 'lived', 'day'],\n",
       " ['daenerys',\n",
       "  'wanted',\n",
       "  'back',\n",
       "  'big',\n",
       "  'house',\n",
       "  'red',\n",
       "  'door',\n",
       "  'lemon',\n",
       "  'tree',\n",
       "  'outside',\n",
       "  'window',\n",
       "  'childhood',\n",
       "  'never',\n",
       "  'known'],\n",
       " ['came', 'soft', 'knock', 'door'],\n",
       " ['come', 'dany', 'said', 'turning', 'away', 'window'],\n",
       " ['illyrio', 'servants', 'entered', 'bowed', 'set', 'business'],\n",
       " ['slaves', 'gift', 'one', 'magister', 'many', 'dothraki', 'friends'],\n",
       " ['slavery', 'free', 'city', 'pentos'],\n",
       " ['nonetheless', 'slaves'],\n",
       " ['old',\n",
       "  'woman',\n",
       "  'small',\n",
       "  'grey',\n",
       "  'mouse',\n",
       "  'never',\n",
       "  'said',\n",
       "  'word',\n",
       "  'girl',\n",
       "  'made'],\n",
       " ['illyrio',\n",
       "  'favorite',\n",
       "  'fair',\n",
       "  'haired',\n",
       "  'blue',\n",
       "  'eyed',\n",
       "  'wench',\n",
       "  'sixteen',\n",
       "  'chattered',\n",
       "  'constantly',\n",
       "  'worked'],\n",
       " ['filled',\n",
       "  'bath',\n",
       "  'hot',\n",
       "  'water',\n",
       "  'brought',\n",
       "  'kitchen',\n",
       "  'scented',\n",
       "  'fragrant',\n",
       "  'oils'],\n",
       " ['girl',\n",
       "  'pulled',\n",
       "  'rough',\n",
       "  'cotton',\n",
       "  'tunic',\n",
       "  'dany',\n",
       "  'head',\n",
       "  'helped',\n",
       "  'tub'],\n",
       " ['water', 'scalding', 'hot', 'daenerys', 'flinch', 'cry'],\n",
       " ['liked', 'heat'],\n",
       " ['made', 'feel', 'clean'],\n",
       " ['besides', 'brother', 'often', 'told', 'never', 'hot', 'targaryen'],\n",
       " ['house', 'dragon', 'would', 'say'],\n",
       " ['fire', 'blood'],\n",
       " ['old',\n",
       "  'woman',\n",
       "  'washed',\n",
       "  'long',\n",
       "  'silver',\n",
       "  'pale',\n",
       "  'hair',\n",
       "  'gently',\n",
       "  'combed',\n",
       "  'snags',\n",
       "  'silence'],\n",
       " ['girl', 'scrubbed', 'back', 'feet', 'told', 'lucky'],\n",
       " ['drogo', 'rich', 'even', 'slaves', 'page', 'wear', 'golden', 'collars'],\n",
       " ['hundred',\n",
       "  'thousand',\n",
       "  'men',\n",
       "  'ride',\n",
       "  'khalasar',\n",
       "  'palace',\n",
       "  'vaes',\n",
       "  'dothrak',\n",
       "  'two',\n",
       "  'hundred',\n",
       "  'rooms',\n",
       "  'doors',\n",
       "  'solid',\n",
       "  'silver'],\n",
       " ['like',\n",
       "  'much',\n",
       "  'handsome',\n",
       "  'man',\n",
       "  'khal',\n",
       "  'tall',\n",
       "  'fierce',\n",
       "  'fearless',\n",
       "  'battle',\n",
       "  'best',\n",
       "  'rider',\n",
       "  'ever',\n",
       "  'mount',\n",
       "  'horse',\n",
       "  'demon',\n",
       "  'archer'],\n",
       " ['daenerys', 'said', 'nothing'],\n",
       " ...]"
      ]
     },
     "execution_count": 6,
     "metadata": {},
     "output_type": "execute_result"
    }
   ],
   "source": [
    "story"
   ]
  },
  {
   "cell_type": "code",
   "execution_count": 7,
   "id": "df5b1235",
   "metadata": {},
   "outputs": [],
   "source": [
    "model = gensim.models.Word2Vec(\n",
    "         window = 10,\n",
    "        min_count = 2\n",
    ")"
   ]
  },
  {
   "cell_type": "code",
   "execution_count": 8,
   "id": "03fc6d21",
   "metadata": {},
   "outputs": [],
   "source": [
    "model.build_vocab(story)"
   ]
  },
  {
   "cell_type": "code",
   "execution_count": 9,
   "id": "ebd21f1b",
   "metadata": {},
   "outputs": [
    {
     "data": {
      "text/plain": [
       "(4396637, 4579345)"
      ]
     },
     "execution_count": 9,
     "metadata": {},
     "output_type": "execute_result"
    }
   ],
   "source": [
    "model.train(story,total_examples=model.corpus_count,epochs=model.epochs)"
   ]
  },
  {
   "cell_type": "code",
   "execution_count": 10,
   "id": "96412bbd",
   "metadata": {},
   "outputs": [
    {
     "data": {
      "text/plain": [
       "[('stormborn', 0.9114894270896912),\n",
       " ('unburnt', 0.8788954019546509),\n",
       " ('targaryen', 0.8275172710418701),\n",
       " ('kith', 0.8239343762397766),\n",
       " ('court', 0.8222721815109253),\n",
       " ('dorne', 0.8168109059333801),\n",
       " ('loraq', 0.8145363926887512),\n",
       " ('elia', 0.8144081830978394),\n",
       " ('myrcella', 0.811586320400238),\n",
       " ('regent', 0.8097341060638428)]"
      ]
     },
     "execution_count": 10,
     "metadata": {},
     "output_type": "execute_result"
    }
   ],
   "source": [
    "model.wv.most_similar('daenerys')"
   ]
  },
  {
   "cell_type": "code",
   "execution_count": 11,
   "id": "223d6304",
   "metadata": {},
   "outputs": [
    {
     "data": {
      "text/plain": [
       "'john'"
      ]
     },
     "execution_count": 11,
     "metadata": {},
     "output_type": "execute_result"
    }
   ],
   "source": [
    "model.wv.doesnt_match(['daenyrs','tyrion','john','brannie'])"
   ]
  },
  {
   "cell_type": "code",
   "execution_count": 12,
   "id": "51695f40",
   "metadata": {},
   "outputs": [
    {
     "data": {
      "text/plain": [
       "array([-0.1126465 ,  0.43517825, -0.20441957,  1.2390468 , -3.5236404 ,\n",
       "       -1.1468629 ,  0.22628833, -1.0658584 , -0.43087855, -1.2506593 ,\n",
       "        0.44463786,  1.0255817 ,  0.23314326, -1.6201721 , -0.8101932 ,\n",
       "        1.145831  ,  1.4057165 ,  0.3330796 , -1.4682766 , -0.6778462 ,\n",
       "       -0.47111684,  1.6902386 , -0.25154626, -3.1896825 ,  0.8754054 ,\n",
       "        1.4455442 , -1.656672  , -0.52940726, -1.6672845 ,  2.0049896 ,\n",
       "       -1.1041865 ,  2.1001964 , -0.14876664, -0.56816447, -0.9885602 ,\n",
       "        1.0678662 , -0.7249586 , -1.2809911 , -0.9889803 , -0.09255265,\n",
       "        0.97340256, -0.13563377, -1.2299837 ,  0.5543799 ,  0.717252  ,\n",
       "       -1.145483  , -2.1693332 , -0.4367215 ,  2.2160084 , -0.19130592,\n",
       "       -1.2798644 , -0.39299136,  2.5558913 , -1.1951914 ,  0.3690594 ,\n",
       "        2.5629654 , -1.4142774 ,  1.1255374 , -0.37565857,  3.014074  ,\n",
       "        0.96082467, -0.48343846, -1.1355771 ,  2.362863  ,  0.9416642 ,\n",
       "       -0.31967378, -2.6115692 ,  1.5380741 ,  1.1244262 , -0.40001735,\n",
       "        0.25308537, -0.3360212 ,  1.2014447 , -0.5641228 ,  0.37221602,\n",
       "        1.806843  ,  1.5511959 , -1.1356206 ,  0.24470504, -1.4381458 ,\n",
       "       -2.3484695 ,  0.3792169 ,  0.08514048,  0.41491914,  0.3867359 ,\n",
       "       -0.01131278,  0.76457995,  1.379373  ,  1.8062408 , -0.16676344,\n",
       "        0.03041659,  0.09229673, -1.6706873 ,  2.8756244 , -0.46274868,\n",
       "        0.5803331 ,  0.20098256, -1.6460739 ,  0.8322034 ,  0.26425004],\n",
       "      dtype=float32)"
      ]
     },
     "execution_count": 12,
     "metadata": {},
     "output_type": "execute_result"
    }
   ],
   "source": [
    "model.wv['king']"
   ]
  },
  {
   "cell_type": "code",
   "execution_count": 13,
   "id": "7d7da43a",
   "metadata": {},
   "outputs": [
    {
     "data": {
      "text/plain": [
       "0.79389966"
      ]
     },
     "execution_count": 13,
     "metadata": {},
     "output_type": "execute_result"
    }
   ],
   "source": [
    "model.wv.similarity('sansa','arya')"
   ]
  },
  {
   "cell_type": "code",
   "execution_count": 14,
   "id": "b3a21c85",
   "metadata": {},
   "outputs": [
    {
     "data": {
      "text/plain": [
       "array([[ 0.08535136,  0.13109401,  0.01853034, ..., -0.05945512,\n",
       "        -0.04758092,  0.12626822],\n",
       "       [-0.16757026,  0.18343613,  0.06117449, ..., -0.14679587,\n",
       "        -0.03714211,  0.17551242],\n",
       "       [-0.00368127,  0.077573  , -0.10115954, ..., -0.13154298,\n",
       "         0.12173436, -0.19381672],\n",
       "       ...,\n",
       "       [ 0.05251398,  0.05132307, -0.00661859, ..., -0.18626326,\n",
       "         0.04801248,  0.07588524],\n",
       "       [-0.14753996,  0.19091895, -0.0807184 , ..., -0.05760779,\n",
       "        -0.02599812,  0.1540434 ],\n",
       "       [-0.1089794 ,  0.1635436 ,  0.02789412, ..., -0.18670778,\n",
       "         0.06696848,  0.17927289]], dtype=float32)"
      ]
     },
     "execution_count": 14,
     "metadata": {},
     "output_type": "execute_result"
    }
   ],
   "source": [
    "model.wv.get_normed_vectors()"
   ]
  },
  {
   "cell_type": "code",
   "execution_count": 15,
   "id": "83f5b248",
   "metadata": {},
   "outputs": [
    {
     "data": {
      "text/plain": [
       "['said',\n",
       " 'lord',\n",
       " 'would',\n",
       " 'one',\n",
       " 'ser',\n",
       " 'could',\n",
       " 'man',\n",
       " 'king',\n",
       " 'men',\n",
       " 'back',\n",
       " 'well',\n",
       " 'like',\n",
       " 'jon',\n",
       " 'father',\n",
       " 'old',\n",
       " 'hand',\n",
       " 'even',\n",
       " 'tyrion',\n",
       " 'never',\n",
       " 'know',\n",
       " 'see',\n",
       " 'made',\n",
       " 'eyes',\n",
       " 'black',\n",
       " 'told',\n",
       " 'lady',\n",
       " 'thought',\n",
       " 'time',\n",
       " 'long',\n",
       " 'might',\n",
       " 'us',\n",
       " 'come',\n",
       " 'still',\n",
       " 'face',\n",
       " 'head',\n",
       " 'red',\n",
       " 'way',\n",
       " 'boy',\n",
       " 'page',\n",
       " 'must',\n",
       " 'queen',\n",
       " 'good',\n",
       " 'two',\n",
       " 'brother',\n",
       " 'night',\n",
       " 'little',\n",
       " 'took',\n",
       " 'came',\n",
       " 'though',\n",
       " 'say',\n",
       " 'three',\n",
       " 'away',\n",
       " 'dead',\n",
       " 'son',\n",
       " 'blood',\n",
       " 'take',\n",
       " 'go',\n",
       " 'half',\n",
       " 'make',\n",
       " 'arya',\n",
       " 'saw',\n",
       " 'day',\n",
       " 'white',\n",
       " 'jaime',\n",
       " 'first',\n",
       " 'look',\n",
       " 'want',\n",
       " 'much',\n",
       " 'enough',\n",
       " 'sword',\n",
       " 'tell',\n",
       " 'girl',\n",
       " 'bran',\n",
       " 'great',\n",
       " 'looked',\n",
       " 'left',\n",
       " 'knew',\n",
       " 'asked',\n",
       " 'gave',\n",
       " 'maester',\n",
       " 'called',\n",
       " 'wall',\n",
       " 'every',\n",
       " 'heard',\n",
       " 'sansa',\n",
       " 'let',\n",
       " 'yet',\n",
       " 'went',\n",
       " 'turned',\n",
       " 'dany',\n",
       " 'behind',\n",
       " 'need',\n",
       " 'around',\n",
       " 'woman',\n",
       " 'another',\n",
       " 'snow',\n",
       " 'beneath',\n",
       " 'across',\n",
       " 'knight',\n",
       " 'keep',\n",
       " 'grace',\n",
       " 'found',\n",
       " 'gold',\n",
       " 'last',\n",
       " 'cersei',\n",
       " 'castle',\n",
       " 'stark',\n",
       " 'gods',\n",
       " 'think',\n",
       " 'hair',\n",
       " 'many',\n",
       " 'feet',\n",
       " 'hands',\n",
       " 'stannis',\n",
       " 'mother',\n",
       " 'catelyn',\n",
       " 'robert',\n",
       " 'seemed',\n",
       " 'prince',\n",
       " 'may',\n",
       " 'ever',\n",
       " 'robb',\n",
       " 'done',\n",
       " 'find',\n",
       " 'lannister',\n",
       " 'hear',\n",
       " 'grey',\n",
       " 'name',\n",
       " 'horse',\n",
       " 'high',\n",
       " 'put',\n",
       " 'wine',\n",
       " 'stone',\n",
       " 'hard',\n",
       " 'water',\n",
       " 'fire',\n",
       " 'upon',\n",
       " 'iron',\n",
       " 'voice',\n",
       " 'gone',\n",
       " 'give',\n",
       " 'sam',\n",
       " 'better',\n",
       " 'seen',\n",
       " 'shall',\n",
       " 'ned',\n",
       " 'always',\n",
       " 'years',\n",
       " 'dark',\n",
       " 'place',\n",
       " 'small',\n",
       " 'cold',\n",
       " 'winterfell',\n",
       " 'hundred',\n",
       " 'stood',\n",
       " 'end',\n",
       " 'sister',\n",
       " 'words',\n",
       " 'sea',\n",
       " 'right',\n",
       " 'nothing',\n",
       " 'walls',\n",
       " 'fingers',\n",
       " 'cloak',\n",
       " 'house',\n",
       " 'young',\n",
       " 'beside',\n",
       " 'get',\n",
       " 'mouth',\n",
       " 'seven',\n",
       " 'watch',\n",
       " 'door',\n",
       " 'joffrey',\n",
       " 'green',\n",
       " 'big',\n",
       " 'sent',\n",
       " 'perhaps',\n",
       " 'almost',\n",
       " 'wanted',\n",
       " 'daughter',\n",
       " 'true',\n",
       " 'leave',\n",
       " 'wind',\n",
       " 'city',\n",
       " 'light',\n",
       " 'arms',\n",
       " 'children',\n",
       " 'sweet',\n",
       " 'others',\n",
       " 'lost',\n",
       " 'theon',\n",
       " 'felt',\n",
       " 'side',\n",
       " 'yes',\n",
       " 'brothers',\n",
       " 'best',\n",
       " 'die',\n",
       " 'brought',\n",
       " 'soon',\n",
       " 'far',\n",
       " 'died',\n",
       " 'north',\n",
       " 'child',\n",
       " 'fear',\n",
       " 'along',\n",
       " 'brienne',\n",
       " 'word',\n",
       " 'taken',\n",
       " 'battle',\n",
       " 'help',\n",
       " 'new',\n",
       " 'tywin',\n",
       " 'davos',\n",
       " 'lords',\n",
       " 'something',\n",
       " 'mean',\n",
       " 'wife',\n",
       " 'rest',\n",
       " 'hall',\n",
       " 'kill',\n",
       " 'steel',\n",
       " 'strong',\n",
       " 'began',\n",
       " 'sound',\n",
       " 'dragon',\n",
       " 'past',\n",
       " 'life',\n",
       " 'tower',\n",
       " 'killed',\n",
       " 'arm',\n",
       " 'free',\n",
       " 'tried',\n",
       " 'sons',\n",
       " 'thing',\n",
       " 'bear',\n",
       " 'days',\n",
       " 'bloody',\n",
       " 'heart',\n",
       " 'pale',\n",
       " 'love',\n",
       " 'moment',\n",
       " 'sat',\n",
       " 'bring',\n",
       " 'bed',\n",
       " 'close',\n",
       " 'knights',\n",
       " 'cut',\n",
       " 'wolf',\n",
       " 'horses',\n",
       " 'death',\n",
       " 'smile',\n",
       " 'inside',\n",
       " 'four',\n",
       " 'brown',\n",
       " 'hot',\n",
       " 'dragons',\n",
       " 'silver',\n",
       " 'part',\n",
       " 'bastard',\n",
       " 'open',\n",
       " 'thousand',\n",
       " 'landing',\n",
       " 'uncle',\n",
       " 'going',\n",
       " 'blue',\n",
       " 'air',\n",
       " 'captain',\n",
       " 'please',\n",
       " 'laughed',\n",
       " 'river',\n",
       " 'rose',\n",
       " 'sun',\n",
       " 'fell',\n",
       " 'war',\n",
       " 'golden',\n",
       " 'sleep',\n",
       " 'swords',\n",
       " 'without',\n",
       " 'renly',\n",
       " 'speak',\n",
       " 'fool',\n",
       " 'certain',\n",
       " 'full',\n",
       " 'beyond',\n",
       " 'feel',\n",
       " 'send',\n",
       " 'fight',\n",
       " 'tongue',\n",
       " 'got',\n",
       " 'rode',\n",
       " 'set',\n",
       " 'thick',\n",
       " 'world',\n",
       " 'throat',\n",
       " 'deep',\n",
       " 'legs',\n",
       " 'call',\n",
       " 'honor',\n",
       " 'rock',\n",
       " 'trees',\n",
       " 'tall',\n",
       " 'table',\n",
       " 'pulled',\n",
       " 'broken',\n",
       " 'women',\n",
       " 'mormont',\n",
       " 'steps',\n",
       " 'things',\n",
       " 'next',\n",
       " 'hodor',\n",
       " 'heavy',\n",
       " 'burned',\n",
       " 'oh',\n",
       " 'toward',\n",
       " 'together',\n",
       " 'skin',\n",
       " 'given',\n",
       " 'since',\n",
       " 'alone',\n",
       " 'moved',\n",
       " 'dwarf',\n",
       " 'smiled',\n",
       " 'storm',\n",
       " 'raised',\n",
       " 'ride',\n",
       " 'ask',\n",
       " 'hope',\n",
       " 'eye',\n",
       " 'reached',\n",
       " 'soft',\n",
       " 'second',\n",
       " 'frey',\n",
       " 'remember',\n",
       " 'someone',\n",
       " 'remembered',\n",
       " 'coming',\n",
       " 'hold',\n",
       " 'meant',\n",
       " 'cannot',\n",
       " 'morning',\n",
       " 'ten',\n",
       " 'teeth',\n",
       " 'else',\n",
       " 'throne',\n",
       " 'command',\n",
       " 'fat',\n",
       " 'truth',\n",
       " 'commander',\n",
       " 'walder',\n",
       " 'doubt',\n",
       " 'ground',\n",
       " 'jorah',\n",
       " 'cup',\n",
       " 'outside',\n",
       " 'known',\n",
       " 'wore',\n",
       " 'ran',\n",
       " 'gate',\n",
       " 'room',\n",
       " 'held',\n",
       " 'closed',\n",
       " 'home',\n",
       " 'matter',\n",
       " 'south',\n",
       " 'sky',\n",
       " 'wood',\n",
       " 'dozen',\n",
       " 'wed',\n",
       " 'people',\n",
       " 'neck',\n",
       " 'riverrun',\n",
       " 'food',\n",
       " 'instead',\n",
       " 'near',\n",
       " 'talk',\n",
       " 'turn',\n",
       " 'none',\n",
       " 'ships',\n",
       " 'tyrell',\n",
       " 'moon',\n",
       " 'lips',\n",
       " 'shadow',\n",
       " 'summer',\n",
       " 'bolton',\n",
       " 'watched',\n",
       " 'times',\n",
       " 'leather',\n",
       " 'varys',\n",
       " 'shoulder',\n",
       " 'septon',\n",
       " 'warm',\n",
       " 'caught',\n",
       " 'believe',\n",
       " 'least',\n",
       " 'guards',\n",
       " 'answer',\n",
       " 'god',\n",
       " 'blade',\n",
       " 'wondered',\n",
       " 'ice',\n",
       " 'mine',\n",
       " 'shield',\n",
       " 'barristan',\n",
       " 'opened',\n",
       " 'armor',\n",
       " 'safe',\n",
       " 'six',\n",
       " 'kept',\n",
       " 'wish',\n",
       " 'return',\n",
       " 'tommen',\n",
       " 'used',\n",
       " 'smell',\n",
       " 'less',\n",
       " 'foot',\n",
       " 'floor',\n",
       " 'squire',\n",
       " 'eddard',\n",
       " 'empty',\n",
       " 'run',\n",
       " 'followed',\n",
       " 'serve',\n",
       " 'friends',\n",
       " 'beard',\n",
       " 'boys',\n",
       " 'baratheon',\n",
       " 'cloaks',\n",
       " 'wedding',\n",
       " 'eat',\n",
       " 'wrong',\n",
       " 'ghost',\n",
       " 'daenerys',\n",
       " 'flesh',\n",
       " 'sight',\n",
       " 'five',\n",
       " 'hound',\n",
       " 'ship',\n",
       " 'strength',\n",
       " 'returned',\n",
       " 'bones',\n",
       " 'nose',\n",
       " 'crown',\n",
       " 'yellow',\n",
       " 'chest',\n",
       " 'covered',\n",
       " 'commanded',\n",
       " 'says',\n",
       " 'petyr',\n",
       " 'aemon',\n",
       " 'sometimes',\n",
       " 'filled',\n",
       " 'led',\n",
       " 'friend',\n",
       " 'common',\n",
       " 'aye',\n",
       " 'flames',\n",
       " 'fighting',\n",
       " 'show',\n",
       " 'spoke',\n",
       " 'lysa',\n",
       " 'huge',\n",
       " 'asha',\n",
       " 'aside',\n",
       " 'crow',\n",
       " 'belly',\n",
       " 'master',\n",
       " 'breath',\n",
       " 'seem',\n",
       " 'yard',\n",
       " 'gates',\n",
       " 'waiting',\n",
       " 'within',\n",
       " 'looking',\n",
       " 'wet',\n",
       " 'wooden',\n",
       " 'realm',\n",
       " 'thin',\n",
       " 'work',\n",
       " 'bad',\n",
       " 'use',\n",
       " 'promised',\n",
       " 'tree',\n",
       " 'later',\n",
       " 'husband',\n",
       " 'grew',\n",
       " 'onto',\n",
       " 'wildlings',\n",
       " 'loved',\n",
       " 'afraid',\n",
       " 'girls',\n",
       " 'greyjoy',\n",
       " 'rain',\n",
       " 'shoulders',\n",
       " 'walked',\n",
       " 'shouted',\n",
       " 'maid',\n",
       " 'remained',\n",
       " 'late',\n",
       " 'mance',\n",
       " 'guard',\n",
       " 'littlefinger',\n",
       " 'fall',\n",
       " 'liked',\n",
       " 'meereen',\n",
       " 'margaery',\n",
       " 'year',\n",
       " 'dog',\n",
       " 'hurt',\n",
       " 'passed',\n",
       " 'balon',\n",
       " 'taste',\n",
       " 'drew',\n",
       " 'lay',\n",
       " 'dothraki',\n",
       " 'pushed',\n",
       " 'spear',\n",
       " 'song',\n",
       " 'realized',\n",
       " 'sure',\n",
       " 'named',\n",
       " 'whispered',\n",
       " 'brave',\n",
       " 'different',\n",
       " 'finally',\n",
       " 'reach',\n",
       " 'stand',\n",
       " 'wolves',\n",
       " 'suddenly',\n",
       " 'poor',\n",
       " 'drogo',\n",
       " 'kingsguard',\n",
       " 'stay',\n",
       " 'arryn',\n",
       " 'stop',\n",
       " 'kingdoms',\n",
       " 'ears',\n",
       " 'edmure',\n",
       " 'broke',\n",
       " 'burning',\n",
       " 'princess',\n",
       " 'faces',\n",
       " 'dream',\n",
       " 'lannisters',\n",
       " 'direwolf',\n",
       " 'axe',\n",
       " 'tears',\n",
       " 'west',\n",
       " 'heir',\n",
       " 'drink',\n",
       " 'clegane',\n",
       " 'either',\n",
       " 'darkness',\n",
       " 'pointed',\n",
       " 'raven',\n",
       " 'hill',\n",
       " 'try',\n",
       " 'pain',\n",
       " 'forward',\n",
       " 'sworn',\n",
       " 'lie',\n",
       " 'khal',\n",
       " 'dagger',\n",
       " 'kings',\n",
       " 'truly',\n",
       " 'seat',\n",
       " 'grown',\n",
       " 'road',\n",
       " 'born',\n",
       " 'care',\n",
       " 'harrenhal',\n",
       " 'bronn',\n",
       " 'round',\n",
       " 'helm',\n",
       " 'feast',\n",
       " 'amongst',\n",
       " 'quick',\n",
       " 'understand',\n",
       " 'meat',\n",
       " 'pycelle',\n",
       " 'lifted',\n",
       " 'longer',\n",
       " 'reminded',\n",
       " 'whilst',\n",
       " 'maybe',\n",
       " 'short',\n",
       " 'mountain',\n",
       " 'step',\n",
       " 'rodrik',\n",
       " 'melisandre',\n",
       " 'ones',\n",
       " 'pretty',\n",
       " 'third',\n",
       " 'bit',\n",
       " 'stopped',\n",
       " 'worse',\n",
       " 'lands',\n",
       " 'aegon',\n",
       " 'sit',\n",
       " 'sharp',\n",
       " 'victarion',\n",
       " 'save',\n",
       " 'knows',\n",
       " 'smoke',\n",
       " 'whose',\n",
       " 'live',\n",
       " 'leg',\n",
       " 'horn',\n",
       " 'pray',\n",
       " 'window',\n",
       " 'westeros',\n",
       " 'younger',\n",
       " 'silk',\n",
       " 'heads',\n",
       " 'twenty',\n",
       " 'septa',\n",
       " 'ago',\n",
       " 'peace',\n",
       " 'slaves',\n",
       " 'pie',\n",
       " 'wants',\n",
       " 'hizdahr',\n",
       " 'bread',\n",
       " 'mind',\n",
       " 'laugh',\n",
       " 'low',\n",
       " 'blind',\n",
       " 'east',\n",
       " 'mad',\n",
       " 'towers',\n",
       " 'reek',\n",
       " 'bright',\n",
       " 'sooner',\n",
       " 'slain',\n",
       " 'making',\n",
       " 'camp',\n",
       " 'older',\n",
       " 'coin',\n",
       " 'narrow',\n",
       " 'point',\n",
       " 'salt',\n",
       " 'served',\n",
       " 'wait',\n",
       " 'drowned',\n",
       " 'walk',\n",
       " 'glanced',\n",
       " 'luwin',\n",
       " 'cousin',\n",
       " 'knife',\n",
       " 'cheeks',\n",
       " 'touched',\n",
       " 'stepped',\n",
       " 'quiet',\n",
       " 'riding',\n",
       " 'sort',\n",
       " 'targaryen',\n",
       " 'shook',\n",
       " 'often',\n",
       " 'loras',\n",
       " 'twisted',\n",
       " 'naked',\n",
       " 'choice',\n",
       " 'lion',\n",
       " 'kevan',\n",
       " 'silence',\n",
       " 'forgotten',\n",
       " 'fish',\n",
       " 'read',\n",
       " 'ramsay',\n",
       " 'hung',\n",
       " 'gift',\n",
       " 'running',\n",
       " 'replied',\n",
       " 'fallen',\n",
       " 'large',\n",
       " 'knees',\n",
       " 'fought',\n",
       " 'silent',\n",
       " 'company',\n",
       " 'cat',\n",
       " 'ahead',\n",
       " 'beautiful',\n",
       " 'dawn',\n",
       " 'rhaegar',\n",
       " 'dogs',\n",
       " 'sept',\n",
       " 'needs',\n",
       " 'pass',\n",
       " 'knee',\n",
       " 'casterly',\n",
       " 'dorne',\n",
       " 'tully',\n",
       " 'mud',\n",
       " 'singer',\n",
       " 'body',\n",
       " 'stupid',\n",
       " 'gregor',\n",
       " 'court',\n",
       " 'trying',\n",
       " 'meera',\n",
       " 'age',\n",
       " 'top',\n",
       " 'swear',\n",
       " 'kind',\n",
       " 'gendry',\n",
       " 'offered',\n",
       " 'leaves',\n",
       " 'closer',\n",
       " 'clothes',\n",
       " 'whole',\n",
       " 'kiss',\n",
       " 'anything',\n",
       " 'agreed',\n",
       " 'whatever',\n",
       " 'pay',\n",
       " 'threw',\n",
       " 'wonder',\n",
       " 'climbed',\n",
       " 'answered',\n",
       " 'saddle',\n",
       " 'wide',\n",
       " 'saying',\n",
       " 'stars',\n",
       " 'comes',\n",
       " 'trust',\n",
       " 'stones',\n",
       " 'chain',\n",
       " 'host',\n",
       " 'pleased',\n",
       " 'fair',\n",
       " 'trident',\n",
       " 'spears',\n",
       " 'eight',\n",
       " 'ear',\n",
       " 'hour',\n",
       " 'insisted',\n",
       " 'dying',\n",
       " 'yunkai',\n",
       " 'dry',\n",
       " 'fast',\n",
       " 'service',\n",
       " 'carried',\n",
       " 'doors',\n",
       " 'ought',\n",
       " 'council',\n",
       " 'fist',\n",
       " 'woods',\n",
       " 'mail',\n",
       " 'needed',\n",
       " 'crossed',\n",
       " 'wildling',\n",
       " 'fine',\n",
       " 'thank',\n",
       " 'join',\n",
       " 'milk',\n",
       " 'finger',\n",
       " 'gilly',\n",
       " 'quentyn',\n",
       " 'shadows',\n",
       " 'tent',\n",
       " 'win',\n",
       " 'land',\n",
       " 'boots',\n",
       " 'bird',\n",
       " 'helped',\n",
       " 'somehow',\n",
       " 'names',\n",
       " 'imp',\n",
       " 'crows',\n",
       " 'folk',\n",
       " 'kissed',\n",
       " 'banners',\n",
       " 'letter',\n",
       " 'winter',\n",
       " 'screamed',\n",
       " 'pink',\n",
       " 'angry',\n",
       " 'frightened',\n",
       " 'torch',\n",
       " 'alive',\n",
       " 'learn',\n",
       " 'chair',\n",
       " 'eunuch',\n",
       " 'watching',\n",
       " 'daughters',\n",
       " 'dragonstone',\n",
       " 'fires',\n",
       " 'harm',\n",
       " 'tarly',\n",
       " 'serving',\n",
       " 'neither',\n",
       " 'nine',\n",
       " 'standing',\n",
       " 'easy',\n",
       " 'learned',\n",
       " 'drunk',\n",
       " 'question',\n",
       " 'wings',\n",
       " 'sail',\n",
       " 'myrcella',\n",
       " 'priest',\n",
       " 'nodded',\n",
       " 'sisters',\n",
       " 'warned',\n",
       " 'forth',\n",
       " 'bone',\n",
       " 'giant',\n",
       " 'harbor',\n",
       " 'slipped',\n",
       " 'slow',\n",
       " 'field',\n",
       " 'slid',\n",
       " 'dreams',\n",
       " 'bronze',\n",
       " 'falling',\n",
       " 'slowly',\n",
       " 'promise',\n",
       " 'atop',\n",
       " 'illyrio',\n",
       " 'whore',\n",
       " 'slave',\n",
       " 'rise',\n",
       " 'line',\n",
       " 'move',\n",
       " 'flowers',\n",
       " 'laughter',\n",
       " 'makes',\n",
       " 'pyke',\n",
       " 'declared',\n",
       " 'loose',\n",
       " 'earth',\n",
       " 'bay',\n",
       " 'grass',\n",
       " 'faced',\n",
       " 'twice',\n",
       " 'front',\n",
       " 'power',\n",
       " 'lived',\n",
       " 'viserys',\n",
       " 'happened',\n",
       " 'play',\n",
       " 'cell',\n",
       " 'oldtown',\n",
       " 'dance',\n",
       " 'chains',\n",
       " 'break',\n",
       " 'aerys',\n",
       " 'surely',\n",
       " 'clean',\n",
       " 'jeyne',\n",
       " 'claim',\n",
       " 'unless',\n",
       " 'eyrie',\n",
       " 'fresh',\n",
       " 'cried',\n",
       " 'quite',\n",
       " 'laid',\n",
       " 'craster',\n",
       " 'tormund',\n",
       " 'pair',\n",
       " 'morrow',\n",
       " 'met',\n",
       " 'game',\n",
       " 'shouting',\n",
       " 'sad',\n",
       " 'already',\n",
       " 'softly',\n",
       " 'touch',\n",
       " 'rule',\n",
       " 'started',\n",
       " 'afterward',\n",
       " 'count',\n",
       " 'sense',\n",
       " 'woke',\n",
       " 'mounted',\n",
       " 'steward',\n",
       " 'captive',\n",
       " 'highgarden',\n",
       " 'hide',\n",
       " 'waters',\n",
       " 'jojen',\n",
       " 'sudden',\n",
       " 'cheek',\n",
       " 'ravens',\n",
       " 'among',\n",
       " 'means',\n",
       " 'anyone',\n",
       " 'course',\n",
       " 'however',\n",
       " 'follow',\n",
       " 'purple',\n",
       " 'taking',\n",
       " 'noble',\n",
       " 'rickon',\n",
       " 'carved',\n",
       " 'wench',\n",
       " 'bare',\n",
       " 'waited',\n",
       " 'grenn',\n",
       " 'murdered',\n",
       " 'thinking',\n",
       " 'rising',\n",
       " 'weak',\n",
       " 'vale',\n",
       " 'cruel',\n",
       " 'roose',\n",
       " 'roof',\n",
       " 'eyed',\n",
       " 'hidden',\n",
       " 'arrow',\n",
       " 'blow',\n",
       " 'forest',\n",
       " 'town',\n",
       " 'wise',\n",
       " 'growing',\n",
       " 'grand',\n",
       " 'today',\n",
       " 'hungry',\n",
       " 'voices',\n",
       " 'army',\n",
       " 'sorry',\n",
       " 'griff',\n",
       " 'cry',\n",
       " 'wound',\n",
       " 'protect',\n",
       " 'tale',\n",
       " 'twins',\n",
       " 'ugly',\n",
       " 'beric',\n",
       " 'inn',\n",
       " 'weight',\n",
       " 'sick',\n",
       " 'forget',\n",
       " 'hoped',\n",
       " 'rolled',\n",
       " 'ygritte',\n",
       " 'climb',\n",
       " 'enemies',\n",
       " 'dressed',\n",
       " 'knelt',\n",
       " 'chance',\n",
       " 'fur',\n",
       " 'daario',\n",
       " 'marry',\n",
       " 'grow',\n",
       " 'courage',\n",
       " 'seems',\n",
       " 'lad',\n",
       " 'smiling',\n",
       " 'fleet',\n",
       " 'freys',\n",
       " 'laughing',\n",
       " 'whether',\n",
       " 'bride',\n",
       " 'marriage',\n",
       " 'appeared',\n",
       " 'corpse',\n",
       " 'square',\n",
       " 'meet',\n",
       " 'breasts',\n",
       " 'unsullied',\n",
       " 'showed',\n",
       " 'drank',\n",
       " 'wool',\n",
       " 'kingslayer',\n",
       " 'mountains',\n",
       " 'trouble',\n",
       " 'march',\n",
       " 'mercy',\n",
       " 'alayne',\n",
       " 'edge',\n",
       " 'frozen',\n",
       " 'ragged',\n",
       " 'wear',\n",
       " 'slynt',\n",
       " 'arrows',\n",
       " 'shae',\n",
       " 'decided',\n",
       " 'allowed',\n",
       " 'swore',\n",
       " 'recall',\n",
       " 'welcome',\n",
       " 'sing',\n",
       " 'bound',\n",
       " 'offer',\n",
       " 'everything',\n",
       " 'ill',\n",
       " 'spread',\n",
       " 'quickly',\n",
       " 'mace',\n",
       " 'seated',\n",
       " 'slept',\n",
       " 'tales',\n",
       " 'ancient',\n",
       " 'wake',\n",
       " 'moving',\n",
       " 'sounded',\n",
       " 'talking',\n",
       " 'flew',\n",
       " 'dare',\n",
       " 'bowed',\n",
       " ...]"
      ]
     },
     "execution_count": 15,
     "metadata": {},
     "output_type": "execute_result"
    }
   ],
   "source": [
    "y = model.wv.index_to_key\n",
    "y"
   ]
  },
  {
   "cell_type": "code",
   "execution_count": 22,
   "id": "9ea98790",
   "metadata": {},
   "outputs": [],
   "source": [
    "## Here the vectors are in 100 Dimensions so for visualization we need to convert into 2D or 3D\n",
    "from  sklearn.decomposition import PCA\n",
    "pca = PCA(n_components = 4)"
   ]
  },
  {
   "cell_type": "code",
   "execution_count": 23,
   "id": "0c82c52b",
   "metadata": {},
   "outputs": [],
   "source": [
    "X = pca.fit_transform(model.wv.get_normed_vectors())"
   ]
  },
  {
   "cell_type": "code",
   "execution_count": 24,
   "id": "d7b8d92d",
   "metadata": {},
   "outputs": [
    {
     "data": {
      "text/plain": [
       "(17310, 4)"
      ]
     },
     "execution_count": 24,
     "metadata": {},
     "output_type": "execute_result"
    }
   ],
   "source": [
    "X.shape"
   ]
  },
  {
   "cell_type": "code",
   "execution_count": 25,
   "id": "345e4d2b",
   "metadata": {},
   "outputs": [
    {
     "name": "stdout",
     "output_type": "stream",
     "text": [
      "Requirement already satisfied: plotly in ./env/lib/python3.12/site-packages (6.3.0)\n",
      "Requirement already satisfied: nbformat in ./env/lib/python3.12/site-packages (5.10.4)\n",
      "Requirement already satisfied: ipython in ./env/lib/python3.12/site-packages (9.4.0)\n",
      "Requirement already satisfied: jupyter in ./env/lib/python3.12/site-packages (1.1.1)\n",
      "Requirement already satisfied: narwhals>=1.15.1 in ./env/lib/python3.12/site-packages (from plotly) (2.1.1)\n",
      "Requirement already satisfied: packaging in ./env/lib/python3.12/site-packages (from plotly) (25.0)\n",
      "Requirement already satisfied: fastjsonschema>=2.15 in ./env/lib/python3.12/site-packages (from nbformat) (2.21.1)\n",
      "Requirement already satisfied: jsonschema>=2.6 in ./env/lib/python3.12/site-packages (from nbformat) (4.25.0)\n",
      "Requirement already satisfied: jupyter-core!=5.0.*,>=4.12 in ./env/lib/python3.12/site-packages (from nbformat) (5.8.1)\n",
      "Requirement already satisfied: traitlets>=5.1 in ./env/lib/python3.12/site-packages (from nbformat) (5.14.3)\n",
      "Requirement already satisfied: decorator in ./env/lib/python3.12/site-packages (from ipython) (5.2.1)\n",
      "Requirement already satisfied: ipython-pygments-lexers in ./env/lib/python3.12/site-packages (from ipython) (1.1.1)\n",
      "Requirement already satisfied: jedi>=0.16 in ./env/lib/python3.12/site-packages (from ipython) (0.19.2)\n",
      "Requirement already satisfied: matplotlib-inline in ./env/lib/python3.12/site-packages (from ipython) (0.1.7)\n",
      "Requirement already satisfied: pexpect>4.3 in ./env/lib/python3.12/site-packages (from ipython) (4.9.0)\n",
      "Requirement already satisfied: prompt_toolkit<3.1.0,>=3.0.41 in ./env/lib/python3.12/site-packages (from ipython) (3.0.51)\n",
      "Requirement already satisfied: pygments>=2.4.0 in ./env/lib/python3.12/site-packages (from ipython) (2.19.2)\n",
      "Requirement already satisfied: stack_data in ./env/lib/python3.12/site-packages (from ipython) (0.6.3)\n",
      "Requirement already satisfied: notebook in ./env/lib/python3.12/site-packages (from jupyter) (7.4.5)\n",
      "Requirement already satisfied: jupyter-console in ./env/lib/python3.12/site-packages (from jupyter) (6.6.3)\n",
      "Requirement already satisfied: nbconvert in ./env/lib/python3.12/site-packages (from jupyter) (7.16.6)\n",
      "Requirement already satisfied: ipykernel in ./env/lib/python3.12/site-packages (from jupyter) (6.30.1)\n",
      "Requirement already satisfied: ipywidgets in ./env/lib/python3.12/site-packages (from jupyter) (8.1.7)\n",
      "Requirement already satisfied: jupyterlab in ./env/lib/python3.12/site-packages (from jupyter) (4.4.5)\n",
      "Requirement already satisfied: parso<0.9.0,>=0.8.4 in ./env/lib/python3.12/site-packages (from jedi>=0.16->ipython) (0.8.4)\n",
      "Requirement already satisfied: attrs>=22.2.0 in ./env/lib/python3.12/site-packages (from jsonschema>=2.6->nbformat) (25.3.0)\n",
      "Requirement already satisfied: jsonschema-specifications>=2023.03.6 in ./env/lib/python3.12/site-packages (from jsonschema>=2.6->nbformat) (2025.4.1)\n",
      "Requirement already satisfied: referencing>=0.28.4 in ./env/lib/python3.12/site-packages (from jsonschema>=2.6->nbformat) (0.36.2)\n",
      "Requirement already satisfied: rpds-py>=0.7.1 in ./env/lib/python3.12/site-packages (from jsonschema>=2.6->nbformat) (0.27.0)\n",
      "Requirement already satisfied: platformdirs>=2.5 in ./env/lib/python3.12/site-packages (from jupyter-core!=5.0.*,>=4.12->nbformat) (4.3.8)\n",
      "Requirement already satisfied: ptyprocess>=0.5 in ./env/lib/python3.12/site-packages (from pexpect>4.3->ipython) (0.7.0)\n",
      "Requirement already satisfied: wcwidth in ./env/lib/python3.12/site-packages (from prompt_toolkit<3.1.0,>=3.0.41->ipython) (0.2.13)\n",
      "Requirement already satisfied: comm>=0.1.1 in ./env/lib/python3.12/site-packages (from ipykernel->jupyter) (0.2.3)\n",
      "Requirement already satisfied: debugpy>=1.6.5 in ./env/lib/python3.12/site-packages (from ipykernel->jupyter) (1.8.16)\n",
      "Requirement already satisfied: jupyter-client>=8.0.0 in ./env/lib/python3.12/site-packages (from ipykernel->jupyter) (8.6.3)\n",
      "Requirement already satisfied: nest-asyncio>=1.4 in ./env/lib/python3.12/site-packages (from ipykernel->jupyter) (1.6.0)\n",
      "Requirement already satisfied: psutil>=5.7 in ./env/lib/python3.12/site-packages (from ipykernel->jupyter) (7.0.0)\n",
      "Requirement already satisfied: pyzmq>=25 in ./env/lib/python3.12/site-packages (from ipykernel->jupyter) (27.0.1)\n",
      "Requirement already satisfied: tornado>=6.2 in ./env/lib/python3.12/site-packages (from ipykernel->jupyter) (6.5.2)\n",
      "Requirement already satisfied: widgetsnbextension~=4.0.14 in ./env/lib/python3.12/site-packages (from ipywidgets->jupyter) (4.0.14)\n",
      "Requirement already satisfied: jupyterlab_widgets~=3.0.15 in ./env/lib/python3.12/site-packages (from ipywidgets->jupyter) (3.0.15)\n",
      "Requirement already satisfied: async-lru>=1.0.0 in ./env/lib/python3.12/site-packages (from jupyterlab->jupyter) (2.0.5)\n",
      "Requirement already satisfied: httpx>=0.25.0 in ./env/lib/python3.12/site-packages (from jupyterlab->jupyter) (0.28.1)\n",
      "Requirement already satisfied: jinja2>=3.0.3 in ./env/lib/python3.12/site-packages (from jupyterlab->jupyter) (3.1.6)\n",
      "Requirement already satisfied: jupyter-lsp>=2.0.0 in ./env/lib/python3.12/site-packages (from jupyterlab->jupyter) (2.2.6)\n",
      "Requirement already satisfied: jupyter-server<3,>=2.4.0 in ./env/lib/python3.12/site-packages (from jupyterlab->jupyter) (2.16.0)\n",
      "Requirement already satisfied: jupyterlab-server<3,>=2.27.1 in ./env/lib/python3.12/site-packages (from jupyterlab->jupyter) (2.27.3)\n",
      "Requirement already satisfied: notebook-shim>=0.2 in ./env/lib/python3.12/site-packages (from jupyterlab->jupyter) (0.2.4)\n",
      "Requirement already satisfied: setuptools>=41.1.0 in ./env/lib/python3.12/site-packages (from jupyterlab->jupyter) (80.9.0)\n",
      "Requirement already satisfied: beautifulsoup4 in ./env/lib/python3.12/site-packages (from nbconvert->jupyter) (4.13.4)\n",
      "Requirement already satisfied: bleach!=5.0.0 in ./env/lib/python3.12/site-packages (from bleach[css]!=5.0.0->nbconvert->jupyter) (6.2.0)\n",
      "Requirement already satisfied: defusedxml in ./env/lib/python3.12/site-packages (from nbconvert->jupyter) (0.7.1)\n",
      "Requirement already satisfied: jupyterlab-pygments in ./env/lib/python3.12/site-packages (from nbconvert->jupyter) (0.3.0)\n",
      "Requirement already satisfied: markupsafe>=2.0 in ./env/lib/python3.12/site-packages (from nbconvert->jupyter) (3.0.2)\n",
      "Requirement already satisfied: mistune<4,>=2.0.3 in ./env/lib/python3.12/site-packages (from nbconvert->jupyter) (3.1.3)\n",
      "Requirement already satisfied: nbclient>=0.5.0 in ./env/lib/python3.12/site-packages (from nbconvert->jupyter) (0.10.2)\n",
      "Requirement already satisfied: pandocfilters>=1.4.1 in ./env/lib/python3.12/site-packages (from nbconvert->jupyter) (1.5.1)\n",
      "Requirement already satisfied: executing>=1.2.0 in ./env/lib/python3.12/site-packages (from stack_data->ipython) (2.2.0)\n",
      "Requirement already satisfied: asttokens>=2.1.0 in ./env/lib/python3.12/site-packages (from stack_data->ipython) (3.0.0)\n",
      "Requirement already satisfied: pure-eval in ./env/lib/python3.12/site-packages (from stack_data->ipython) (0.2.3)\n",
      "Requirement already satisfied: webencodings in ./env/lib/python3.12/site-packages (from bleach!=5.0.0->bleach[css]!=5.0.0->nbconvert->jupyter) (0.5.1)\n",
      "Requirement already satisfied: tinycss2<1.5,>=1.1.0 in ./env/lib/python3.12/site-packages (from bleach[css]!=5.0.0->nbconvert->jupyter) (1.4.0)\n",
      "Requirement already satisfied: anyio in ./env/lib/python3.12/site-packages (from httpx>=0.25.0->jupyterlab->jupyter) (4.10.0)\n",
      "Requirement already satisfied: certifi in ./env/lib/python3.12/site-packages (from httpx>=0.25.0->jupyterlab->jupyter) (2025.8.3)\n",
      "Requirement already satisfied: httpcore==1.* in ./env/lib/python3.12/site-packages (from httpx>=0.25.0->jupyterlab->jupyter) (1.0.9)\n",
      "Requirement already satisfied: idna in ./env/lib/python3.12/site-packages (from httpx>=0.25.0->jupyterlab->jupyter) (3.10)\n",
      "Requirement already satisfied: h11>=0.16 in ./env/lib/python3.12/site-packages (from httpcore==1.*->httpx>=0.25.0->jupyterlab->jupyter) (0.16.0)\n",
      "Requirement already satisfied: python-dateutil>=2.8.2 in ./env/lib/python3.12/site-packages (from jupyter-client>=8.0.0->ipykernel->jupyter) (2.9.0.post0)\n",
      "Requirement already satisfied: argon2-cffi>=21.1 in ./env/lib/python3.12/site-packages (from jupyter-server<3,>=2.4.0->jupyterlab->jupyter) (25.1.0)\n",
      "Requirement already satisfied: jupyter-events>=0.11.0 in ./env/lib/python3.12/site-packages (from jupyter-server<3,>=2.4.0->jupyterlab->jupyter) (0.12.0)\n",
      "Requirement already satisfied: jupyter-server-terminals>=0.4.4 in ./env/lib/python3.12/site-packages (from jupyter-server<3,>=2.4.0->jupyterlab->jupyter) (0.5.3)\n",
      "Requirement already satisfied: overrides>=5.0 in ./env/lib/python3.12/site-packages (from jupyter-server<3,>=2.4.0->jupyterlab->jupyter) (7.7.0)\n",
      "Requirement already satisfied: prometheus-client>=0.9 in ./env/lib/python3.12/site-packages (from jupyter-server<3,>=2.4.0->jupyterlab->jupyter) (0.22.1)\n",
      "Requirement already satisfied: send2trash>=1.8.2 in ./env/lib/python3.12/site-packages (from jupyter-server<3,>=2.4.0->jupyterlab->jupyter) (1.8.3)\n",
      "Requirement already satisfied: terminado>=0.8.3 in ./env/lib/python3.12/site-packages (from jupyter-server<3,>=2.4.0->jupyterlab->jupyter) (0.18.1)\n",
      "Requirement already satisfied: websocket-client>=1.7 in ./env/lib/python3.12/site-packages (from jupyter-server<3,>=2.4.0->jupyterlab->jupyter) (1.8.0)\n",
      "Requirement already satisfied: babel>=2.10 in ./env/lib/python3.12/site-packages (from jupyterlab-server<3,>=2.27.1->jupyterlab->jupyter) (2.17.0)\n",
      "Requirement already satisfied: json5>=0.9.0 in ./env/lib/python3.12/site-packages (from jupyterlab-server<3,>=2.27.1->jupyterlab->jupyter) (0.12.1)\n",
      "Requirement already satisfied: requests>=2.31 in ./env/lib/python3.12/site-packages (from jupyterlab-server<3,>=2.27.1->jupyterlab->jupyter) (2.32.4)\n",
      "Requirement already satisfied: typing-extensions>=4.4.0 in ./env/lib/python3.12/site-packages (from referencing>=0.28.4->jsonschema>=2.6->nbformat) (4.14.1)\n",
      "Requirement already satisfied: soupsieve>1.2 in ./env/lib/python3.12/site-packages (from beautifulsoup4->nbconvert->jupyter) (2.7)\n",
      "Requirement already satisfied: sniffio>=1.1 in ./env/lib/python3.12/site-packages (from anyio->httpx>=0.25.0->jupyterlab->jupyter) (1.3.1)\n",
      "Requirement already satisfied: argon2-cffi-bindings in ./env/lib/python3.12/site-packages (from argon2-cffi>=21.1->jupyter-server<3,>=2.4.0->jupyterlab->jupyter) (25.1.0)\n",
      "Requirement already satisfied: python-json-logger>=2.0.4 in ./env/lib/python3.12/site-packages (from jupyter-events>=0.11.0->jupyter-server<3,>=2.4.0->jupyterlab->jupyter) (3.3.0)\n",
      "Requirement already satisfied: pyyaml>=5.3 in ./env/lib/python3.12/site-packages (from jupyter-events>=0.11.0->jupyter-server<3,>=2.4.0->jupyterlab->jupyter) (6.0.2)\n",
      "Requirement already satisfied: rfc3339-validator in ./env/lib/python3.12/site-packages (from jupyter-events>=0.11.0->jupyter-server<3,>=2.4.0->jupyterlab->jupyter) (0.1.4)\n",
      "Requirement already satisfied: rfc3986-validator>=0.1.1 in ./env/lib/python3.12/site-packages (from jupyter-events>=0.11.0->jupyter-server<3,>=2.4.0->jupyterlab->jupyter) (0.1.1)\n",
      "Requirement already satisfied: six>=1.5 in ./env/lib/python3.12/site-packages (from python-dateutil>=2.8.2->jupyter-client>=8.0.0->ipykernel->jupyter) (1.17.0)\n",
      "Requirement already satisfied: charset_normalizer<4,>=2 in ./env/lib/python3.12/site-packages (from requests>=2.31->jupyterlab-server<3,>=2.27.1->jupyterlab->jupyter) (3.4.3)\n",
      "Requirement already satisfied: urllib3<3,>=1.21.1 in ./env/lib/python3.12/site-packages (from requests>=2.31->jupyterlab-server<3,>=2.27.1->jupyterlab->jupyter) (2.5.0)\n",
      "Requirement already satisfied: fqdn in ./env/lib/python3.12/site-packages (from jsonschema[format-nongpl]>=4.18.0->jupyter-events>=0.11.0->jupyter-server<3,>=2.4.0->jupyterlab->jupyter) (1.5.1)\n",
      "Requirement already satisfied: isoduration in ./env/lib/python3.12/site-packages (from jsonschema[format-nongpl]>=4.18.0->jupyter-events>=0.11.0->jupyter-server<3,>=2.4.0->jupyterlab->jupyter) (20.11.0)\n",
      "Requirement already satisfied: jsonpointer>1.13 in ./env/lib/python3.12/site-packages (from jsonschema[format-nongpl]>=4.18.0->jupyter-events>=0.11.0->jupyter-server<3,>=2.4.0->jupyterlab->jupyter) (3.0.0)\n",
      "Requirement already satisfied: rfc3987-syntax>=1.1.0 in ./env/lib/python3.12/site-packages (from jsonschema[format-nongpl]>=4.18.0->jupyter-events>=0.11.0->jupyter-server<3,>=2.4.0->jupyterlab->jupyter) (1.1.0)\n",
      "Requirement already satisfied: uri-template in ./env/lib/python3.12/site-packages (from jsonschema[format-nongpl]>=4.18.0->jupyter-events>=0.11.0->jupyter-server<3,>=2.4.0->jupyterlab->jupyter) (1.3.0)\n",
      "Requirement already satisfied: webcolors>=24.6.0 in ./env/lib/python3.12/site-packages (from jsonschema[format-nongpl]>=4.18.0->jupyter-events>=0.11.0->jupyter-server<3,>=2.4.0->jupyterlab->jupyter) (24.11.1)\n",
      "Requirement already satisfied: cffi>=1.0.1 in ./env/lib/python3.12/site-packages (from argon2-cffi-bindings->argon2-cffi>=21.1->jupyter-server<3,>=2.4.0->jupyterlab->jupyter) (1.17.1)\n",
      "Requirement already satisfied: pycparser in ./env/lib/python3.12/site-packages (from cffi>=1.0.1->argon2-cffi-bindings->argon2-cffi>=21.1->jupyter-server<3,>=2.4.0->jupyterlab->jupyter) (2.22)\n",
      "Requirement already satisfied: lark>=1.2.2 in ./env/lib/python3.12/site-packages (from rfc3987-syntax>=1.1.0->jsonschema[format-nongpl]>=4.18.0->jupyter-events>=0.11.0->jupyter-server<3,>=2.4.0->jupyterlab->jupyter) (1.2.2)\n",
      "Requirement already satisfied: arrow>=0.15.0 in ./env/lib/python3.12/site-packages (from isoduration->jsonschema[format-nongpl]>=4.18.0->jupyter-events>=0.11.0->jupyter-server<3,>=2.4.0->jupyterlab->jupyter) (1.3.0)\n",
      "Requirement already satisfied: types-python-dateutil>=2.8.10 in ./env/lib/python3.12/site-packages (from arrow>=0.15.0->isoduration->jsonschema[format-nongpl]>=4.18.0->jupyter-events>=0.11.0->jupyter-server<3,>=2.4.0->jupyterlab->jupyter) (2.9.0.20250809)\n"
     ]
    },
    {
     "data": {
      "application/vnd.plotly.v1+json": {
       "config": {
        "plotlyServerURL": "https://plot.ly"
       },
       "data": [
        {
         "hovertemplate": "color=said<br>0=%{x}<br>1=%{y}<br>2=%{z}<extra></extra>",
         "legendgroup": "said",
         "marker": {
          "color": "#636efa",
          "symbol": "circle"
         },
         "mode": "markers",
         "name": "said",
         "scene": "scene",
         "showlegend": true,
         "type": "scatter3d",
         "x": {
          "bdata": "/3v5Pg==",
          "dtype": "f4"
         },
         "y": {
          "bdata": "FPgjvQ==",
          "dtype": "f4"
         },
         "z": {
          "bdata": "xXWLPg==",
          "dtype": "f4"
         }
        },
        {
         "hovertemplate": "color=lord<br>0=%{x}<br>1=%{y}<br>2=%{z}<extra></extra>",
         "legendgroup": "lord",
         "marker": {
          "color": "#EF553B",
          "symbol": "circle"
         },
         "mode": "markers",
         "name": "lord",
         "scene": "scene",
         "showlegend": true,
         "type": "scatter3d",
         "x": {
          "bdata": "D0fKPg==",
          "dtype": "f4"
         },
         "y": {
          "bdata": "TbsTvw==",
          "dtype": "f4"
         },
         "z": {
          "bdata": "MNjWPg==",
          "dtype": "f4"
         }
        },
        {
         "hovertemplate": "color=would<br>0=%{x}<br>1=%{y}<br>2=%{z}<extra></extra>",
         "legendgroup": "would",
         "marker": {
          "color": "#00cc96",
          "symbol": "circle"
         },
         "mode": "markers",
         "name": "would",
         "scene": "scene",
         "showlegend": true,
         "type": "scatter3d",
         "x": {
          "bdata": "dF8HPw==",
          "dtype": "f4"
         },
         "y": {
          "bdata": "AMOXPQ==",
          "dtype": "f4"
         },
         "z": {
          "bdata": "SRuAvg==",
          "dtype": "f4"
         }
        },
        {
         "hovertemplate": "color=one<br>0=%{x}<br>1=%{y}<br>2=%{z}<extra></extra>",
         "legendgroup": "one",
         "marker": {
          "color": "#ab63fa",
          "symbol": "circle"
         },
         "mode": "markers",
         "name": "one",
         "scene": "scene",
         "showlegend": true,
         "type": "scatter3d",
         "x": {
          "bdata": "TJhYPA==",
          "dtype": "f4"
         },
         "y": {
          "bdata": "SsYjvg==",
          "dtype": "f4"
         },
         "z": {
          "bdata": "uLNNPA==",
          "dtype": "f4"
         }
        },
        {
         "hovertemplate": "color=ser<br>0=%{x}<br>1=%{y}<br>2=%{z}<extra></extra>",
         "legendgroup": "ser",
         "marker": {
          "color": "#FFA15A",
          "symbol": "circle"
         },
         "mode": "markers",
         "name": "ser",
         "scene": "scene",
         "showlegend": true,
         "type": "scatter3d",
         "x": {
          "bdata": "A3yIPg==",
          "dtype": "f4"
         },
         "y": {
          "bdata": "JpIGvw==",
          "dtype": "f4"
         },
         "z": {
          "bdata": "AHgQPw==",
          "dtype": "f4"
         }
        },
        {
         "hovertemplate": "color=could<br>0=%{x}<br>1=%{y}<br>2=%{z}<extra></extra>",
         "legendgroup": "could",
         "marker": {
          "color": "#19d3f3",
          "symbol": "circle"
         },
         "mode": "markers",
         "name": "could",
         "scene": "scene",
         "showlegend": true,
         "type": "scatter3d",
         "x": {
          "bdata": "Kk8pPQ==",
          "dtype": "f4"
         },
         "y": {
          "bdata": "hAOyPQ==",
          "dtype": "f4"
         },
         "z": {
          "bdata": "vrNdvg==",
          "dtype": "f4"
         }
        },
        {
         "hovertemplate": "color=man<br>0=%{x}<br>1=%{y}<br>2=%{z}<extra></extra>",
         "legendgroup": "man",
         "marker": {
          "color": "#FF6692",
          "symbol": "circle"
         },
         "mode": "markers",
         "name": "man",
         "scene": "scene",
         "showlegend": true,
         "type": "scatter3d",
         "x": {
          "bdata": "SKJhPQ==",
          "dtype": "f4"
         },
         "y": {
          "bdata": "+BS/vQ==",
          "dtype": "f4"
         },
         "z": {
          "bdata": "vqBjPg==",
          "dtype": "f4"
         }
        },
        {
         "hovertemplate": "color=king<br>0=%{x}<br>1=%{y}<br>2=%{z}<extra></extra>",
         "legendgroup": "king",
         "marker": {
          "color": "#B6E880",
          "symbol": "circle"
         },
         "mode": "markers",
         "name": "king",
         "scene": "scene",
         "showlegend": true,
         "type": "scatter3d",
         "x": {
          "bdata": "VnC3Pg==",
          "dtype": "f4"
         },
         "y": {
          "bdata": "5JIJvw==",
          "dtype": "f4"
         },
         "z": {
          "bdata": "nlkdPg==",
          "dtype": "f4"
         }
        },
        {
         "hovertemplate": "color=men<br>0=%{x}<br>1=%{y}<br>2=%{z}<extra></extra>",
         "legendgroup": "men",
         "marker": {
          "color": "#FF97FF",
          "symbol": "circle"
         },
         "mode": "markers",
         "name": "men",
         "scene": "scene",
         "showlegend": true,
         "type": "scatter3d",
         "x": {
          "bdata": "Osu7PQ==",
          "dtype": "f4"
         },
         "y": {
          "bdata": "4p4Pvw==",
          "dtype": "f4"
         },
         "z": {
          "bdata": "6xKWvg==",
          "dtype": "f4"
         }
        },
        {
         "hovertemplate": "color=back<br>0=%{x}<br>1=%{y}<br>2=%{z}<extra></extra>",
         "legendgroup": "back",
         "marker": {
          "color": "#FECB52",
          "symbol": "circle"
         },
         "mode": "markers",
         "name": "back",
         "scene": "scene",
         "showlegend": true,
         "type": "scatter3d",
         "x": {
          "bdata": "zG5avg==",
          "dtype": "f4"
         },
         "y": {
          "bdata": "xDuGvQ==",
          "dtype": "f4"
         },
         "z": {
          "bdata": "GE/3PA==",
          "dtype": "f4"
         }
        },
        {
         "hovertemplate": "color=well<br>0=%{x}<br>1=%{y}<br>2=%{z}<extra></extra>",
         "legendgroup": "well",
         "marker": {
          "color": "#636efa",
          "symbol": "circle"
         },
         "mode": "markers",
         "name": "well",
         "scene": "scene",
         "showlegend": true,
         "type": "scatter3d",
         "x": {
          "bdata": "eP7jPg==",
          "dtype": "f4"
         },
         "y": {
          "bdata": "2X1Ovg==",
          "dtype": "f4"
         },
         "z": {
          "bdata": "mmIHvg==",
          "dtype": "f4"
         }
        },
        {
         "hovertemplate": "color=like<br>0=%{x}<br>1=%{y}<br>2=%{z}<extra></extra>",
         "legendgroup": "like",
         "marker": {
          "color": "#EF553B",
          "symbol": "circle"
         },
         "mode": "markers",
         "name": "like",
         "scene": "scene",
         "showlegend": true,
         "type": "scatter3d",
         "x": {
          "bdata": "Xh6Qvg==",
          "dtype": "f4"
         },
         "y": {
          "bdata": "mNkDPg==",
          "dtype": "f4"
         },
         "z": {
          "bdata": "AFIGvg==",
          "dtype": "f4"
         }
        },
        {
         "hovertemplate": "color=jon<br>0=%{x}<br>1=%{y}<br>2=%{z}<extra></extra>",
         "legendgroup": "jon",
         "marker": {
          "color": "#00cc96",
          "symbol": "circle"
         },
         "mode": "markers",
         "name": "jon",
         "scene": "scene",
         "showlegend": true,
         "type": "scatter3d",
         "x": {
          "bdata": "HANcPA==",
          "dtype": "f4"
         },
         "y": {
          "bdata": "FCAYvQ==",
          "dtype": "f4"
         },
         "z": {
          "bdata": "pPYUPg==",
          "dtype": "f4"
         }
        },
        {
         "hovertemplate": "color=father<br>0=%{x}<br>1=%{y}<br>2=%{z}<extra></extra>",
         "legendgroup": "father",
         "marker": {
          "color": "#ab63fa",
          "symbol": "circle"
         },
         "mode": "markers",
         "name": "father",
         "scene": "scene",
         "showlegend": true,
         "type": "scatter3d",
         "x": {
          "bdata": "a1AePw==",
          "dtype": "f4"
         },
         "y": {
          "bdata": "dOSkvg==",
          "dtype": "f4"
         },
         "z": {
          "bdata": "apxIPg==",
          "dtype": "f4"
         }
        },
        {
         "hovertemplate": "color=old<br>0=%{x}<br>1=%{y}<br>2=%{z}<extra></extra>",
         "legendgroup": "old",
         "marker": {
          "color": "#FFA15A",
          "symbol": "circle"
         },
         "mode": "markers",
         "name": "old",
         "scene": "scene",
         "showlegend": true,
         "type": "scatter3d",
         "x": {
          "bdata": "oBDzOg==",
          "dtype": "f4"
         },
         "y": {
          "bdata": "uieSvg==",
          "dtype": "f4"
         },
         "z": {
          "bdata": "EjeePQ==",
          "dtype": "f4"
         }
        },
        {
         "hovertemplate": "color=hand<br>0=%{x}<br>1=%{y}<br>2=%{z}<extra></extra>",
         "legendgroup": "hand",
         "marker": {
          "color": "#19d3f3",
          "symbol": "circle"
         },
         "mode": "markers",
         "name": "hand",
         "scene": "scene",
         "showlegend": true,
         "type": "scatter3d",
         "x": {
          "bdata": "Iz/xvQ==",
          "dtype": "f4"
         },
         "y": {
          "bdata": "huzBvQ==",
          "dtype": "f4"
         },
         "z": {
          "bdata": "S3vePg==",
          "dtype": "f4"
         }
        },
        {
         "hovertemplate": "color=even<br>0=%{x}<br>1=%{y}<br>2=%{z}<extra></extra>",
         "legendgroup": "even",
         "marker": {
          "color": "#FF6692",
          "symbol": "circle"
         },
         "mode": "markers",
         "name": "even",
         "scene": "scene",
         "showlegend": true,
         "type": "scatter3d",
         "x": {
          "bdata": "+U39PQ==",
          "dtype": "f4"
         },
         "y": {
          "bdata": "YFNPPQ==",
          "dtype": "f4"
         },
         "z": {
          "bdata": "HlC9vg==",
          "dtype": "f4"
         }
        },
        {
         "hovertemplate": "color=tyrion<br>0=%{x}<br>1=%{y}<br>2=%{z}<extra></extra>",
         "legendgroup": "tyrion",
         "marker": {
          "color": "#B6E880",
          "symbol": "circle"
         },
         "mode": "markers",
         "name": "tyrion",
         "scene": "scene",
         "showlegend": true,
         "type": "scatter3d",
         "x": {
          "bdata": "+RChPQ==",
          "dtype": "f4"
         },
         "y": {
          "bdata": "4BgsPg==",
          "dtype": "f4"
         },
         "z": {
          "bdata": "XuaePg==",
          "dtype": "f4"
         }
        },
        {
         "hovertemplate": "color=never<br>0=%{x}<br>1=%{y}<br>2=%{z}<extra></extra>",
         "legendgroup": "never",
         "marker": {
          "color": "#FF97FF",
          "symbol": "circle"
         },
         "mode": "markers",
         "name": "never",
         "scene": "scene",
         "showlegend": true,
         "type": "scatter3d",
         "x": {
          "bdata": "wGDiPg==",
          "dtype": "f4"
         },
         "y": {
          "bdata": "mq84Pg==",
          "dtype": "f4"
         },
         "z": {
          "bdata": "BP7+vQ==",
          "dtype": "f4"
         }
        },
        {
         "hovertemplate": "color=know<br>0=%{x}<br>1=%{y}<br>2=%{z}<extra></extra>",
         "legendgroup": "know",
         "marker": {
          "color": "#FECB52",
          "symbol": "circle"
         },
         "mode": "markers",
         "name": "know",
         "scene": "scene",
         "showlegend": true,
         "type": "scatter3d",
         "x": {
          "bdata": "XOcoPw==",
          "dtype": "f4"
         },
         "y": {
          "bdata": "0EyLPQ==",
          "dtype": "f4"
         },
         "z": {
          "bdata": "wgIjvg==",
          "dtype": "f4"
         }
        },
        {
         "hovertemplate": "color=see<br>0=%{x}<br>1=%{y}<br>2=%{z}<extra></extra>",
         "legendgroup": "see",
         "marker": {
          "color": "#636efa",
          "symbol": "circle"
         },
         "mode": "markers",
         "name": "see",
         "scene": "scene",
         "showlegend": true,
         "type": "scatter3d",
         "x": {
          "bdata": "8NOdPQ==",
          "dtype": "f4"
         },
         "y": {
          "bdata": "WAAOPQ==",
          "dtype": "f4"
         },
         "z": {
          "bdata": "BJIDvg==",
          "dtype": "f4"
         }
        },
        {
         "hovertemplate": "color=made<br>0=%{x}<br>1=%{y}<br>2=%{z}<extra></extra>",
         "legendgroup": "made",
         "marker": {
          "color": "#EF553B",
          "symbol": "circle"
         },
         "mode": "markers",
         "name": "made",
         "scene": "scene",
         "showlegend": true,
         "type": "scatter3d",
         "x": {
          "bdata": "j2aovQ==",
          "dtype": "f4"
         },
         "y": {
          "bdata": "DPW9PQ==",
          "dtype": "f4"
         },
         "z": {
          "bdata": "wFU+vQ==",
          "dtype": "f4"
         }
        },
        {
         "hovertemplate": "color=eyes<br>0=%{x}<br>1=%{y}<br>2=%{z}<extra></extra>",
         "legendgroup": "eyes",
         "marker": {
          "color": "#00cc96",
          "symbol": "circle"
         },
         "mode": "markers",
         "name": "eyes",
         "scene": "scene",
         "showlegend": true,
         "type": "scatter3d",
         "x": {
          "bdata": "2heIvg==",
          "dtype": "f4"
         },
         "y": {
          "bdata": "OK8nPg==",
          "dtype": "f4"
         },
         "z": {
          "bdata": "UkyHPg==",
          "dtype": "f4"
         }
        },
        {
         "hovertemplate": "color=black<br>0=%{x}<br>1=%{y}<br>2=%{z}<extra></extra>",
         "legendgroup": "black",
         "marker": {
          "color": "#ab63fa",
          "symbol": "circle"
         },
         "mode": "markers",
         "name": "black",
         "scene": "scene",
         "showlegend": true,
         "type": "scatter3d",
         "x": {
          "bdata": "tgPkvg==",
          "dtype": "f4"
         },
         "y": {
          "bdata": "sZ/ivg==",
          "dtype": "f4"
         },
         "z": {
          "bdata": "PnrwPQ==",
          "dtype": "f4"
         }
        },
        {
         "hovertemplate": "color=told<br>0=%{x}<br>1=%{y}<br>2=%{z}<extra></extra>",
         "legendgroup": "told",
         "marker": {
          "color": "#FFA15A",
          "symbol": "circle"
         },
         "mode": "markers",
         "name": "told",
         "scene": "scene",
         "showlegend": true,
         "type": "scatter3d",
         "x": {
          "bdata": "nawBPw==",
          "dtype": "f4"
         },
         "y": {
          "bdata": "kH57PA==",
          "dtype": "f4"
         },
         "z": {
          "bdata": "ZEAvvQ==",
          "dtype": "f4"
         }
        },
        {
         "hovertemplate": "color=lady<br>0=%{x}<br>1=%{y}<br>2=%{z}<extra></extra>",
         "legendgroup": "lady",
         "marker": {
          "color": "#19d3f3",
          "symbol": "circle"
         },
         "mode": "markers",
         "name": "lady",
         "scene": "scene",
         "showlegend": true,
         "type": "scatter3d",
         "x": {
          "bdata": "mybjPg==",
          "dtype": "f4"
         },
         "y": {
          "bdata": "x2jQvg==",
          "dtype": "f4"
         },
         "z": {
          "bdata": "Nt8FPw==",
          "dtype": "f4"
         }
        },
        {
         "hovertemplate": "color=thought<br>0=%{x}<br>1=%{y}<br>2=%{z}<extra></extra>",
         "legendgroup": "thought",
         "marker": {
          "color": "#FF6692",
          "symbol": "circle"
         },
         "mode": "markers",
         "name": "thought",
         "scene": "scene",
         "showlegend": true,
         "type": "scatter3d",
         "x": {
          "bdata": "rHORPg==",
          "dtype": "f4"
         },
         "y": {
          "bdata": "3B9JPg==",
          "dtype": "f4"
         },
         "z": {
          "bdata": "RF+kvQ==",
          "dtype": "f4"
         }
        },
        {
         "hovertemplate": "color=time<br>0=%{x}<br>1=%{y}<br>2=%{z}<extra></extra>",
         "legendgroup": "time",
         "marker": {
          "color": "#B6E880",
          "symbol": "circle"
         },
         "mode": "markers",
         "name": "time",
         "scene": "scene",
         "showlegend": true,
         "type": "scatter3d",
         "x": {
          "bdata": "1B0DPQ==",
          "dtype": "f4"
         },
         "y": {
          "bdata": "wPIAOw==",
          "dtype": "f4"
         },
         "z": {
          "bdata": "ws8vvg==",
          "dtype": "f4"
         }
        },
        {
         "hovertemplate": "color=long<br>0=%{x}<br>1=%{y}<br>2=%{z}<extra></extra>",
         "legendgroup": "long",
         "marker": {
          "color": "#FF97FF",
          "symbol": "circle"
         },
         "mode": "markers",
         "name": "long",
         "scene": "scene",
         "showlegend": true,
         "type": "scatter3d",
         "x": {
          "bdata": "1uyJvg==",
          "dtype": "f4"
         },
         "y": {
          "bdata": "IamYvg==",
          "dtype": "f4"
         },
         "z": {
          "bdata": "1l9Cvg==",
          "dtype": "f4"
         }
        },
        {
         "hovertemplate": "color=might<br>0=%{x}<br>1=%{y}<br>2=%{z}<extra></extra>",
         "legendgroup": "might",
         "marker": {
          "color": "#FECB52",
          "symbol": "circle"
         },
         "mode": "markers",
         "name": "might",
         "scene": "scene",
         "showlegend": true,
         "type": "scatter3d",
         "x": {
          "bdata": "KP0SPw==",
          "dtype": "f4"
         },
         "y": {
          "bdata": "4E1gPQ==",
          "dtype": "f4"
         },
         "z": {
          "bdata": "WslGvg==",
          "dtype": "f4"
         }
        },
        {
         "hovertemplate": "color=us<br>0=%{x}<br>1=%{y}<br>2=%{z}<extra></extra>",
         "legendgroup": "us",
         "marker": {
          "color": "#636efa",
          "symbol": "circle"
         },
         "mode": "markers",
         "name": "us",
         "scene": "scene",
         "showlegend": true,
         "type": "scatter3d",
         "x": {
          "bdata": "9qYOPw==",
          "dtype": "f4"
         },
         "y": {
          "bdata": "LnNXvg==",
          "dtype": "f4"
         },
         "z": {
          "bdata": "friDvg==",
          "dtype": "f4"
         }
        },
        {
         "hovertemplate": "color=come<br>0=%{x}<br>1=%{y}<br>2=%{z}<extra></extra>",
         "legendgroup": "come",
         "marker": {
          "color": "#EF553B",
          "symbol": "circle"
         },
         "mode": "markers",
         "name": "come",
         "scene": "scene",
         "showlegend": true,
         "type": "scatter3d",
         "x": {
          "bdata": "s0DGPg==",
          "dtype": "f4"
         },
         "y": {
          "bdata": "mxEMvg==",
          "dtype": "f4"
         },
         "z": {
          "bdata": "b7bavg==",
          "dtype": "f4"
         }
        },
        {
         "hovertemplate": "color=still<br>0=%{x}<br>1=%{y}<br>2=%{z}<extra></extra>",
         "legendgroup": "still",
         "marker": {
          "color": "#00cc96",
          "symbol": "circle"
         },
         "mode": "markers",
         "name": "still",
         "scene": "scene",
         "showlegend": true,
         "type": "scatter3d",
         "x": {
          "bdata": "IXnYvQ==",
          "dtype": "f4"
         },
         "y": {
          "bdata": "9r/cvQ==",
          "dtype": "f4"
         },
         "z": {
          "bdata": "ULeSvg==",
          "dtype": "f4"
         }
        },
        {
         "hovertemplate": "color=face<br>0=%{x}<br>1=%{y}<br>2=%{z}<extra></extra>",
         "legendgroup": "face",
         "marker": {
          "color": "#ab63fa",
          "symbol": "circle"
         },
         "mode": "markers",
         "name": "face",
         "scene": "scene",
         "showlegend": true,
         "type": "scatter3d",
         "x": {
          "bdata": "vJO0vg==",
          "dtype": "f4"
         },
         "y": {
          "bdata": "BHtmPg==",
          "dtype": "f4"
         },
         "z": {
          "bdata": "ahvXPg==",
          "dtype": "f4"
         }
        },
        {
         "hovertemplate": "color=head<br>0=%{x}<br>1=%{y}<br>2=%{z}<extra></extra>",
         "legendgroup": "head",
         "marker": {
          "color": "#FFA15A",
          "symbol": "circle"
         },
         "mode": "markers",
         "name": "head",
         "scene": "scene",
         "showlegend": true,
         "type": "scatter3d",
         "x": {
          "bdata": "iNGyvg==",
          "dtype": "f4"
         },
         "y": {
          "bdata": "IP/KPA==",
          "dtype": "f4"
         },
         "z": {
          "bdata": "WrMOPw==",
          "dtype": "f4"
         }
        },
        {
         "hovertemplate": "color=red<br>0=%{x}<br>1=%{y}<br>2=%{z}<extra></extra>",
         "legendgroup": "red",
         "marker": {
          "color": "#19d3f3",
          "symbol": "circle"
         },
         "mode": "markers",
         "name": "red",
         "scene": "scene",
         "showlegend": true,
         "type": "scatter3d",
         "x": {
          "bdata": "FM60vg==",
          "dtype": "f4"
         },
         "y": {
          "bdata": "8V/Dvg==",
          "dtype": "f4"
         },
         "z": {
          "bdata": "pkiUPg==",
          "dtype": "f4"
         }
        },
        {
         "hovertemplate": "color=way<br>0=%{x}<br>1=%{y}<br>2=%{z}<extra></extra>",
         "legendgroup": "way",
         "marker": {
          "color": "#FF6692",
          "symbol": "circle"
         },
         "mode": "markers",
         "name": "way",
         "scene": "scene",
         "showlegend": true,
         "type": "scatter3d",
         "x": {
          "bdata": "+wfCvQ==",
          "dtype": "f4"
         },
         "y": {
          "bdata": "AK76vA==",
          "dtype": "f4"
         },
         "z": {
          "bdata": "H1qPvg==",
          "dtype": "f4"
         }
        },
        {
         "hovertemplate": "color=boy<br>0=%{x}<br>1=%{y}<br>2=%{z}<extra></extra>",
         "legendgroup": "boy",
         "marker": {
          "color": "#B6E880",
          "symbol": "circle"
         },
         "mode": "markers",
         "name": "boy",
         "scene": "scene",
         "showlegend": true,
         "type": "scatter3d",
         "x": {
          "bdata": "3QqZPg==",
          "dtype": "f4"
         },
         "y": {
          "bdata": "IH45vg==",
          "dtype": "f4"
         },
         "z": {
          "bdata": "S4rgPg==",
          "dtype": "f4"
         }
        },
        {
         "hovertemplate": "color=page<br>0=%{x}<br>1=%{y}<br>2=%{z}<extra></extra>",
         "legendgroup": "page",
         "marker": {
          "color": "#FF97FF",
          "symbol": "circle"
         },
         "mode": "markers",
         "name": "page",
         "scene": "scene",
         "showlegend": true,
         "type": "scatter3d",
         "x": {
          "bdata": "DkcZPg==",
          "dtype": "f4"
         },
         "y": {
          "bdata": "Dxg4vg==",
          "dtype": "f4"
         },
         "z": {
          "bdata": "hN6aPg==",
          "dtype": "f4"
         }
        },
        {
         "hovertemplate": "color=must<br>0=%{x}<br>1=%{y}<br>2=%{z}<extra></extra>",
         "legendgroup": "must",
         "marker": {
          "color": "#FECB52",
          "symbol": "circle"
         },
         "mode": "markers",
         "name": "must",
         "scene": "scene",
         "showlegend": true,
         "type": "scatter3d",
         "x": {
          "bdata": "dyQgPw==",
          "dtype": "f4"
         },
         "y": {
          "bdata": "kB9wvQ==",
          "dtype": "f4"
         },
         "z": {
          "bdata": "ctVdvg==",
          "dtype": "f4"
         }
        },
        {
         "hovertemplate": "color=queen<br>0=%{x}<br>1=%{y}<br>2=%{z}<extra></extra>",
         "legendgroup": "queen",
         "marker": {
          "color": "#636efa",
          "symbol": "circle"
         },
         "mode": "markers",
         "name": "queen",
         "scene": "scene",
         "showlegend": true,
         "type": "scatter3d",
         "x": {
          "bdata": "MHzoPg==",
          "dtype": "f4"
         },
         "y": {
          "bdata": "FXOTvg==",
          "dtype": "f4"
         },
         "z": {
          "bdata": "jV+TPg==",
          "dtype": "f4"
         }
        },
        {
         "hovertemplate": "color=good<br>0=%{x}<br>1=%{y}<br>2=%{z}<extra></extra>",
         "legendgroup": "good",
         "marker": {
          "color": "#EF553B",
          "symbol": "circle"
         },
         "mode": "markers",
         "name": "good",
         "scene": "scene",
         "showlegend": true,
         "type": "scatter3d",
         "x": {
          "bdata": "YZj2Pg==",
          "dtype": "f4"
         },
         "y": {
          "bdata": "0DR4PQ==",
          "dtype": "f4"
         },
         "z": {
          "bdata": "kBXJvQ==",
          "dtype": "f4"
         }
        },
        {
         "hovertemplate": "color=two<br>0=%{x}<br>1=%{y}<br>2=%{z}<extra></extra>",
         "legendgroup": "two",
         "marker": {
          "color": "#00cc96",
          "symbol": "circle"
         },
         "mode": "markers",
         "name": "two",
         "scene": "scene",
         "showlegend": true,
         "type": "scatter3d",
         "x": {
          "bdata": "2qA1vg==",
          "dtype": "f4"
         },
         "y": {
          "bdata": "nPwivw==",
          "dtype": "f4"
         },
         "z": {
          "bdata": "sqbKvQ==",
          "dtype": "f4"
         }
        },
        {
         "hovertemplate": "color=brother<br>0=%{x}<br>1=%{y}<br>2=%{z}<extra></extra>",
         "legendgroup": "brother",
         "marker": {
          "color": "#ab63fa",
          "symbol": "circle"
         },
         "mode": "markers",
         "name": "brother",
         "scene": "scene",
         "showlegend": true,
         "type": "scatter3d",
         "x": {
          "bdata": "zlMIPw==",
          "dtype": "f4"
         },
         "y": {
          "bdata": "Z6Hyvg==",
          "dtype": "f4"
         },
         "z": {
          "bdata": "CGHGPg==",
          "dtype": "f4"
         }
        },
        {
         "hovertemplate": "color=night<br>0=%{x}<br>1=%{y}<br>2=%{z}<extra></extra>",
         "legendgroup": "night",
         "marker": {
          "color": "#FFA15A",
          "symbol": "circle"
         },
         "mode": "markers",
         "name": "night",
         "scene": "scene",
         "showlegend": true,
         "type": "scatter3d",
         "x": {
          "bdata": "iEz0uw==",
          "dtype": "f4"
         },
         "y": {
          "bdata": "UwRBvg==",
          "dtype": "f4"
         },
         "z": {
          "bdata": "m3uBvg==",
          "dtype": "f4"
         }
        },
        {
         "hovertemplate": "color=little<br>0=%{x}<br>1=%{y}<br>2=%{z}<extra></extra>",
         "legendgroup": "little",
         "marker": {
          "color": "#19d3f3",
          "symbol": "circle"
         },
         "mode": "markers",
         "name": "little",
         "scene": "scene",
         "showlegend": true,
         "type": "scatter3d",
         "x": {
          "bdata": "w17uPQ==",
          "dtype": "f4"
         },
         "y": {
          "bdata": "SEIFPg==",
          "dtype": "f4"
         },
         "z": {
          "bdata": "FjLwPQ==",
          "dtype": "f4"
         }
        },
        {
         "hovertemplate": "color=took<br>0=%{x}<br>1=%{y}<br>2=%{z}<extra></extra>",
         "legendgroup": "took",
         "marker": {
          "color": "#FF6692",
          "symbol": "circle"
         },
         "mode": "markers",
         "name": "took",
         "scene": "scene",
         "showlegend": true,
         "type": "scatter3d",
         "x": {
          "bdata": "AE9Jug==",
          "dtype": "f4"
         },
         "y": {
          "bdata": "YBZZvg==",
          "dtype": "f4"
         },
         "z": {
          "bdata": "RBpWPg==",
          "dtype": "f4"
         }
        },
        {
         "hovertemplate": "color=came<br>0=%{x}<br>1=%{y}<br>2=%{z}<extra></extra>",
         "legendgroup": "came",
         "marker": {
          "color": "#B6E880",
          "symbol": "circle"
         },
         "mode": "markers",
         "name": "came",
         "scene": "scene",
         "showlegend": true,
         "type": "scatter3d",
         "x": {
          "bdata": "czKUvg==",
          "dtype": "f4"
         },
         "y": {
          "bdata": "Xgxuvg==",
          "dtype": "f4"
         },
         "z": {
          "bdata": "iz+mvg==",
          "dtype": "f4"
         }
        },
        {
         "hovertemplate": "color=though<br>0=%{x}<br>1=%{y}<br>2=%{z}<extra></extra>",
         "legendgroup": "though",
         "marker": {
          "color": "#FF97FF",
          "symbol": "circle"
         },
         "mode": "markers",
         "name": "though",
         "scene": "scene",
         "showlegend": true,
         "type": "scatter3d",
         "x": {
          "bdata": "FtJGPg==",
          "dtype": "f4"
         },
         "y": {
          "bdata": "/C4gPg==",
          "dtype": "f4"
         },
         "z": {
          "bdata": "qroVvg==",
          "dtype": "f4"
         }
        },
        {
         "hovertemplate": "color=say<br>0=%{x}<br>1=%{y}<br>2=%{z}<extra></extra>",
         "legendgroup": "say",
         "marker": {
          "color": "#FECB52",
          "symbol": "circle"
         },
         "mode": "markers",
         "name": "say",
         "scene": "scene",
         "showlegend": true,
         "type": "scatter3d",
         "x": {
          "bdata": "hIUbPw==",
          "dtype": "f4"
         },
         "y": {
          "bdata": "noUkPg==",
          "dtype": "f4"
         },
         "z": {
          "bdata": "uJTovA==",
          "dtype": "f4"
         }
        },
        {
         "hovertemplate": "color=three<br>0=%{x}<br>1=%{y}<br>2=%{z}<extra></extra>",
         "legendgroup": "three",
         "marker": {
          "color": "#636efa",
          "symbol": "circle"
         },
         "mode": "markers",
         "name": "three",
         "scene": "scene",
         "showlegend": true,
         "type": "scatter3d",
         "x": {
          "bdata": "RvWYvQ==",
          "dtype": "f4"
         },
         "y": {
          "bdata": "dGQ5vw==",
          "dtype": "f4"
         },
         "z": {
          "bdata": "ypIgvg==",
          "dtype": "f4"
         }
        },
        {
         "hovertemplate": "color=away<br>0=%{x}<br>1=%{y}<br>2=%{z}<extra></extra>",
         "legendgroup": "away",
         "marker": {
          "color": "#EF553B",
          "symbol": "circle"
         },
         "mode": "markers",
         "name": "away",
         "scene": "scene",
         "showlegend": true,
         "type": "scatter3d",
         "x": {
          "bdata": "weiBvg==",
          "dtype": "f4"
         },
         "y": {
          "bdata": "sOL2PQ==",
          "dtype": "f4"
         },
         "z": {
          "bdata": "QNouvQ==",
          "dtype": "f4"
         }
        },
        {
         "hovertemplate": "color=dead<br>0=%{x}<br>1=%{y}<br>2=%{z}<extra></extra>",
         "legendgroup": "dead",
         "marker": {
          "color": "#00cc96",
          "symbol": "circle"
         },
         "mode": "markers",
         "name": "dead",
         "scene": "scene",
         "showlegend": true,
         "type": "scatter3d",
         "x": {
          "bdata": "xYlKPQ==",
          "dtype": "f4"
         },
         "y": {
          "bdata": "6is8vg==",
          "dtype": "f4"
         },
         "z": {
          "bdata": "MLI3vg==",
          "dtype": "f4"
         }
        },
        {
         "hovertemplate": "color=son<br>0=%{x}<br>1=%{y}<br>2=%{z}<extra></extra>",
         "legendgroup": "son",
         "marker": {
          "color": "#ab63fa",
          "symbol": "circle"
         },
         "mode": "markers",
         "name": "son",
         "scene": "scene",
         "showlegend": true,
         "type": "scatter3d",
         "x": {
          "bdata": "tIXhPg==",
          "dtype": "f4"
         },
         "y": {
          "bdata": "IA0uvw==",
          "dtype": "f4"
         },
         "z": {
          "bdata": "rC0FPw==",
          "dtype": "f4"
         }
        },
        {
         "hovertemplate": "color=blood<br>0=%{x}<br>1=%{y}<br>2=%{z}<extra></extra>",
         "legendgroup": "blood",
         "marker": {
          "color": "#FFA15A",
          "symbol": "circle"
         },
         "mode": "markers",
         "name": "blood",
         "scene": "scene",
         "showlegend": true,
         "type": "scatter3d",
         "x": {
          "bdata": "UgF7vg==",
          "dtype": "f4"
         },
         "y": {
          "bdata": "MCTwPQ==",
          "dtype": "f4"
         },
         "z": {
          "bdata": "KPMMPQ==",
          "dtype": "f4"
         }
        },
        {
         "hovertemplate": "color=take<br>0=%{x}<br>1=%{y}<br>2=%{z}<extra></extra>",
         "legendgroup": "take",
         "marker": {
          "color": "#19d3f3",
          "symbol": "circle"
         },
         "mode": "markers",
         "name": "take",
         "scene": "scene",
         "showlegend": true,
         "type": "scatter3d",
         "x": {
          "bdata": "WBXnPg==",
          "dtype": "f4"
         },
         "y": {
          "bdata": "ehABvg==",
          "dtype": "f4"
         },
         "z": {
          "bdata": "2NrcvQ==",
          "dtype": "f4"
         }
        },
        {
         "hovertemplate": "color=go<br>0=%{x}<br>1=%{y}<br>2=%{z}<extra></extra>",
         "legendgroup": "go",
         "marker": {
          "color": "#FF6692",
          "symbol": "circle"
         },
         "mode": "markers",
         "name": "go",
         "scene": "scene",
         "showlegend": true,
         "type": "scatter3d",
         "x": {
          "bdata": "d2aSPg==",
          "dtype": "f4"
         },
         "y": {
          "bdata": "XDYnPg==",
          "dtype": "f4"
         },
         "z": {
          "bdata": "RF2cvg==",
          "dtype": "f4"
         }
        },
        {
         "hovertemplate": "color=half<br>0=%{x}<br>1=%{y}<br>2=%{z}<extra></extra>",
         "legendgroup": "half",
         "marker": {
          "color": "#B6E880",
          "symbol": "circle"
         },
         "mode": "markers",
         "name": "half",
         "scene": "scene",
         "showlegend": true,
         "type": "scatter3d",
         "x": {
          "bdata": "qBt0vg==",
          "dtype": "f4"
         },
         "y": {
          "bdata": "glWHvg==",
          "dtype": "f4"
         },
         "z": {
          "bdata": "Pk12vg==",
          "dtype": "f4"
         }
        },
        {
         "hovertemplate": "color=make<br>0=%{x}<br>1=%{y}<br>2=%{z}<extra></extra>",
         "legendgroup": "make",
         "marker": {
          "color": "#FF97FF",
          "symbol": "circle"
         },
         "mode": "markers",
         "name": "make",
         "scene": "scene",
         "showlegend": true,
         "type": "scatter3d",
         "x": {
          "bdata": "tynoPg==",
          "dtype": "f4"
         },
         "y": {
          "bdata": "0pNPPg==",
          "dtype": "f4"
         },
         "z": {
          "bdata": "slFivg==",
          "dtype": "f4"
         }
        },
        {
         "hovertemplate": "color=arya<br>0=%{x}<br>1=%{y}<br>2=%{z}<extra></extra>",
         "legendgroup": "arya",
         "marker": {
          "color": "#FECB52",
          "symbol": "circle"
         },
         "mode": "markers",
         "name": "arya",
         "scene": "scene",
         "showlegend": true,
         "type": "scatter3d",
         "x": {
          "bdata": "FXL8vQ==",
          "dtype": "f4"
         },
         "y": {
          "bdata": "KIHJPg==",
          "dtype": "f4"
         },
         "z": {
          "bdata": "MLgCPA==",
          "dtype": "f4"
         }
        },
        {
         "hovertemplate": "color=saw<br>0=%{x}<br>1=%{y}<br>2=%{z}<extra></extra>",
         "legendgroup": "saw",
         "marker": {
          "color": "#636efa",
          "symbol": "circle"
         },
         "mode": "markers",
         "name": "saw",
         "scene": "scene",
         "showlegend": true,
         "type": "scatter3d",
         "x": {
          "bdata": "xNOtvg==",
          "dtype": "f4"
         },
         "y": {
          "bdata": "MDbQvQ==",
          "dtype": "f4"
         },
         "z": {
          "bdata": "iBe6PA==",
          "dtype": "f4"
         }
        },
        {
         "hovertemplate": "color=day<br>0=%{x}<br>1=%{y}<br>2=%{z}<extra></extra>",
         "legendgroup": "day",
         "marker": {
          "color": "#EF553B",
          "symbol": "circle"
         },
         "mode": "markers",
         "name": "day",
         "scene": "scene",
         "showlegend": true,
         "type": "scatter3d",
         "x": {
          "bdata": "2qO4PQ==",
          "dtype": "f4"
         },
         "y": {
          "bdata": "Psx/vg==",
          "dtype": "f4"
         },
         "z": {
          "bdata": "reKnvg==",
          "dtype": "f4"
         }
        },
        {
         "hovertemplate": "color=white<br>0=%{x}<br>1=%{y}<br>2=%{z}<extra></extra>",
         "legendgroup": "white",
         "marker": {
          "color": "#00cc96",
          "symbol": "circle"
         },
         "mode": "markers",
         "name": "white",
         "scene": "scene",
         "showlegend": true,
         "type": "scatter3d",
         "x": {
          "bdata": "zvLGvg==",
          "dtype": "f4"
         },
         "y": {
          "bdata": "4ZkEvw==",
          "dtype": "f4"
         },
         "z": {
          "bdata": "G4a9Pg==",
          "dtype": "f4"
         }
        },
        {
         "hovertemplate": "color=jaime<br>0=%{x}<br>1=%{y}<br>2=%{z}<extra></extra>",
         "legendgroup": "jaime",
         "marker": {
          "color": "#ab63fa",
          "symbol": "circle"
         },
         "mode": "markers",
         "name": "jaime",
         "scene": "scene",
         "showlegend": true,
         "type": "scatter3d",
         "x": {
          "bdata": "vpVPPg==",
          "dtype": "f4"
         },
         "y": {
          "bdata": "aDu+vQ==",
          "dtype": "f4"
         },
         "z": {
          "bdata": "a3zLPg==",
          "dtype": "f4"
         }
        },
        {
         "hovertemplate": "color=first<br>0=%{x}<br>1=%{y}<br>2=%{z}<extra></extra>",
         "legendgroup": "first",
         "marker": {
          "color": "#FFA15A",
          "symbol": "circle"
         },
         "mode": "markers",
         "name": "first",
         "scene": "scene",
         "showlegend": true,
         "type": "scatter3d",
         "x": {
          "bdata": "UqtFPg==",
          "dtype": "f4"
         },
         "y": {
          "bdata": "kOvLvg==",
          "dtype": "f4"
         },
         "z": {
          "bdata": "9lEtvg==",
          "dtype": "f4"
         }
        },
        {
         "hovertemplate": "color=look<br>0=%{x}<br>1=%{y}<br>2=%{z}<extra></extra>",
         "legendgroup": "look",
         "marker": {
          "color": "#19d3f3",
          "symbol": "circle"
         },
         "mode": "markers",
         "name": "look",
         "scene": "scene",
         "showlegend": true,
         "type": "scatter3d",
         "x": {
          "bdata": "LMnhOw==",
          "dtype": "f4"
         },
         "y": {
          "bdata": "hjWAPg==",
          "dtype": "f4"
         },
         "z": {
          "bdata": "MPlaPg==",
          "dtype": "f4"
         }
        },
        {
         "hovertemplate": "color=want<br>0=%{x}<br>1=%{y}<br>2=%{z}<extra></extra>",
         "legendgroup": "want",
         "marker": {
          "color": "#FF6692",
          "symbol": "circle"
         },
         "mode": "markers",
         "name": "want",
         "scene": "scene",
         "showlegend": true,
         "type": "scatter3d",
         "x": {
          "bdata": "1MAJPw==",
          "dtype": "f4"
         },
         "y": {
          "bdata": "Js1HPg==",
          "dtype": "f4"
         },
         "z": {
          "bdata": "aInvvQ==",
          "dtype": "f4"
         }
        },
        {
         "hovertemplate": "color=much<br>0=%{x}<br>1=%{y}<br>2=%{z}<extra></extra>",
         "legendgroup": "much",
         "marker": {
          "color": "#B6E880",
          "symbol": "circle"
         },
         "mode": "markers",
         "name": "much",
         "scene": "scene",
         "showlegend": true,
         "type": "scatter3d",
         "x": {
          "bdata": "juEBPw==",
          "dtype": "f4"
         },
         "y": {
          "bdata": "rLlbPg==",
          "dtype": "f4"
         },
         "z": {
          "bdata": "CllRvg==",
          "dtype": "f4"
         }
        },
        {
         "hovertemplate": "color=enough<br>0=%{x}<br>1=%{y}<br>2=%{z}<extra></extra>",
         "legendgroup": "enough",
         "marker": {
          "color": "#FF97FF",
          "symbol": "circle"
         },
         "mode": "markers",
         "name": "enough",
         "scene": "scene",
         "showlegend": true,
         "type": "scatter3d",
         "x": {
          "bdata": "GCI3Pg==",
          "dtype": "f4"
         },
         "y": {
          "bdata": "eLF0PQ==",
          "dtype": "f4"
         },
         "z": {
          "bdata": "6+mXvg==",
          "dtype": "f4"
         }
        },
        {
         "hovertemplate": "color=sword<br>0=%{x}<br>1=%{y}<br>2=%{z}<extra></extra>",
         "legendgroup": "sword",
         "marker": {
          "color": "#FECB52",
          "symbol": "circle"
         },
         "mode": "markers",
         "name": "sword",
         "scene": "scene",
         "showlegend": true,
         "type": "scatter3d",
         "x": {
          "bdata": "5Zr8vQ==",
          "dtype": "f4"
         },
         "y": {
          "bdata": "WtkZvg==",
          "dtype": "f4"
         },
         "z": {
          "bdata": "hp6LPg==",
          "dtype": "f4"
         }
        },
        {
         "hovertemplate": "color=tell<br>0=%{x}<br>1=%{y}<br>2=%{z}<extra></extra>",
         "legendgroup": "tell",
         "marker": {
          "color": "#636efa",
          "symbol": "circle"
         },
         "mode": "markers",
         "name": "tell",
         "scene": "scene",
         "showlegend": true,
         "type": "scatter3d",
         "x": {
          "bdata": "kCwkPw==",
          "dtype": "f4"
         },
         "y": {
          "bdata": "aL0lPg==",
          "dtype": "f4"
         },
         "z": {
          "bdata": "bF3ZvQ==",
          "dtype": "f4"
         }
        },
        {
         "hovertemplate": "color=girl<br>0=%{x}<br>1=%{y}<br>2=%{z}<extra></extra>",
         "legendgroup": "girl",
         "marker": {
          "color": "#EF553B",
          "symbol": "circle"
         },
         "mode": "markers",
         "name": "girl",
         "scene": "scene",
         "showlegend": true,
         "type": "scatter3d",
         "x": {
          "bdata": "bqqIPg==",
          "dtype": "f4"
         },
         "y": {
          "bdata": "AA43ug==",
          "dtype": "f4"
         },
         "z": {
          "bdata": "KXfBPg==",
          "dtype": "f4"
         }
        },
        {
         "hovertemplate": "color=bran<br>0=%{x}<br>1=%{y}<br>2=%{z}<extra></extra>",
         "legendgroup": "bran",
         "marker": {
          "color": "#00cc96",
          "symbol": "circle"
         },
         "mode": "markers",
         "name": "bran",
         "scene": "scene",
         "showlegend": true,
         "type": "scatter3d",
         "x": {
          "bdata": "h+WfvQ==",
          "dtype": "f4"
         },
         "y": {
          "bdata": "jh6fPg==",
          "dtype": "f4"
         },
         "z": {
          "bdata": "VOCUvQ==",
          "dtype": "f4"
         }
        },
        {
         "hovertemplate": "color=great<br>0=%{x}<br>1=%{y}<br>2=%{z}<extra></extra>",
         "legendgroup": "great",
         "marker": {
          "color": "#ab63fa",
          "symbol": "circle"
         },
         "mode": "markers",
         "name": "great",
         "scene": "scene",
         "showlegend": true,
         "type": "scatter3d",
         "x": {
          "bdata": "0nQdvg==",
          "dtype": "f4"
         },
         "y": {
          "bdata": "DhdKvw==",
          "dtype": "f4"
         },
         "z": {
          "bdata": "TMr1vQ==",
          "dtype": "f4"
         }
        },
        {
         "hovertemplate": "color=looked<br>0=%{x}<br>1=%{y}<br>2=%{z}<extra></extra>",
         "legendgroup": "looked",
         "marker": {
          "color": "#FFA15A",
          "symbol": "circle"
         },
         "mode": "markers",
         "name": "looked",
         "scene": "scene",
         "showlegend": true,
         "type": "scatter3d",
         "x": {
          "bdata": "0o9Ivg==",
          "dtype": "f4"
         },
         "y": {
          "bdata": "QCwTPQ==",
          "dtype": "f4"
         },
         "z": {
          "bdata": "HNqXPg==",
          "dtype": "f4"
         }
        },
        {
         "hovertemplate": "color=left<br>0=%{x}<br>1=%{y}<br>2=%{z}<extra></extra>",
         "legendgroup": "left",
         "marker": {
          "color": "#19d3f3",
          "symbol": "circle"
         },
         "mode": "markers",
         "name": "left",
         "scene": "scene",
         "showlegend": true,
         "type": "scatter3d",
         "x": {
          "bdata": "EKlnvg==",
          "dtype": "f4"
         },
         "y": {
          "bdata": "Snugvg==",
          "dtype": "f4"
         },
         "z": {
          "bdata": "WJBnPA==",
          "dtype": "f4"
         }
        },
        {
         "hovertemplate": "color=knew<br>0=%{x}<br>1=%{y}<br>2=%{z}<extra></extra>",
         "legendgroup": "knew",
         "marker": {
          "color": "#FF6692",
          "symbol": "circle"
         },
         "mode": "markers",
         "name": "knew",
         "scene": "scene",
         "showlegend": true,
         "type": "scatter3d",
         "x": {
          "bdata": "1O+mPg==",
          "dtype": "f4"
         },
         "y": {
          "bdata": "oAcXPg==",
          "dtype": "f4"
         },
         "z": {
          "bdata": "tQ6Pvg==",
          "dtype": "f4"
         }
        },
        {
         "hovertemplate": "color=asked<br>0=%{x}<br>1=%{y}<br>2=%{z}<extra></extra>",
         "legendgroup": "asked",
         "marker": {
          "color": "#B6E880",
          "symbol": "circle"
         },
         "mode": "markers",
         "name": "asked",
         "scene": "scene",
         "showlegend": true,
         "type": "scatter3d",
         "x": {
          "bdata": "KGz+Pg==",
          "dtype": "f4"
         },
         "y": {
          "bdata": "ABixuw==",
          "dtype": "f4"
         },
         "z": {
          "bdata": "ynakPg==",
          "dtype": "f4"
         }
        },
        {
         "hovertemplate": "color=gave<br>0=%{x}<br>1=%{y}<br>2=%{z}<extra></extra>",
         "legendgroup": "gave",
         "marker": {
          "color": "#FF97FF",
          "symbol": "circle"
         },
         "mode": "markers",
         "name": "gave",
         "scene": "scene",
         "showlegend": true,
         "type": "scatter3d",
         "x": {
          "bdata": "7KtTPQ==",
          "dtype": "f4"
         },
         "y": {
          "bdata": "oF46Pg==",
          "dtype": "f4"
         },
         "z": {
          "bdata": "qn8SPw==",
          "dtype": "f4"
         }
        },
        {
         "hovertemplate": "color=maester<br>0=%{x}<br>1=%{y}<br>2=%{z}<extra></extra>",
         "legendgroup": "maester",
         "marker": {
          "color": "#FECB52",
          "symbol": "circle"
         },
         "mode": "markers",
         "name": "maester",
         "scene": "scene",
         "showlegend": true,
         "type": "scatter3d",
         "x": {
          "bdata": "VjsqPg==",
          "dtype": "f4"
         },
         "y": {
          "bdata": "DgB/vg==",
          "dtype": "f4"
         },
         "z": {
          "bdata": "DsawPg==",
          "dtype": "f4"
         }
        },
        {
         "hovertemplate": "color=called<br>0=%{x}<br>1=%{y}<br>2=%{z}<extra></extra>",
         "legendgroup": "called",
         "marker": {
          "color": "#636efa",
          "symbol": "circle"
         },
         "mode": "markers",
         "name": "called",
         "scene": "scene",
         "showlegend": true,
         "type": "scatter3d",
         "x": {
          "bdata": "mPtePg==",
          "dtype": "f4"
         },
         "y": {
          "bdata": "7lEsvw==",
          "dtype": "f4"
         },
         "z": {
          "bdata": "dhntPg==",
          "dtype": "f4"
         }
        },
        {
         "hovertemplate": "color=wall<br>0=%{x}<br>1=%{y}<br>2=%{z}<extra></extra>",
         "legendgroup": "wall",
         "marker": {
          "color": "#EF553B",
          "symbol": "circle"
         },
         "mode": "markers",
         "name": "wall",
         "scene": "scene",
         "showlegend": true,
         "type": "scatter3d",
         "x": {
          "bdata": "Tktyvg==",
          "dtype": "f4"
         },
         "y": {
          "bdata": "I2a+vg==",
          "dtype": "f4"
         },
         "z": {
          "bdata": "xaflvg==",
          "dtype": "f4"
         }
        },
        {
         "hovertemplate": "color=every<br>0=%{x}<br>1=%{y}<br>2=%{z}<extra></extra>",
         "legendgroup": "every",
         "marker": {
          "color": "#00cc96",
          "symbol": "circle"
         },
         "mode": "markers",
         "name": "every",
         "scene": "scene",
         "showlegend": true,
         "type": "scatter3d",
         "x": {
          "bdata": "AV30vQ==",
          "dtype": "f4"
         },
         "y": {
          "bdata": "WgN/vg==",
          "dtype": "f4"
         },
         "z": {
          "bdata": "0QGUvg==",
          "dtype": "f4"
         }
        },
        {
         "hovertemplate": "color=heard<br>0=%{x}<br>1=%{y}<br>2=%{z}<extra></extra>",
         "legendgroup": "heard",
         "marker": {
          "color": "#ab63fa",
          "symbol": "circle"
         },
         "mode": "markers",
         "name": "heard",
         "scene": "scene",
         "showlegend": true,
         "type": "scatter3d",
         "x": {
          "bdata": "nDkuPQ==",
          "dtype": "f4"
         },
         "y": {
          "bdata": "6EClPQ==",
          "dtype": "f4"
         },
         "z": {
          "bdata": "RII8vg==",
          "dtype": "f4"
         }
        },
        {
         "hovertemplate": "color=sansa<br>0=%{x}<br>1=%{y}<br>2=%{z}<extra></extra>",
         "legendgroup": "sansa",
         "marker": {
          "color": "#FFA15A",
          "symbol": "circle"
         },
         "mode": "markers",
         "name": "sansa",
         "scene": "scene",
         "showlegend": true,
         "type": "scatter3d",
         "x": {
          "bdata": "UlFDPg==",
          "dtype": "f4"
         },
         "y": {
          "bdata": "liuTPg==",
          "dtype": "f4"
         },
         "z": {
          "bdata": "oOXHPg==",
          "dtype": "f4"
         }
        },
        {
         "hovertemplate": "color=let<br>0=%{x}<br>1=%{y}<br>2=%{z}<extra></extra>",
         "legendgroup": "let",
         "marker": {
          "color": "#19d3f3",
          "symbol": "circle"
         },
         "mode": "markers",
         "name": "let",
         "scene": "scene",
         "showlegend": true,
         "type": "scatter3d",
         "x": {
          "bdata": "7JFjPg==",
          "dtype": "f4"
         },
         "y": {
          "bdata": "UJhjPg==",
          "dtype": "f4"
         },
         "z": {
          "bdata": "3PgZvg==",
          "dtype": "f4"
         }
        },
        {
         "hovertemplate": "color=yet<br>0=%{x}<br>1=%{y}<br>2=%{z}<extra></extra>",
         "legendgroup": "yet",
         "marker": {
          "color": "#FF6692",
          "symbol": "circle"
         },
         "mode": "markers",
         "name": "yet",
         "scene": "scene",
         "showlegend": true,
         "type": "scatter3d",
         "x": {
          "bdata": "L4KFPg==",
          "dtype": "f4"
         },
         "y": {
          "bdata": "8GlnvA==",
          "dtype": "f4"
         },
         "z": {
          "bdata": "wOK0vg==",
          "dtype": "f4"
         }
        },
        {
         "hovertemplate": "color=went<br>0=%{x}<br>1=%{y}<br>2=%{z}<extra></extra>",
         "legendgroup": "went",
         "marker": {
          "color": "#B6E880",
          "symbol": "circle"
         },
         "mode": "markers",
         "name": "went",
         "scene": "scene",
         "showlegend": true,
         "type": "scatter3d",
         "x": {
          "bdata": "GEG9vg==",
          "dtype": "f4"
         },
         "y": {
          "bdata": "kKa2vQ==",
          "dtype": "f4"
         },
         "z": {
          "bdata": "wJnPvQ==",
          "dtype": "f4"
         }
        },
        {
         "hovertemplate": "color=turned<br>0=%{x}<br>1=%{y}<br>2=%{z}<extra></extra>",
         "legendgroup": "turned",
         "marker": {
          "color": "#FF97FF",
          "symbol": "circle"
         },
         "mode": "markers",
         "name": "turned",
         "scene": "scene",
         "showlegend": true,
         "type": "scatter3d",
         "x": {
          "bdata": "bC6Jvg==",
          "dtype": "f4"
         },
         "y": {
          "bdata": "aszJvQ==",
          "dtype": "f4"
         },
         "z": {
          "bdata": "pBiJPg==",
          "dtype": "f4"
         }
        },
        {
         "hovertemplate": "color=dany<br>0=%{x}<br>1=%{y}<br>2=%{z}<extra></extra>",
         "legendgroup": "dany",
         "marker": {
          "color": "#FECB52",
          "symbol": "circle"
         },
         "mode": "markers",
         "name": "dany",
         "scene": "scene",
         "showlegend": true,
         "type": "scatter3d",
         "x": {
          "bdata": "AfzMvQ==",
          "dtype": "f4"
         },
         "y": {
          "bdata": "hNsiPg==",
          "dtype": "f4"
         },
         "z": {
          "bdata": "kNqgvA==",
          "dtype": "f4"
         }
        },
        {
         "hovertemplate": "color=behind<br>0=%{x}<br>1=%{y}<br>2=%{z}<extra></extra>",
         "legendgroup": "behind",
         "marker": {
          "color": "#636efa",
          "symbol": "circle"
         },
         "mode": "markers",
         "name": "behind",
         "scene": "scene",
         "showlegend": true,
         "type": "scatter3d",
         "x": {
          "bdata": "HiQLvw==",
          "dtype": "f4"
         },
         "y": {
          "bdata": "E6rWvg==",
          "dtype": "f4"
         },
         "z": {
          "bdata": "CE95vQ==",
          "dtype": "f4"
         }
        },
        {
         "hovertemplate": "color=need<br>0=%{x}<br>1=%{y}<br>2=%{z}<extra></extra>",
         "legendgroup": "need",
         "marker": {
          "color": "#EF553B",
          "symbol": "circle"
         },
         "mode": "markers",
         "name": "need",
         "scene": "scene",
         "showlegend": true,
         "type": "scatter3d",
         "x": {
          "bdata": "iOXxPg==",
          "dtype": "f4"
         },
         "y": {
          "bdata": "eLdFvQ==",
          "dtype": "f4"
         },
         "z": {
          "bdata": "rXmXvg==",
          "dtype": "f4"
         }
        },
        {
         "hovertemplate": "color=around<br>0=%{x}<br>1=%{y}<br>2=%{z}<extra></extra>",
         "legendgroup": "around",
         "marker": {
          "color": "#00cc96",
          "symbol": "circle"
         },
         "mode": "markers",
         "name": "around",
         "scene": "scene",
         "showlegend": true,
         "type": "scatter3d",
         "x": {
          "bdata": "peJAvw==",
          "dtype": "f4"
         },
         "y": {
          "bdata": "lBL/vQ==",
          "dtype": "f4"
         },
         "z": {
          "bdata": "uCxivQ==",
          "dtype": "f4"
         }
        },
        {
         "hovertemplate": "color=woman<br>0=%{x}<br>1=%{y}<br>2=%{z}<extra></extra>",
         "legendgroup": "woman",
         "marker": {
          "color": "#ab63fa",
          "symbol": "circle"
         },
         "mode": "markers",
         "name": "woman",
         "scene": "scene",
         "showlegend": true,
         "type": "scatter3d",
         "x": {
          "bdata": "q6NePQ==",
          "dtype": "f4"
         },
         "y": {
          "bdata": "hFvYPQ==",
          "dtype": "f4"
         },
         "z": {
          "bdata": "INCUPg==",
          "dtype": "f4"
         }
        },
        {
         "hovertemplate": "color=another<br>0=%{x}<br>1=%{y}<br>2=%{z}<extra></extra>",
         "legendgroup": "another",
         "marker": {
          "color": "#FFA15A",
          "symbol": "circle"
         },
         "mode": "markers",
         "name": "another",
         "scene": "scene",
         "showlegend": true,
         "type": "scatter3d",
         "x": {
          "bdata": "AEOVOg==",
          "dtype": "f4"
         },
         "y": {
          "bdata": "8MRNvQ==",
          "dtype": "f4"
         },
         "z": {
          "bdata": "iiuzvQ==",
          "dtype": "f4"
         }
        },
        {
         "hovertemplate": "color=snow<br>0=%{x}<br>1=%{y}<br>2=%{z}<extra></extra>",
         "legendgroup": "snow",
         "marker": {
          "color": "#19d3f3",
          "symbol": "circle"
         },
         "mode": "markers",
         "name": "snow",
         "scene": "scene",
         "showlegend": true,
         "type": "scatter3d",
         "x": {
          "bdata": "WzmQvg==",
          "dtype": "f4"
         },
         "y": {
          "bdata": "aPqEvQ==",
          "dtype": "f4"
         },
         "z": {
          "bdata": "iJnxvA==",
          "dtype": "f4"
         }
        },
        {
         "hovertemplate": "color=beneath<br>0=%{x}<br>1=%{y}<br>2=%{z}<extra></extra>",
         "legendgroup": "beneath",
         "marker": {
          "color": "#FF6692",
          "symbol": "circle"
         },
         "mode": "markers",
         "name": "beneath",
         "scene": "scene",
         "showlegend": true,
         "type": "scatter3d",
         "x": {
          "bdata": "Sk08vw==",
          "dtype": "f4"
         },
         "y": {
          "bdata": "hiexvg==",
          "dtype": "f4"
         },
         "z": {
          "bdata": "8DXfvQ==",
          "dtype": "f4"
         }
        },
        {
         "hovertemplate": "color=across<br>0=%{x}<br>1=%{y}<br>2=%{z}<extra></extra>",
         "legendgroup": "across",
         "marker": {
          "color": "#B6E880",
          "symbol": "circle"
         },
         "mode": "markers",
         "name": "across",
         "scene": "scene",
         "showlegend": true,
         "type": "scatter3d",
         "x": {
          "bdata": "O+Yrvw==",
          "dtype": "f4"
         },
         "y": {
          "bdata": "k6Cvvg==",
          "dtype": "f4"
         },
         "z": {
          "bdata": "+OcKvQ==",
          "dtype": "f4"
         }
        },
        {
         "hovertemplate": "color=knight<br>0=%{x}<br>1=%{y}<br>2=%{z}<extra></extra>",
         "legendgroup": "knight",
         "marker": {
          "color": "#FF97FF",
          "symbol": "circle"
         },
         "mode": "markers",
         "name": "knight",
         "scene": "scene",
         "showlegend": true,
         "type": "scatter3d",
         "x": {
          "bdata": "ADF7Pg==",
          "dtype": "f4"
         },
         "y": {
          "bdata": "HjLsvg==",
          "dtype": "f4"
         },
         "z": {
          "bdata": "2ZgYPw==",
          "dtype": "f4"
         }
        },
        {
         "hovertemplate": "color=keep<br>0=%{x}<br>1=%{y}<br>2=%{z}<extra></extra>",
         "legendgroup": "keep",
         "marker": {
          "color": "#FECB52",
          "symbol": "circle"
         },
         "mode": "markers",
         "name": "keep",
         "scene": "scene",
         "showlegend": true,
         "type": "scatter3d",
         "x": {
          "bdata": "SJCpPQ==",
          "dtype": "f4"
         },
         "y": {
          "bdata": "4dtavg==",
          "dtype": "f4"
         },
         "z": {
          "bdata": "knKUvg==",
          "dtype": "f4"
         }
        }
       ],
       "layout": {
        "legend": {
         "title": {
          "text": "color"
         },
         "tracegroupgap": 0
        },
        "margin": {
         "t": 60
        },
        "scene": {
         "domain": {
          "x": [
           0,
           1
          ],
          "y": [
           0,
           1
          ]
         },
         "xaxis": {
          "title": {
           "text": "0"
          }
         },
         "yaxis": {
          "title": {
           "text": "1"
          }
         },
         "zaxis": {
          "title": {
           "text": "2"
          }
         }
        },
        "template": {
         "data": {
          "bar": [
           {
            "error_x": {
             "color": "#2a3f5f"
            },
            "error_y": {
             "color": "#2a3f5f"
            },
            "marker": {
             "line": {
              "color": "#E5ECF6",
              "width": 0.5
             },
             "pattern": {
              "fillmode": "overlay",
              "size": 10,
              "solidity": 0.2
             }
            },
            "type": "bar"
           }
          ],
          "barpolar": [
           {
            "marker": {
             "line": {
              "color": "#E5ECF6",
              "width": 0.5
             },
             "pattern": {
              "fillmode": "overlay",
              "size": 10,
              "solidity": 0.2
             }
            },
            "type": "barpolar"
           }
          ],
          "carpet": [
           {
            "aaxis": {
             "endlinecolor": "#2a3f5f",
             "gridcolor": "white",
             "linecolor": "white",
             "minorgridcolor": "white",
             "startlinecolor": "#2a3f5f"
            },
            "baxis": {
             "endlinecolor": "#2a3f5f",
             "gridcolor": "white",
             "linecolor": "white",
             "minorgridcolor": "white",
             "startlinecolor": "#2a3f5f"
            },
            "type": "carpet"
           }
          ],
          "choropleth": [
           {
            "colorbar": {
             "outlinewidth": 0,
             "ticks": ""
            },
            "type": "choropleth"
           }
          ],
          "contour": [
           {
            "colorbar": {
             "outlinewidth": 0,
             "ticks": ""
            },
            "colorscale": [
             [
              0,
              "#0d0887"
             ],
             [
              0.1111111111111111,
              "#46039f"
             ],
             [
              0.2222222222222222,
              "#7201a8"
             ],
             [
              0.3333333333333333,
              "#9c179e"
             ],
             [
              0.4444444444444444,
              "#bd3786"
             ],
             [
              0.5555555555555556,
              "#d8576b"
             ],
             [
              0.6666666666666666,
              "#ed7953"
             ],
             [
              0.7777777777777778,
              "#fb9f3a"
             ],
             [
              0.8888888888888888,
              "#fdca26"
             ],
             [
              1,
              "#f0f921"
             ]
            ],
            "type": "contour"
           }
          ],
          "contourcarpet": [
           {
            "colorbar": {
             "outlinewidth": 0,
             "ticks": ""
            },
            "type": "contourcarpet"
           }
          ],
          "heatmap": [
           {
            "colorbar": {
             "outlinewidth": 0,
             "ticks": ""
            },
            "colorscale": [
             [
              0,
              "#0d0887"
             ],
             [
              0.1111111111111111,
              "#46039f"
             ],
             [
              0.2222222222222222,
              "#7201a8"
             ],
             [
              0.3333333333333333,
              "#9c179e"
             ],
             [
              0.4444444444444444,
              "#bd3786"
             ],
             [
              0.5555555555555556,
              "#d8576b"
             ],
             [
              0.6666666666666666,
              "#ed7953"
             ],
             [
              0.7777777777777778,
              "#fb9f3a"
             ],
             [
              0.8888888888888888,
              "#fdca26"
             ],
             [
              1,
              "#f0f921"
             ]
            ],
            "type": "heatmap"
           }
          ],
          "histogram": [
           {
            "marker": {
             "pattern": {
              "fillmode": "overlay",
              "size": 10,
              "solidity": 0.2
             }
            },
            "type": "histogram"
           }
          ],
          "histogram2d": [
           {
            "colorbar": {
             "outlinewidth": 0,
             "ticks": ""
            },
            "colorscale": [
             [
              0,
              "#0d0887"
             ],
             [
              0.1111111111111111,
              "#46039f"
             ],
             [
              0.2222222222222222,
              "#7201a8"
             ],
             [
              0.3333333333333333,
              "#9c179e"
             ],
             [
              0.4444444444444444,
              "#bd3786"
             ],
             [
              0.5555555555555556,
              "#d8576b"
             ],
             [
              0.6666666666666666,
              "#ed7953"
             ],
             [
              0.7777777777777778,
              "#fb9f3a"
             ],
             [
              0.8888888888888888,
              "#fdca26"
             ],
             [
              1,
              "#f0f921"
             ]
            ],
            "type": "histogram2d"
           }
          ],
          "histogram2dcontour": [
           {
            "colorbar": {
             "outlinewidth": 0,
             "ticks": ""
            },
            "colorscale": [
             [
              0,
              "#0d0887"
             ],
             [
              0.1111111111111111,
              "#46039f"
             ],
             [
              0.2222222222222222,
              "#7201a8"
             ],
             [
              0.3333333333333333,
              "#9c179e"
             ],
             [
              0.4444444444444444,
              "#bd3786"
             ],
             [
              0.5555555555555556,
              "#d8576b"
             ],
             [
              0.6666666666666666,
              "#ed7953"
             ],
             [
              0.7777777777777778,
              "#fb9f3a"
             ],
             [
              0.8888888888888888,
              "#fdca26"
             ],
             [
              1,
              "#f0f921"
             ]
            ],
            "type": "histogram2dcontour"
           }
          ],
          "mesh3d": [
           {
            "colorbar": {
             "outlinewidth": 0,
             "ticks": ""
            },
            "type": "mesh3d"
           }
          ],
          "parcoords": [
           {
            "line": {
             "colorbar": {
              "outlinewidth": 0,
              "ticks": ""
             }
            },
            "type": "parcoords"
           }
          ],
          "pie": [
           {
            "automargin": true,
            "type": "pie"
           }
          ],
          "scatter": [
           {
            "fillpattern": {
             "fillmode": "overlay",
             "size": 10,
             "solidity": 0.2
            },
            "type": "scatter"
           }
          ],
          "scatter3d": [
           {
            "line": {
             "colorbar": {
              "outlinewidth": 0,
              "ticks": ""
             }
            },
            "marker": {
             "colorbar": {
              "outlinewidth": 0,
              "ticks": ""
             }
            },
            "type": "scatter3d"
           }
          ],
          "scattercarpet": [
           {
            "marker": {
             "colorbar": {
              "outlinewidth": 0,
              "ticks": ""
             }
            },
            "type": "scattercarpet"
           }
          ],
          "scattergeo": [
           {
            "marker": {
             "colorbar": {
              "outlinewidth": 0,
              "ticks": ""
             }
            },
            "type": "scattergeo"
           }
          ],
          "scattergl": [
           {
            "marker": {
             "colorbar": {
              "outlinewidth": 0,
              "ticks": ""
             }
            },
            "type": "scattergl"
           }
          ],
          "scattermap": [
           {
            "marker": {
             "colorbar": {
              "outlinewidth": 0,
              "ticks": ""
             }
            },
            "type": "scattermap"
           }
          ],
          "scattermapbox": [
           {
            "marker": {
             "colorbar": {
              "outlinewidth": 0,
              "ticks": ""
             }
            },
            "type": "scattermapbox"
           }
          ],
          "scatterpolar": [
           {
            "marker": {
             "colorbar": {
              "outlinewidth": 0,
              "ticks": ""
             }
            },
            "type": "scatterpolar"
           }
          ],
          "scatterpolargl": [
           {
            "marker": {
             "colorbar": {
              "outlinewidth": 0,
              "ticks": ""
             }
            },
            "type": "scatterpolargl"
           }
          ],
          "scatterternary": [
           {
            "marker": {
             "colorbar": {
              "outlinewidth": 0,
              "ticks": ""
             }
            },
            "type": "scatterternary"
           }
          ],
          "surface": [
           {
            "colorbar": {
             "outlinewidth": 0,
             "ticks": ""
            },
            "colorscale": [
             [
              0,
              "#0d0887"
             ],
             [
              0.1111111111111111,
              "#46039f"
             ],
             [
              0.2222222222222222,
              "#7201a8"
             ],
             [
              0.3333333333333333,
              "#9c179e"
             ],
             [
              0.4444444444444444,
              "#bd3786"
             ],
             [
              0.5555555555555556,
              "#d8576b"
             ],
             [
              0.6666666666666666,
              "#ed7953"
             ],
             [
              0.7777777777777778,
              "#fb9f3a"
             ],
             [
              0.8888888888888888,
              "#fdca26"
             ],
             [
              1,
              "#f0f921"
             ]
            ],
            "type": "surface"
           }
          ],
          "table": [
           {
            "cells": {
             "fill": {
              "color": "#EBF0F8"
             },
             "line": {
              "color": "white"
             }
            },
            "header": {
             "fill": {
              "color": "#C8D4E3"
             },
             "line": {
              "color": "white"
             }
            },
            "type": "table"
           }
          ]
         },
         "layout": {
          "annotationdefaults": {
           "arrowcolor": "#2a3f5f",
           "arrowhead": 0,
           "arrowwidth": 1
          },
          "autotypenumbers": "strict",
          "coloraxis": {
           "colorbar": {
            "outlinewidth": 0,
            "ticks": ""
           }
          },
          "colorscale": {
           "diverging": [
            [
             0,
             "#8e0152"
            ],
            [
             0.1,
             "#c51b7d"
            ],
            [
             0.2,
             "#de77ae"
            ],
            [
             0.3,
             "#f1b6da"
            ],
            [
             0.4,
             "#fde0ef"
            ],
            [
             0.5,
             "#f7f7f7"
            ],
            [
             0.6,
             "#e6f5d0"
            ],
            [
             0.7,
             "#b8e186"
            ],
            [
             0.8,
             "#7fbc41"
            ],
            [
             0.9,
             "#4d9221"
            ],
            [
             1,
             "#276419"
            ]
           ],
           "sequential": [
            [
             0,
             "#0d0887"
            ],
            [
             0.1111111111111111,
             "#46039f"
            ],
            [
             0.2222222222222222,
             "#7201a8"
            ],
            [
             0.3333333333333333,
             "#9c179e"
            ],
            [
             0.4444444444444444,
             "#bd3786"
            ],
            [
             0.5555555555555556,
             "#d8576b"
            ],
            [
             0.6666666666666666,
             "#ed7953"
            ],
            [
             0.7777777777777778,
             "#fb9f3a"
            ],
            [
             0.8888888888888888,
             "#fdca26"
            ],
            [
             1,
             "#f0f921"
            ]
           ],
           "sequentialminus": [
            [
             0,
             "#0d0887"
            ],
            [
             0.1111111111111111,
             "#46039f"
            ],
            [
             0.2222222222222222,
             "#7201a8"
            ],
            [
             0.3333333333333333,
             "#9c179e"
            ],
            [
             0.4444444444444444,
             "#bd3786"
            ],
            [
             0.5555555555555556,
             "#d8576b"
            ],
            [
             0.6666666666666666,
             "#ed7953"
            ],
            [
             0.7777777777777778,
             "#fb9f3a"
            ],
            [
             0.8888888888888888,
             "#fdca26"
            ],
            [
             1,
             "#f0f921"
            ]
           ]
          },
          "colorway": [
           "#636efa",
           "#EF553B",
           "#00cc96",
           "#ab63fa",
           "#FFA15A",
           "#19d3f3",
           "#FF6692",
           "#B6E880",
           "#FF97FF",
           "#FECB52"
          ],
          "font": {
           "color": "#2a3f5f"
          },
          "geo": {
           "bgcolor": "white",
           "lakecolor": "white",
           "landcolor": "#E5ECF6",
           "showlakes": true,
           "showland": true,
           "subunitcolor": "white"
          },
          "hoverlabel": {
           "align": "left"
          },
          "hovermode": "closest",
          "mapbox": {
           "style": "light"
          },
          "paper_bgcolor": "white",
          "plot_bgcolor": "#E5ECF6",
          "polar": {
           "angularaxis": {
            "gridcolor": "white",
            "linecolor": "white",
            "ticks": ""
           },
           "bgcolor": "#E5ECF6",
           "radialaxis": {
            "gridcolor": "white",
            "linecolor": "white",
            "ticks": ""
           }
          },
          "scene": {
           "xaxis": {
            "backgroundcolor": "#E5ECF6",
            "gridcolor": "white",
            "gridwidth": 2,
            "linecolor": "white",
            "showbackground": true,
            "ticks": "",
            "zerolinecolor": "white"
           },
           "yaxis": {
            "backgroundcolor": "#E5ECF6",
            "gridcolor": "white",
            "gridwidth": 2,
            "linecolor": "white",
            "showbackground": true,
            "ticks": "",
            "zerolinecolor": "white"
           },
           "zaxis": {
            "backgroundcolor": "#E5ECF6",
            "gridcolor": "white",
            "gridwidth": 2,
            "linecolor": "white",
            "showbackground": true,
            "ticks": "",
            "zerolinecolor": "white"
           }
          },
          "shapedefaults": {
           "line": {
            "color": "#2a3f5f"
           }
          },
          "ternary": {
           "aaxis": {
            "gridcolor": "white",
            "linecolor": "white",
            "ticks": ""
           },
           "baxis": {
            "gridcolor": "white",
            "linecolor": "white",
            "ticks": ""
           },
           "bgcolor": "#E5ECF6",
           "caxis": {
            "gridcolor": "white",
            "linecolor": "white",
            "ticks": ""
           }
          },
          "title": {
           "x": 0.05
          },
          "xaxis": {
           "automargin": true,
           "gridcolor": "white",
           "linecolor": "white",
           "ticks": "",
           "title": {
            "standoff": 15
           },
           "zerolinecolor": "white",
           "zerolinewidth": 2
          },
          "yaxis": {
           "automargin": true,
           "gridcolor": "white",
           "linecolor": "white",
           "ticks": "",
           "title": {
            "standoff": 15
           },
           "zerolinecolor": "white",
           "zerolinewidth": 2
          }
         }
        }
       }
      }
     },
     "metadata": {},
     "output_type": "display_data"
    }
   ],
   "source": [
    "## visualization\n",
    "!pip install plotly nbformat ipython jupyter\n",
    "\n",
    "import plotly.express as px\n",
    "fig = px.scatter_3d(X[:100],x=0,y=1,z=2,color=y[:100])\n",
    "fig.show()"
   ]
  }
 ],
 "metadata": {
  "kernelspec": {
   "display_name": "env",
   "language": "python",
   "name": "python3"
  },
  "language_info": {
   "codemirror_mode": {
    "name": "ipython",
    "version": 3
   },
   "file_extension": ".py",
   "mimetype": "text/x-python",
   "name": "python",
   "nbconvert_exporter": "python",
   "pygments_lexer": "ipython3",
   "version": "3.12.7"
  }
 },
 "nbformat": 4,
 "nbformat_minor": 5
}
